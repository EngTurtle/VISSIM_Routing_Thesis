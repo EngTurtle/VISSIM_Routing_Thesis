{
 "cells": [
  {
   "cell_type": "markdown",
   "metadata": {},
   "source": [
    "## Initiate the vissim instance"
   ]
  },
  {
   "cell_type": "code",
   "execution_count": 2,
   "metadata": {},
   "outputs": [],
   "source": [
    "# COM-Server\n",
    "import win32com.client as com\n",
    "import igraph\n",
    "import matplotlib.pyplot as plt"
   ]
  },
  {
   "cell_type": "markdown",
   "metadata": {},
   "source": [
    "Add autocompletion for VISSIM COM Object"
   ]
  },
  {
   "cell_type": "code",
   "execution_count": 3,
   "metadata": {},
   "outputs": [],
   "source": [
    "from IPython.utils.generics import complete_object\n",
    "\n",
    "@complete_object.register(com.DispatchBaseClass)\n",
    "def complete_dispatch_base_class(obj, prev_completions):\n",
    "    try:\n",
    "        ole_props = set(obj._prop_map_get_).union(set(obj._prop_map_put_))\n",
    "        return list(ole_props) + prev_completions\n",
    "    except AttributeError:\n",
    "        pass"
   ]
  },
  {
   "cell_type": "markdown",
   "metadata": {},
   "source": [
    "Start Vissim and load constants"
   ]
  },
  {
   "cell_type": "code",
   "execution_count": 4,
   "metadata": {},
   "outputs": [],
   "source": [
    "Vissim = com.gencache.EnsureDispatch(\"Vissim.Vissim\")\n",
    "from win32com.client import constants as c"
   ]
  },
  {
   "cell_type": "markdown",
   "metadata": {},
   "source": [
    "Load the test network"
   ]
  },
  {
   "cell_type": "code",
   "execution_count": 5,
   "metadata": {},
   "outputs": [],
   "source": [
    "FileName = r\"E:\\Thesis\\Inital test network\"\n",
    "Vissim.LoadNet(FileName + \".inpx\")\n",
    "Vissim.LoadLayout(FileName + \".layx\")"
   ]
  },
  {
   "cell_type": "code",
   "execution_count": 6,
   "metadata": {},
   "outputs": [],
   "source": [
    "Net = Vissim.Net\n",
    "Net.DynamicAssignment.CreateGraph(c.CGEdgeTypeDynamicAssignment);"
   ]
  },
  {
   "cell_type": "markdown",
   "metadata": {},
   "source": [
    "## Read the dynamic assignment nodes and edges"
   ]
  },
  {
   "cell_type": "code",
   "execution_count": 13,
   "metadata": {},
   "outputs": [],
   "source": [
    "edge0=Net.Edges.GetAll()[0]"
   ]
  },
  {
   "cell_type": "code",
   "execution_count": 44,
   "metadata": {},
   "outputs": [],
   "source": [
    "NodeAttributes = [att.Code for att in Net.Nodes.Attributes.GetAll()]\n",
    "EdgeAttributes = [att.Code for att in Net.Edges.Attributes.GetAll()]"
   ]
  },
  {
   "cell_type": "code",
   "execution_count": 46,
   "metadata": {},
   "outputs": [
    {
     "ename": "com_error",
     "evalue": "(-2147352567, 'Exception occurred.', (0, 'VISSIM.Vissim.900', 'CComNetObjCont::get_FilteredBy failed: An error occurred when trying to calculate formula \"IsTurn=0\": \"A variable ist not permitted:\"IsTurn\".\"', None, 0, -2147352567), None)",
     "output_type": "error",
     "traceback": [
      "\u001b[1;31m---------------------------------------------------------------------------\u001b[0m",
      "\u001b[1;31mcom_error\u001b[0m                                 Traceback (most recent call last)",
      "\u001b[1;32m<ipython-input-46-5a0630d6190b>\u001b[0m in \u001b[0;36m<module>\u001b[1;34m\u001b[0m\n\u001b[1;32m----> 1\u001b[1;33m \u001b[0mvis_edges\u001b[0m \u001b[1;33m=\u001b[0m \u001b[0mNet\u001b[0m\u001b[1;33m.\u001b[0m\u001b[0mEdges\u001b[0m\u001b[1;33m.\u001b[0m\u001b[0mFilteredBy\u001b[0m\u001b[1;33m(\u001b[0m\u001b[1;34m\"IsTurn=0\"\u001b[0m\u001b[1;33m)\u001b[0m\u001b[1;33m.\u001b[0m\u001b[0mGetMultipleAttributes\u001b[0m\u001b[1;33m(\u001b[0m\u001b[1;33m[\u001b[0m\u001b[1;34m'No'\u001b[0m\u001b[1;33m,\u001b[0m\u001b[1;34m'FromNode'\u001b[0m\u001b[1;33m,\u001b[0m\u001b[1;34m'ToNode'\u001b[0m\u001b[1;33m,\u001b[0m\u001b[1;34m'Length'\u001b[0m\u001b[1;33m,\u001b[0m\u001b[1;34m'IsTurn'\u001b[0m\u001b[1;33m]\u001b[0m\u001b[1;33m)\u001b[0m\u001b[1;33m\u001b[0m\u001b[1;33m\u001b[0m\u001b[0m\n\u001b[0m\u001b[0;32m      2\u001b[0m \u001b[0mvis_nodes\u001b[0m \u001b[1;33m=\u001b[0m \u001b[0mNet\u001b[0m\u001b[1;33m.\u001b[0m\u001b[0mNodes\u001b[0m\u001b[1;33m.\u001b[0m\u001b[0mGetMultipleAttributes\u001b[0m\u001b[1;33m(\u001b[0m\u001b[1;33m[\u001b[0m\u001b[1;34m'No'\u001b[0m\u001b[1;33m,\u001b[0m\u001b[1;34m'Name'\u001b[0m\u001b[1;33m]\u001b[0m\u001b[1;33m)\u001b[0m\u001b[1;33m\u001b[0m\u001b[1;33m\u001b[0m\u001b[0m\n",
      "\u001b[1;32m~\\AppData\\Local\\Temp\\gen_py\\3.6\\6331B57B-DCD4-4E00-9BFA-D97922D2B1ECx0x9x0.py\u001b[0m in \u001b[0;36mFilteredBy\u001b[1;34m(self, Formula)\u001b[0m\n\u001b[0;32m  12927\u001b[0m         \u001b[1;32mdef\u001b[0m \u001b[0mFilteredBy\u001b[0m\u001b[1;33m(\u001b[0m\u001b[0mself\u001b[0m\u001b[1;33m,\u001b[0m \u001b[0mFormula\u001b[0m\u001b[1;33m=\u001b[0m\u001b[0mdefaultNamedNotOptArg\u001b[0m\u001b[1;33m)\u001b[0m\u001b[1;33m:\u001b[0m\u001b[1;33m\u001b[0m\u001b[1;33m\u001b[0m\u001b[0m\n\u001b[0;32m  12928\u001b[0m                 \u001b[1;34m'Get collection of all objects for which the given formula returns true'\u001b[0m\u001b[1;33m\u001b[0m\u001b[1;33m\u001b[0m\u001b[0m\n\u001b[1;32m> 12929\u001b[1;33m \t\tret = self._oleobj_.InvokeTypes(1610743819, LCID, 2, (9, 0), ((8, 1),),Formula\n\u001b[0m\u001b[0;32m  12930\u001b[0m \t\t\t)\n\u001b[0;32m  12931\u001b[0m                 \u001b[1;32mif\u001b[0m \u001b[0mret\u001b[0m \u001b[1;32mis\u001b[0m \u001b[1;32mnot\u001b[0m \u001b[1;32mNone\u001b[0m\u001b[1;33m:\u001b[0m\u001b[1;33m\u001b[0m\u001b[1;33m\u001b[0m\u001b[0m\n",
      "\u001b[1;31mcom_error\u001b[0m: (-2147352567, 'Exception occurred.', (0, 'VISSIM.Vissim.900', 'CComNetObjCont::get_FilteredBy failed: An error occurred when trying to calculate formula \"IsTurn=0\": \"A variable ist not permitted:\"IsTurn\".\"', None, 0, -2147352567), None)"
     ]
    }
   ],
   "source": [
    "vis_edges = Net.Edges.FilteredBy(\"IsTurn=0\").GetMultipleAttributes(['No','FromNode','ToNode','Length','IsTurn'])\n",
    "vis_nodes = Net.Nodes.GetMultipleAttributes(['No','Name'])"
   ]
  },
  {
   "cell_type": "code",
   "execution_count": 45,
   "metadata": {},
   "outputs": [
    {
     "data": {
      "text/plain": [
       "['No',\n",
       " 'FromNode',\n",
       " 'ToNode',\n",
       " 'Type',\n",
       " 'IsTurn',\n",
       " 'Closed',\n",
       " 'FromEdges',\n",
       " 'ToEdges',\n",
       " 'Length',\n",
       " 'LinkSeq',\n",
       " 'LOSType',\n",
       " 'LOS',\n",
       " 'LOSVal',\n",
       " 'TravTmNew',\n",
       " 'TravTmOld',\n",
       " 'VolNew',\n",
       " 'VolOld',\n",
       " 'ConvTravTm',\n",
       " 'ConvVol',\n",
       " 'TravTmRaw',\n",
       " 'ExistsInScen']"
      ]
     },
     "execution_count": 45,
     "metadata": {},
     "output_type": "execute_result"
    }
   ],
   "source": [
    "EdgeAttributes"
   ]
  },
  {
   "cell_type": "markdown",
   "metadata": {},
   "source": [
    "convert the indexing from 1-index to 0-index"
   ]
  },
  {
   "cell_type": "markdown",
   "metadata": {},
   "source": [
    "### Convert the network to a igraph directed graph"
   ]
  },
  {
   "cell_type": "code",
   "execution_count": 10,
   "metadata": {},
   "outputs": [
    {
     "data": {
      "text/plain": [
       "[1, 2, 3, 4, 5, 6, 7]"
      ]
     },
     "execution_count": 10,
     "metadata": {},
     "output_type": "execute_result"
    }
   ],
   "source": [
    "network_graph = igraph.Graph()\n",
    "network_graph.add_nodes_from([(node[0],{'name':node[1]}) for node in vis_nodes])\n",
    "network_graph.add_edges_from([(int(edge[1]), int(edge[2]), edge[0], {'length':edge[3]}) for edge in vis_edges if not edge[4]])"
   ]
  },
  {
   "cell_type": "code",
   "execution_count": 14,
   "metadata": {},
   "outputs": [
    {
     "data": {
      "image/png": "[encoded data removed]",
      "text/plain": [
       "<Figure size 432x288 with 1 Axes>"
      ]
     },
     "metadata": {},
     "output_type": "display_data"
    }
   ],
   "source": [
    "nx.draw_networkx(network_graph)\n",
    "plt.show()"
   ]
  },
  {
   "cell_type": "code",
   "execution_count": 18,
   "metadata": {},
   "outputs": [
    {
     "data": {
      "text/plain": [
       "[(1, 2, {'length': 313.36294311506504}),\n",
       " (2, 3, {'length': 97.92742538856004}),\n",
       " (2, 4, {'length': 397.0004873093225}),\n",
       " (3, 4, {'length': 251.51398039394118}),\n",
       " (3, 5, {'length': 355.54824216605465}),\n",
       " (4, 5, {'length': 127.43448245769032}),\n",
       " (5, 6, {'length': 182.38195771661447})]"
      ]
     },
     "execution_count": 18,
     "metadata": {},
     "output_type": "execute_result"
    }
   ],
   "source": [
    "list(network_graph.edges(data=True))"
   ]
  },
  {
   "cell_type": "markdown",
   "metadata": {},
   "source": [
    "detach Vissim instance"
   ]
  },
  {
   "cell_type": "code",
   "execution_count": 47,
   "metadata": {},
   "outputs": [],
   "source": [
    "Vissim.Exit()\n",
    "del Vissim"
   ]
  }
 ],
 "metadata": {
  "kernelspec": {
   "display_name": "Python 3",
   "language": "python",
   "name": "python3"
  },
  "language_info": {
   "codemirror_mode": {
    "name": "ipython",
    "version": 3
   },
   "file_extension": ".py",
   "mimetype": "text/x-python",
   "name": "python",
   "nbconvert_exporter": "python",
   "pygments_lexer": "ipython3",
   "version": "3.6.8"
  }
 },
 "nbformat": 4,
 "nbformat_minor": 2
}

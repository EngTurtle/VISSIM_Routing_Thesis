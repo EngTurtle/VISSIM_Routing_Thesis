{
 "cells": [
  {
   "cell_type": "markdown",
   "metadata": {},
   "source": [
    "## Initiate the vissim instance"
   ]
  },
  {
   "cell_type": "code",
   "execution_count": 1,
   "metadata": {},
   "outputs": [],
   "source": [
    "# COM-Server\n",
    "import win32com.client as com\n",
    "import igraph\n",
    "import matplotlib.pyplot as plt\n",
    "import qgrid\n",
    "from VISSIM_helpers import VissimRoadNet"
   ]
  },
  {
   "cell_type": "markdown",
   "metadata": {},
   "source": [
    "Add autocompletion for VISSIM COM Object"
   ]
  },
  {
   "cell_type": "code",
   "execution_count": 2,
   "metadata": {},
   "outputs": [],
   "source": [
    "from IPython.utils.generics import complete_object\n",
    "\n",
    "@complete_object.register(com.DispatchBaseClass)\n",
    "def complete_dispatch_base_class(obj, prev_completions):\n",
    "    try:\n",
    "        ole_props = set(obj._prop_map_get_).union(set(obj._prop_map_put_))\n",
    "        return list(ole_props) + prev_completions\n",
    "    except AttributeError:\n",
    "        pass"
   ]
  },
  {
   "cell_type": "markdown",
   "metadata": {},
   "source": [
    "Start Vissim and load constants"
   ]
  },
  {
   "cell_type": "code",
   "execution_count": 3,
   "metadata": {},
   "outputs": [],
   "source": [
    "Vissim = com.gencache.EnsureDispatch(\"Vissim.Vissim\")\n",
    "from win32com.client import constants as c"
   ]
  },
  {
   "cell_type": "markdown",
   "metadata": {},
   "source": [
    "Load the test network"
   ]
  },
  {
   "cell_type": "code",
   "execution_count": 7,
   "metadata": {},
   "outputs": [],
   "source": [
    "FileName = r\"J:\\Thesis\\Urban Freeway Dyn Assign Redmond.US\\Original Files\\I405 OD.inpx\"\n",
    "Vissim.LoadNet(FileName)"
   ]
  },
  {
   "cell_type": "code",
   "execution_count": 8,
   "metadata": {},
   "outputs": [],
   "source": [
    "vis_net = Vissim.Net\n",
    "assert vis_net.DynamicAssignment.CreateGraph(c.CGEdgeTypeDynamicAssignment)"
   ]
  },
  {
   "cell_type": "markdown",
   "metadata": {},
   "source": [
    "## Read the dynamic assignment nodes and edges"
   ]
  },
  {
   "cell_type": "markdown",
   "metadata": {},
   "source": [
    "### Convert the network to a igraph directed graph"
   ]
  },
  {
   "cell_type": "code",
   "execution_count": 9,
   "metadata": {},
   "outputs": [],
   "source": [
    "network_graph = VissimRoadNet(vis_net)"
   ]
  },
  {
   "cell_type": "code",
   "execution_count": null,
   "metadata": {},
   "outputs": [],
   "source": [
    "igraph.plot(network_graph, vertex_label=['.'.join(name.split('.')[1:]) for name in network_graph.vs[\"name\"]], bbox=(0, 0, 300, 300))"
   ]
  },
  {
   "cell_type": "markdown",
   "metadata": {},
   "source": [
    "Save and display list of edges"
   ]
  },
  {
   "cell_type": "code",
   "execution_count": 12,
   "metadata": {},
   "outputs": [
    {
     "data": {
      "application/vnd.jupyter.widget-view+json": {
       "model_id": "0829138317cc4f9287ba407ae0da3209",
       "version_major": 2,
       "version_minor": 0
      },
      "text/plain": [
       "QgridWidget(grid_options={'fullWidthRows': True, 'syncColumnCellResize': True, 'forceFitColumns': True, 'defau…"
      ]
     },
     "metadata": {},
     "output_type": "display_data"
    }
   ],
   "source": [
    "network_graph.visedges.to_pickle(r\"J:\\Thesis\\Urban Freeway Dyn Assign Redmond.US\\edges_attr.pk1\")\n",
    "edges_widget = qgrid.show_grid(network_graph.visedges, show_toolbar=True)\n",
    "edges_widget"
   ]
  },
  {
   "cell_type": "markdown",
   "metadata": {},
   "source": [
    "detach Vissim instance"
   ]
  },
  {
   "cell_type": "code",
   "execution_count": null,
   "metadata": {},
   "outputs": [],
   "source": [
    "Vissim.Exit()\n",
    "del Vissim"
   ]
  }
 ],
 "metadata": {
  "kernelspec": {
   "display_name": "Python 3",
   "language": "python",
   "name": "python3"
  },
  "language_info": {
   "codemirror_mode": {
    "name": "ipython",
    "version": 3
   },
   "file_extension": ".py",
   "mimetype": "text/x-python",
   "name": "python",
   "nbconvert_exporter": "python",
   "pygments_lexer": "ipython3",
   "version": "3.7.3"
  },
  "widgets": {
   "application/vnd.jupyter.widget-state+json": {
    "state": {
     "0829138317cc4f9287ba407ae0da3209": {
      "model_module": "qgrid",
      "model_module_version": "1.1.1",
      "model_name": "QgridModel",
      "state": {
       "_columns": {
        "Closed": {
         "cssClass": "integer",
         "defaultSortAsc": true,
         "editable": true,
         "field": "Closed",
         "id": "Closed",
         "minWidth": 30,
         "name": "Closed",
         "position": 10,
         "resizable": true,
         "sortable": true,
         "toolTip": "",
         "type": "integer"
        },
        "DestinVertex": {
         "cssClass": "string",
         "defaultSortAsc": true,
         "editable": true,
         "field": "DestinVertex",
         "id": "DestinVertex",
         "minWidth": 30,
         "name": "DestinVertex",
         "position": 12,
         "resizable": true,
         "sortable": true,
         "toolTip": "",
         "type": "string"
        },
        "FromEdges": {
         "cssClass": "string",
         "defaultSortAsc": true,
         "editable": true,
         "field": "FromEdges",
         "id": "FromEdges",
         "minWidth": 30,
         "name": "FromEdges",
         "position": 4,
         "resizable": true,
         "sortable": true,
         "toolTip": "",
         "type": "string"
        },
        "FromNode": {
         "cssClass": "integer",
         "defaultSortAsc": true,
         "editable": true,
         "field": "FromNode",
         "id": "FromNode",
         "minWidth": 30,
         "name": "FromNode",
         "position": 2,
         "resizable": true,
         "sortable": true,
         "toolTip": "",
         "type": "integer"
        },
        "IsTurn": {
         "cssClass": "integer",
         "defaultSortAsc": true,
         "editable": true,
         "field": "IsTurn",
         "id": "IsTurn",
         "minWidth": 30,
         "name": "IsTurn",
         "position": 8,
         "resizable": true,
         "sortable": true,
         "toolTip": "",
         "type": "integer"
        },
        "Length": {
         "cssClass": "number",
         "defaultSortAsc": true,
         "editable": true,
         "field": "Length",
         "id": "Length",
         "minWidth": 30,
         "name": "Length",
         "position": 7,
         "resizable": true,
         "sortable": true,
         "toolTip": "",
         "type": "number"
        },
        "LinkSeq": {
         "cssClass": "string",
         "defaultSortAsc": true,
         "editable": true,
         "field": "LinkSeq",
         "id": "LinkSeq",
         "minWidth": 30,
         "name": "LinkSeq",
         "position": 6,
         "resizable": true,
         "sortable": true,
         "toolTip": "",
         "type": "string"
        },
        "No": {
         "cssClass": "integer first-idx-col idx-col first-idx-col idx-col",
         "defaultSortAsc": true,
         "editable": true,
         "field": "No",
         "first_index": true,
         "id": "No",
         "index_display_text": "No",
         "is_index": true,
         "level": 0,
         "minWidth": 30,
         "name": "No",
         "position": 0,
         "resizable": true,
         "sortable": true,
         "toolTip": "",
         "type": "integer"
        },
        "OriginVertex": {
         "cssClass": "string",
         "defaultSortAsc": true,
         "editable": true,
         "field": "OriginVertex",
         "id": "OriginVertex",
         "minWidth": 30,
         "name": "OriginVertex",
         "position": 11,
         "resizable": true,
         "sortable": true,
         "toolTip": "",
         "type": "string"
        },
        "ToEdges": {
         "cssClass": "string",
         "defaultSortAsc": true,
         "editable": true,
         "field": "ToEdges",
         "id": "ToEdges",
         "minWidth": 30,
         "name": "ToEdges",
         "position": 5,
         "resizable": true,
         "sortable": true,
         "toolTip": "",
         "type": "string"
        },
        "ToNode": {
         "cssClass": "integer",
         "defaultSortAsc": true,
         "editable": true,
         "field": "ToNode",
         "id": "ToNode",
         "minWidth": 30,
         "name": "ToNode",
         "position": 3,
         "resizable": true,
         "sortable": true,
         "toolTip": "",
         "type": "integer"
        },
        "Type": {
         "cssClass": "string",
         "defaultSortAsc": true,
         "editable": true,
         "field": "Type",
         "id": "Type",
         "minWidth": 30,
         "name": "Type",
         "position": 9,
         "resizable": true,
         "sortable": true,
         "toolTip": "",
         "type": "string"
        },
        "qgrid_unfiltered_index": {
         "cssClass": "integer",
         "defaultSortAsc": true,
         "editable": true,
         "field": "qgrid_unfiltered_index",
         "id": "qgrid_unfiltered_index",
         "maxWidth": null,
         "minWidth": 30,
         "name": "qgrid_unfiltered_index",
         "position": 1,
         "resizable": true,
         "sortable": true,
         "toolTip": "",
         "type": "integer",
         "width": null
        }
       },
       "_df_json": "{\"schema\": {\"fields\":[{\"name\":\"No\",\"type\":\"integer\"},{\"name\":\"qgrid_unfiltered_index\",\"type\":\"integer\"},{\"name\":\"FromNode\",\"type\":\"integer\"},{\"name\":\"ToNode\",\"type\":\"integer\"},{\"name\":\"FromEdges\",\"type\":\"string\"},{\"name\":\"ToEdges\",\"type\":\"string\"},{\"name\":\"LinkSeq\",\"type\":\"string\"},{\"name\":\"Length\",\"type\":\"number\"},{\"name\":\"IsTurn\",\"type\":\"integer\"},{\"name\":\"Type\",\"type\":\"string\"},{\"name\":\"Closed\",\"type\":\"integer\"},{\"name\":\"OriginVertex\",\"type\":\"string\"},{\"name\":\"DestinVertex\",\"type\":\"string\"}],\"primaryKey\":[\"No\"],\"pandas_version\":\"0.20.0\"}, \"data\": [{\"No\":1,\"qgrid_unfiltered_index\":0,\"FromNode\":36,\"ToNode\":2214,\"FromEdges\":\"484,486\",\"ToEdges\":\"618,619,620\",\"LinkSeq\":\"52\",\"Length\":285.0614,\"IsTurn\":0,\"Type\":\"DYNAMICASSIGNMENT\",\"Closed\":0,\"OriginVertex\":\"visnode.36.1\",\"DestinVertex\":\"visnode.2214.1\"},{\"No\":2,\"qgrid_unfiltered_index\":1,\"FromNode\":36,\"ToNode\":3851,\"FromEdges\":\"482,487\",\"ToEdges\":\"\",\"LinkSeq\":\"229\",\"Length\":813.99057,\"IsTurn\":0,\"Type\":\"DYNAMICASSIGNMENT\",\"Closed\":0,\"OriginVertex\":\"visnode.36.2\",\"DestinVertex\":\"visnode.3851.2\"},{\"No\":3,\"qgrid_unfiltered_index\":2,\"FromNode\":36,\"ToNode\":1000120,\"FromEdges\":\"483,485\",\"ToEdges\":\"1259,1260\",\"LinkSeq\":\"51,10933,601\",\"Length\":2285.58254,\"IsTurn\":0,\"Type\":\"DYNAMICASSIGNMENT\",\"Closed\":0,\"OriginVertex\":\"visnode.36.3\",\"DestinVertex\":\"visnode.1000120.3\"},{\"No\":4,\"qgrid_unfiltered_index\":3,\"FromNode\":45,\"ToNode\":1000066,\"FromEdges\":\"491,494,497\",\"ToEdges\":\"997,998\",\"LinkSeq\":\"258\",\"Length\":149.782,\"IsTurn\":0,\"Type\":\"DYNAMICASSIGNMENT\",\"Closed\":0,\"OriginVertex\":\"visnode.45.4\",\"DestinVertex\":\"visnode.1000066.4\"},{\"No\":5,\"qgrid_unfiltered_index\":4,\"FromNode\":45,\"ToNode\":1000069,\"FromEdges\":\"488,495,498\",\"ToEdges\":\"1017,1018,1019\",\"LinkSeq\":\"174\",\"Length\":76.7441,\"IsTurn\":0,\"Type\":\"DYNAMICASSIGNMENT\",\"Closed\":0,\"OriginVertex\":\"visnode.45.5\",\"DestinVertex\":\"visnode.1000069.5\"},{\"No\":6,\"qgrid_unfiltered_index\":5,\"FromNode\":45,\"ToNode\":1000070,\"FromEdges\":\"489,492,499\",\"ToEdges\":\"1025,1026\",\"LinkSeq\":\"260\",\"Length\":393.06088,\"IsTurn\":0,\"Type\":\"DYNAMICASSIGNMENT\",\"Closed\":0,\"OriginVertex\":\"visnode.45.6\",\"DestinVertex\":\"visnode.1000070.6\"},{\"No\":7,\"qgrid_unfiltered_index\":6,\"FromNode\":45,\"ToNode\":1000133,\"FromEdges\":\"490,493,496\",\"ToEdges\":\"1305,1306,1307\",\"LinkSeq\":\"178\",\"Length\":186.67611,\"IsTurn\":0,\"Type\":\"DYNAMICASSIGNMENT\",\"Closed\":0,\"OriginVertex\":\"visnode.45.7\",\"DestinVertex\":\"visnode.1000133.7\"},{\"No\":8,\"qgrid_unfiltered_index\":7,\"FromNode\":47,\"ToNode\":2053,\"FromEdges\":\"511\",\"ToEdges\":\"\",\"LinkSeq\":\"506\",\"Length\":381.5631,\"IsTurn\":0,\"Type\":\"DYNAMICASSIGNMENT\",\"Closed\":0,\"OriginVertex\":\"visnode.47.8\",\"DestinVertex\":\"visnode.2053.8\"},{\"No\":9,\"qgrid_unfiltered_index\":8,\"FromNode\":47,\"ToNode\":2713,\"FromEdges\":\"500,506,512,520\",\"ToEdges\":\"\",\"LinkSeq\":\"567\",\"Length\":339.73398,\"IsTurn\":0,\"Type\":\"DYNAMICASSIGNMENT\",\"Closed\":0,\"OriginVertex\":\"visnode.47.9\",\"DestinVertex\":\"visnode.2713.9\"},{\"No\":10,\"qgrid_unfiltered_index\":9,\"FromNode\":47,\"ToNode\":1000057,\"FromEdges\":\"513,517,521\",\"ToEdges\":\"936,937\",\"LinkSeq\":\"24\",\"Length\":465.06216,\"IsTurn\":0,\"Type\":\"DYNAMICASSIGNMENT\",\"Closed\":0,\"OriginVertex\":\"visnode.47.10\",\"DestinVertex\":\"visnode.1000057.10\"},{\"No\":11,\"qgrid_unfiltered_index\":10,\"FromNode\":47,\"ToNode\":1000058,\"FromEdges\":\"507,518,522\",\"ToEdges\":\"945,946,947\",\"LinkSeq\":\"156\",\"Length\":215.8805,\"IsTurn\":0,\"Type\":\"DYNAMICASSIGNMENT\",\"Closed\":0,\"OriginVertex\":\"visnode.47.11\",\"DestinVertex\":\"visnode.1000058.11\"},{\"No\":12,\"qgrid_unfiltered_index\":11,\"FromNode\":47,\"ToNode\":1000067,\"FromEdges\":\"501,504,508,514,523\",\"ToEdges\":\"1005\",\"LinkSeq\":\"154\",\"Length\":147.11715,\"IsTurn\":0,\"Type\":\"DYNAMICASSIGNMENT\",\"Closed\":0,\"OriginVertex\":\"visnode.47.12\",\"DestinVertex\":\"visnode.1000067.12\"},{\"No\":13,\"qgrid_unfiltered_index\":12,\"FromNode\":47,\"ToNode\":1000067,\"FromEdges\":\"502,505,509,515,524\",\"ToEdges\":\"1003,1004\",\"LinkSeq\":\"182\",\"Length\":147.60355,\"IsTurn\":0,\"Type\":\"DYNAMICASSIGNMENT\",\"Closed\":0,\"OriginVertex\":\"visnode.47.13\",\"DestinVertex\":\"visnode.1000067.13\"},{\"No\":14,\"qgrid_unfiltered_index\":13,\"FromNode\":47,\"ToNode\":1000104,\"FromEdges\":\"503,510,516,519\",\"ToEdges\":\"1211,1212,1213,1214\",\"LinkSeq\":\"23\",\"Length\":219.00054,\"IsTurn\":0,\"Type\":\"DYNAMICASSIGNMENT\",\"Closed\":0,\"OriginVertex\":\"visnode.47.14\",\"DestinVertex\":\"visnode.1000104.14\"},{\"No\":15,\"qgrid_unfiltered_index\":14,\"FromNode\":48,\"ToNode\":1000005,\"FromEdges\":\"528,531,534\",\"ToEdges\":\"\",\"LinkSeq\":\"131\",\"Length\":2346.70946,\"IsTurn\":0,\"Type\":\"DYNAMICASSIGNMENT\",\"Closed\":0,\"OriginVertex\":\"visnode.48.15\",\"DestinVertex\":\"visnode.1000005.15\"},{\"No\":16,\"qgrid_unfiltered_index\":15,\"FromNode\":48,\"ToNode\":1000020,\"FromEdges\":\"525,532,535\",\"ToEdges\":\"\",\"LinkSeq\":\"108\",\"Length\":2411.85949,\"IsTurn\":0,\"Type\":\"DYNAMICASSIGNMENT\",\"Closed\":0,\"OriginVertex\":\"visnode.48.16\",\"DestinVertex\":\"visnode.1000020.16\"},{\"No\":17,\"qgrid_unfiltered_index\":16,\"FromNode\":48,\"ToNode\":1000076,\"FromEdges\":\"526,529,536\",\"ToEdges\":\"1061,1062\",\"LinkSeq\":\"109\",\"Length\":225.72814,\"IsTurn\":0,\"Type\":\"DYNAMICASSIGNMENT\",\"Closed\":0,\"OriginVertex\":\"visnode.48.17\",\"DestinVertex\":\"visnode.1000076.17\"},{\"No\":18,\"qgrid_unfiltered_index\":17,\"FromNode\":48,\"ToNode\":1000077,\"FromEdges\":\"527,530,533\",\"ToEdges\":\"1067,1068\",\"LinkSeq\":\"135\",\"Length\":45.27729,\"IsTurn\":0,\"Type\":\"DYNAMICASSIGNMENT\",\"Closed\":0,\"OriginVertex\":\"visnode.48.18\",\"DestinVertex\":\"visnode.1000077.18\"},{\"No\":19,\"qgrid_unfiltered_index\":18,\"FromNode\":651,\"ToNode\":5059,\"FromEdges\":\"\",\"ToEdges\":\"642,643,644\",\"LinkSeq\":\"185\",\"Length\":2182.67797,\"IsTurn\":0,\"Type\":\"DYNAMICASSIGNMENT\",\"Closed\":0,\"OriginVertex\":\"visnode.651.19\",\"DestinVertex\":\"visnode.5059.19\"},{\"No\":20,\"qgrid_unfiltered_index\":19,\"FromNode\":681,\"ToNode\":1000055,\"FromEdges\":\"\",\"ToEdges\":\"924,925\",\"LinkSeq\":\"465\",\"Length\":1052.12063,\"IsTurn\":0,\"Type\":\"DYNAMICASSIGNMENT\",\"Closed\":0,\"OriginVertex\":\"visnode.681.20\",\"DestinVertex\":\"visnode.1000055.20\"},{\"No\":21,\"qgrid_unfiltered_index\":20,\"FromNode\":682,\"ToNode\":1000054,\"FromEdges\":\"\",\"ToEdges\":\"914,915\",\"LinkSeq\":\"473\",\"Length\":373.49758,\"IsTurn\":0,\"Type\":\"DYNAMICASSIGNMENT\",\"Closed\":0,\"OriginVertex\":\"visnode.682.21\",\"DestinVertex\":\"visnode.1000054.21\"},{\"No\":22,\"qgrid_unfiltered_index\":21,\"FromNode\":751,\"ToNode\":1000092,\"FromEdges\":\"\",\"ToEdges\":\"1130,1131\",\"LinkSeq\":\"272\",\"Length\":487.70823,\"IsTurn\":0,\"Type\":\"DYNAMICASSIGNMENT\",\"Closed\":0,\"OriginVertex\":\"visnode.751.22\",\"DestinVertex\":\"visnode.1000092.22\"},{\"No\":23,\"qgrid_unfiltered_index\":22,\"FromNode\":771,\"ToNode\":1000091,\"FromEdges\":\"\",\"ToEdges\":\"1124,1125\",\"LinkSeq\":\"517\",\"Length\":414.60592,\"IsTurn\":0,\"Type\":\"DYNAMICASSIGNMENT\",\"Closed\":0,\"OriginVertex\":\"visnode.771.23\",\"DestinVertex\":\"visnode.1000091.23\"},{\"No\":24,\"qgrid_unfiltered_index\":23,\"FromNode\":772,\"ToNode\":1000093,\"FromEdges\":\"\",\"ToEdges\":\"1136,1137\",\"LinkSeq\":\"594\",\"Length\":390.87345,\"IsTurn\":0,\"Type\":\"DYNAMICASSIGNMENT\",\"Closed\":0,\"OriginVertex\":\"visnode.772.24\",\"DestinVertex\":\"visnode.1000093.24\"},{\"No\":25,\"qgrid_unfiltered_index\":24,\"FromNode\":773,\"ToNode\":1000089,\"FromEdges\":\"\",\"ToEdges\":\"1112,1113,1114\",\"LinkSeq\":\"519\",\"Length\":415.22235,\"IsTurn\":0,\"Type\":\"DYNAMICASSIGNMENT\",\"Closed\":0,\"OriginVertex\":\"visnode.773.25\",\"DestinVertex\":\"visnode.1000089.25\"},{\"No\":26,\"qgrid_unfiltered_index\":25,\"FromNode\":781,\"ToNode\":1000083,\"FromEdges\":\"\",\"ToEdges\":\"1091,1092\",\"LinkSeq\":\"507\",\"Length\":448.90618,\"IsTurn\":0,\"Type\":\"DYNAMICASSIGNMENT\",\"Closed\":0,\"OriginVertex\":\"visnode.781.26\",\"DestinVertex\":\"visnode.1000083.26\"},{\"No\":27,\"qgrid_unfiltered_index\":26,\"FromNode\":782,\"ToNode\":1000089,\"FromEdges\":\"\",\"ToEdges\":\"1115,1116,1117\",\"LinkSeq\":\"511\",\"Length\":337.4879,\"IsTurn\":0,\"Type\":\"DYNAMICASSIGNMENT\",\"Closed\":0,\"OriginVertex\":\"visnode.782.27\",\"DestinVertex\":\"visnode.1000089.27\"},{\"No\":28,\"qgrid_unfiltered_index\":27,\"FromNode\":783,\"ToNode\":1754,\"FromEdges\":\"\",\"ToEdges\":\"537,538,539\",\"LinkSeq\":\"512\",\"Length\":435.39094,\"IsTurn\":0,\"Type\":\"DYNAMICASSIGNMENT\",\"Closed\":0,\"OriginVertex\":\"visnode.783.28\",\"DestinVertex\":\"visnode.1754.28\"},{\"No\":29,\"qgrid_unfiltered_index\":28,\"FromNode\":831,\"ToNode\":1000076,\"FromEdges\":\"\",\"ToEdges\":\"1063,1064\",\"LinkSeq\":\"534\",\"Length\":356.8153,\"IsTurn\":0,\"Type\":\"DYNAMICASSIGNMENT\",\"Closed\":0,\"OriginVertex\":\"visnode.831.29\",\"DestinVertex\":\"visnode.1000076.29\"},{\"No\":30,\"qgrid_unfiltered_index\":29,\"FromNode\":832,\"ToNode\":1000074,\"FromEdges\":\"\",\"ToEdges\":\"1049,1050\",\"LinkSeq\":\"541\",\"Length\":266.08167,\"IsTurn\":0,\"Type\":\"DYNAMICASSIGNMENT\",\"Closed\":0,\"OriginVertex\":\"visnode.832.30\",\"DestinVertex\":\"visnode.1000074.30\"},{\"No\":31,\"qgrid_unfiltered_index\":30,\"FromNode\":833,\"ToNode\":1000077,\"FromEdges\":\"\",\"ToEdges\":\"1069,1070\",\"LinkSeq\":\"538\",\"Length\":347.75004,\"IsTurn\":0,\"Type\":\"DYNAMICASSIGNMENT\",\"Closed\":0,\"OriginVertex\":\"visnode.833.31\",\"DestinVertex\":\"visnode.1000077.31\"},{\"No\":32,\"qgrid_unfiltered_index\":31,\"FromNode\":1754,\"ToNode\":783,\"FromEdges\":\"540,544,548,552\",\"ToEdges\":\"\",\"LinkSeq\":\"514\",\"Length\":434.89019,\"IsTurn\":0,\"Type\":\"DYNAMICASSIGNMENT\",\"Closed\":0,\"OriginVertex\":\"visnode.1754.32\",\"DestinVertex\":\"visnode.783.28\"},{\"No\":33,\"qgrid_unfiltered_index\":32,\"FromNode\":1754,\"ToNode\":1000009,\"FromEdges\":\"545,549,553\",\"ToEdges\":\"\",\"LinkSeq\":\"137\",\"Length\":1534.22318,\"IsTurn\":0,\"Type\":\"DYNAMICASSIGNMENT\",\"Closed\":0,\"OriginVertex\":\"visnode.1754.33\",\"DestinVertex\":\"visnode.1000009.33\"},{\"No\":34,\"qgrid_unfiltered_index\":33,\"FromNode\":1754,\"ToNode\":1000087,\"FromEdges\":\"537,541,550,554\",\"ToEdges\":\"1104,1105\",\"LinkSeq\":\"67,10039,71,10040,72\",\"Length\":373.21674,\"IsTurn\":0,\"Type\":\"DYNAMICASSIGNMENT\",\"Closed\":0,\"OriginVertex\":\"visnode.1754.34\",\"DestinVertex\":\"visnode.1000087.34\"},{\"No\":35,\"qgrid_unfiltered_index\":34,\"FromNode\":1754,\"ToNode\":1000091,\"FromEdges\":\"538,542,546,555\",\"ToEdges\":\"1126,1127\",\"LinkSeq\":\"136\",\"Length\":257.31633,\"IsTurn\":0,\"Type\":\"DYNAMICASSIGNMENT\",\"Closed\":0,\"OriginVertex\":\"visnode.1754.35\",\"DestinVertex\":\"visnode.1000091.35\"},{\"No\":36,\"qgrid_unfiltered_index\":35,\"FromNode\":1754,\"ToNode\":1000092,\"FromEdges\":\"539,543,547,551\",\"ToEdges\":\"1132,1133\",\"LinkSeq\":\"69\",\"Length\":190.93263,\"IsTurn\":0,\"Type\":\"DYNAMICASSIGNMENT\",\"Closed\":0,\"OriginVertex\":\"visnode.1754.36\",\"DestinVertex\":\"visnode.1000092.36\"},{\"No\":37,\"qgrid_unfiltered_index\":36,\"FromNode\":1755,\"ToNode\":1000022,\"FromEdges\":\"559,562,565\",\"ToEdges\":\"\",\"LinkSeq\":\"64,10036,65\",\"Length\":1392.35313,\"IsTurn\":0,\"Type\":\"DYNAMICASSIGNMENT\",\"Closed\":0,\"OriginVertex\":\"visnode.1755.37\",\"DestinVertex\":\"visnode.1000022.37\"},{\"No\":38,\"qgrid_unfiltered_index\":37,\"FromNode\":1755,\"ToNode\":1000092,\"FromEdges\":\"556,563,566\",\"ToEdges\":\"1134,1135\",\"LinkSeq\":\"56\",\"Length\":177.91582,\"IsTurn\":0,\"Type\":\"DYNAMICASSIGNMENT\",\"Closed\":0,\"OriginVertex\":\"visnode.1755.38\",\"DestinVertex\":\"visnode.1000092.38\"},{\"No\":39,\"qgrid_unfiltered_index\":38,\"FromNode\":1755,\"ToNode\":1000094,\"FromEdges\":\"557,560,567\",\"ToEdges\":\"1142,1143\",\"LinkSeq\":\"112\",\"Length\":557.97449,\"IsTurn\":0,\"Type\":\"DYNAMICASSIGNMENT\",\"Closed\":0,\"OriginVertex\":\"visnode.1755.39\",\"DestinVertex\":\"visnode.1000094.39\"},{\"No\":40,\"qgrid_unfiltered_index\":39,\"FromNode\":1755,\"ToNode\":1000122,\"FromEdges\":\"558,561,564\",\"ToEdges\":\"1268\",\"LinkSeq\":\"113\",\"Length\":736.15934,\"IsTurn\":0,\"Type\":\"DYNAMICASSIGNMENT\",\"Closed\":0,\"OriginVertex\":\"visnode.1755.40\",\"DestinVertex\":\"visnode.1000122.40\"},{\"No\":41,\"qgrid_unfiltered_index\":40,\"FromNode\":1756,\"ToNode\":2042,\"FromEdges\":\"576\",\"ToEdges\":\"\",\"LinkSeq\":\"526\",\"Length\":356.63625,\"IsTurn\":0,\"Type\":\"DYNAMICASSIGNMENT\",\"Closed\":0,\"OriginVertex\":\"visnode.1756.41\",\"DestinVertex\":\"visnode.2042.41\"},{\"No\":42,\"qgrid_unfiltered_index\":41,\"FromNode\":1756,\"ToNode\":2062,\"FromEdges\":\"571,580,585\",\"ToEdges\":\"\",\"LinkSeq\":\"545\",\"Length\":95.80442,\"IsTurn\":0,\"Type\":\"DYNAMICASSIGNMENT\",\"Closed\":0,\"OriginVertex\":\"visnode.1756.42\",\"DestinVertex\":\"visnode.2062.42\"},{\"No\":43,\"qgrid_unfiltered_index\":42,\"FromNode\":1756,\"ToNode\":1000021,\"FromEdges\":\"568,577,581,586\",\"ToEdges\":\"\",\"LinkSeq\":\"6\",\"Length\":1994.77837,\"IsTurn\":0,\"Type\":\"DYNAMICASSIGNMENT\",\"Closed\":0,\"OriginVertex\":\"visnode.1756.43\",\"DestinVertex\":\"visnode.1000021.43\"},{\"No\":44,\"qgrid_unfiltered_index\":43,\"FromNode\":1756,\"ToNode\":1000034,\"FromEdges\":\"570,572,582,587\",\"ToEdges\":\"759,760\",\"LinkSeq\":\"10,10005,9\",\"Length\":218.93999,\"IsTurn\":0,\"Type\":\"DYNAMICASSIGNMENT\",\"Closed\":0,\"OriginVertex\":\"visnode.1756.44\",\"DestinVertex\":\"visnode.1000034.44\"},{\"No\":45,\"qgrid_unfiltered_index\":44,\"FromNode\":1756,\"ToNode\":1000034,\"FromEdges\":\"573,583,588,589\",\"ToEdges\":\"761\",\"LinkSeq\":\"12\",\"Length\":219.44154,\"IsTurn\":0,\"Type\":\"DYNAMICASSIGNMENT\",\"Closed\":0,\"OriginVertex\":\"visnode.1756.45\",\"DestinVertex\":\"visnode.1000034.45\"},{\"No\":46,\"qgrid_unfiltered_index\":45,\"FromNode\":1756,\"ToNode\":1000081,\"FromEdges\":\"574,578,584\",\"ToEdges\":\"1085,1086\",\"LinkSeq\":\"117\",\"Length\":489.80322,\"IsTurn\":0,\"Type\":\"DYNAMICASSIGNMENT\",\"Closed\":0,\"OriginVertex\":\"visnode.1756.46\",\"DestinVertex\":\"visnode.1000081.46\"},{\"No\":47,\"qgrid_unfiltered_index\":46,\"FromNode\":1756,\"ToNode\":1000093,\"FromEdges\":\"569,575,579,590\",\"ToEdges\":\"1138,1139\",\"LinkSeq\":\"118\",\"Length\":1060.21444,\"IsTurn\":0,\"Type\":\"DYNAMICASSIGNMENT\",\"Closed\":0,\"OriginVertex\":\"visnode.1756.47\",\"DestinVertex\":\"visnode.1000093.47\"},{\"No\":48,\"qgrid_unfiltered_index\":47,\"FromNode\":1757,\"ToNode\":1000073,\"FromEdges\":\"593,596,601\",\"ToEdges\":\"1043,1044\",\"LinkSeq\":\"145\",\"Length\":81.30041,\"IsTurn\":0,\"Type\":\"DYNAMICASSIGNMENT\",\"Closed\":0,\"OriginVertex\":\"visnode.1757.48\",\"DestinVertex\":\"visnode.1000073.48\"},{\"No\":49,\"qgrid_unfiltered_index\":48,\"FromNode\":1757,\"ToNode\":1000075,\"FromEdges\":\"591,599\",\"ToEdges\":\"1055,1056\",\"LinkSeq\":\"114\",\"Length\":389.17602,\"IsTurn\":0,\"Type\":\"DYNAMICASSIGNMENT\",\"Closed\":0,\"OriginVertex\":\"visnode.1757.49\",\"DestinVertex\":\"visnode.1000075.49\"},{\"No\":50,\"qgrid_unfiltered_index\":49,\"FromNode\":1757,\"ToNode\":1000078,\"FromEdges\":\"592,600\",\"ToEdges\":\"1073,1074\",\"LinkSeq\":\"144\",\"Length\":347.46133,\"IsTurn\":0,\"Type\":\"DYNAMICASSIGNMENT\",\"Closed\":0,\"OriginVertex\":\"visnode.1757.50\",\"DestinVertex\":\"visnode.1000078.50\"},{\"No\":51,\"qgrid_unfiltered_index\":50,\"FromNode\":1757,\"ToNode\":1000080,\"FromEdges\":\"594,597\",\"ToEdges\":\"1079,1080\",\"LinkSeq\":\"122\",\"Length\":379.23149,\"IsTurn\":0,\"Type\":\"DYNAMICASSIGNMENT\",\"Closed\":0,\"OriginVertex\":\"visnode.1757.51\",\"DestinVertex\":\"visnode.1000080.51\"},{\"No\":52,\"qgrid_unfiltered_index\":51,\"FromNode\":1757,\"ToNode\":1000098,\"FromEdges\":\"595,598\",\"ToEdges\":\"1158,1159\",\"LinkSeq\":\"259,10830,543\",\"Length\":322.58464,\"IsTurn\":0,\"Type\":\"DYNAMICASSIGNMENT\",\"Closed\":0,\"OriginVertex\":\"visnode.1757.52\",\"DestinVertex\":\"visnode.1000098.52\"},{\"No\":53,\"qgrid_unfiltered_index\":52,\"FromNode\":1765,\"ToNode\":1000024,\"FromEdges\":\"605,608,611\",\"ToEdges\":\"\",\"LinkSeq\":\"159\",\"Length\":1671.7887,\"IsTurn\":0,\"Type\":\"DYNAMICASSIGNMENT\",\"Closed\":0,\"OriginVertex\":\"visnode.1765.53\",\"DestinVertex\":\"visnode.1000024.53\"},{\"No\":54,\"qgrid_unfiltered_index\":53,\"FromNode\":1765,\"ToNode\":1000055,\"FromEdges\":\"602,609,612\",\"ToEdges\":\"926,927\",\"LinkSeq\":\"76,10044,57\",\"Length\":775.98248,\"IsTurn\":0,\"Type\":\"DYNAMICASSIGNMENT\",\"Closed\":0,\"OriginVertex\":\"visnode.1765.54\",\"DestinVertex\":\"visnode.1000055.54\"},{\"No\":55,\"qgrid_unfiltered_index\":54,\"FromNode\":1765,\"ToNode\":1000056,\"FromEdges\":\"603,606,613\",\"ToEdges\":\"930,931\",\"LinkSeq\":\"160\",\"Length\":245.3658,\"IsTurn\":0,\"Type\":\"DYNAMICASSIGNMENT\",\"Closed\":0,\"OriginVertex\":\"visnode.1765.55\",\"DestinVertex\":\"visnode.1000056.55\"},{\"No\":56,\"qgrid_unfiltered_index\":55,\"FromNode\":1765,\"ToNode\":1000086,\"FromEdges\":\"604,607,610\",\"ToEdges\":\"1097,1098\",\"LinkSeq\":\"58\",\"Length\":124.15454,\"IsTurn\":0,\"Type\":\"DYNAMICASSIGNMENT\",\"Closed\":0,\"OriginVertex\":\"visnode.1765.56\",\"DestinVertex\":\"visnode.1000086.56\"},{\"No\":57,\"qgrid_unfiltered_index\":56,\"FromNode\":1821,\"ToNode\":1000032,\"FromEdges\":\"\",\"ToEdges\":\"744,745,746\",\"LinkSeq\":\"251\",\"Length\":1481.30604,\"IsTurn\":0,\"Type\":\"DYNAMICASSIGNMENT\",\"Closed\":0,\"OriginVertex\":\"visnode.1821.57\",\"DestinVertex\":\"visnode.1000032.57\"},{\"No\":58,\"qgrid_unfiltered_index\":57,\"FromNode\":1891,\"ToNode\":1000051,\"FromEdges\":\"\",\"ToEdges\":\"890,891\",\"LinkSeq\":\"491\",\"Length\":906.59336,\"IsTurn\":0,\"Type\":\"DYNAMICASSIGNMENT\",\"Closed\":0,\"OriginVertex\":\"visnode.1891.58\",\"DestinVertex\":\"visnode.1000051.58\"},{\"No\":59,\"qgrid_unfiltered_index\":58,\"FromNode\":1921,\"ToNode\":1000050,\"FromEdges\":\"\",\"ToEdges\":\"884,885\",\"LinkSeq\":\"467\",\"Length\":828.6533,\"IsTurn\":0,\"Type\":\"DYNAMICASSIGNMENT\",\"Closed\":0,\"OriginVertex\":\"visnode.1921.59\",\"DestinVertex\":\"visnode.1000050.59\"},{\"No\":60,\"qgrid_unfiltered_index\":59,\"FromNode\":1922,\"ToNode\":1000052,\"FromEdges\":\"\",\"ToEdges\":\"896,897,898\",\"LinkSeq\":\"388\",\"Length\":929.1945,\"IsTurn\":0,\"Type\":\"DYNAMICASSIGNMENT\",\"Closed\":0,\"OriginVertex\":\"visnode.1922.60\",\"DestinVertex\":\"visnode.1000052.60\"},{\"No\":61,\"qgrid_unfiltered_index\":60,\"FromNode\":1941,\"ToNode\":1000059,\"FromEdges\":\"\",\"ToEdges\":\"952,953\",\"LinkSeq\":\"489\",\"Length\":790.30511,\"IsTurn\":0,\"Type\":\"DYNAMICASSIGNMENT\",\"Closed\":0,\"OriginVertex\":\"visnode.1941.61\",\"DestinVertex\":\"visnode.1000059.61\"},{\"No\":62,\"qgrid_unfiltered_index\":61,\"FromNode\":1951,\"ToNode\":1000056,\"FromEdges\":\"\",\"ToEdges\":\"932,933\",\"LinkSeq\":\"499\",\"Length\":193.39424,\"IsTurn\":0,\"Type\":\"DYNAMICASSIGNMENT\",\"Closed\":0,\"OriginVertex\":\"visnode.1951.62\",\"DestinVertex\":\"visnode.1000056.62\"},{\"No\":63,\"qgrid_unfiltered_index\":62,\"FromNode\":1952,\"ToNode\":1000086,\"FromEdges\":\"\",\"ToEdges\":\"1099,1100\",\"LinkSeq\":\"497\",\"Length\":353.23865,\"IsTurn\":0,\"Type\":\"DYNAMICASSIGNMENT\",\"Closed\":0,\"OriginVertex\":\"visnode.1952.63\",\"DestinVertex\":\"visnode.1000086.63\"},{\"No\":64,\"qgrid_unfiltered_index\":63,\"FromNode\":2041,\"ToNode\":1000123,\"FromEdges\":\"\",\"ToEdges\":\"1271,1272\",\"LinkSeq\":\"522\",\"Length\":400.96923,\"IsTurn\":0,\"Type\":\"DYNAMICASSIGNMENT\",\"Closed\":0,\"OriginVertex\":\"visnode.2041.64\",\"DestinVertex\":\"visnode.1000123.64\"},{\"No\":65,\"qgrid_unfiltered_index\":64,\"FromNode\":2042,\"ToNode\":1756,\"FromEdges\":\"\",\"ToEdges\":\"568,569\",\"LinkSeq\":\"525\",\"Length\":356.90232,\"IsTurn\":0,\"Type\":\"DYNAMICASSIGNMENT\",\"Closed\":0,\"OriginVertex\":\"visnode.2042.41\",\"DestinVertex\":\"visnode.1756.65\"},{\"No\":66,\"qgrid_unfiltered_index\":65,\"FromNode\":2052,\"ToNode\":1000104,\"FromEdges\":\"\",\"ToEdges\":\"1215,1216,1217,1218,1219\",\"LinkSeq\":\"269\",\"Length\":216.05353,\"IsTurn\":0,\"Type\":\"DYNAMICASSIGNMENT\",\"Closed\":0,\"OriginVertex\":\"visnode.2052.66\",\"DestinVertex\":\"visnode.1000104.66\"},{\"No\":67,\"qgrid_unfiltered_index\":66,\"FromNode\":2053,\"ToNode\":47,\"FromEdges\":\"\",\"ToEdges\":\"500,501,502,503\",\"LinkSeq\":\"505\",\"Length\":380.68885,\"IsTurn\":0,\"Type\":\"DYNAMICASSIGNMENT\",\"Closed\":0,\"OriginVertex\":\"visnode.2053.8\",\"DestinVertex\":\"visnode.47.67\"},{\"No\":68,\"qgrid_unfiltered_index\":67,\"FromNode\":2054,\"ToNode\":1000058,\"FromEdges\":\"616,617\",\"ToEdges\":\"948,949\",\"LinkSeq\":\"503\",\"Length\":573.26376,\"IsTurn\":0,\"Type\":\"DYNAMICASSIGNMENT\",\"Closed\":0,\"OriginVertex\":\"visnode.2054.68\",\"DestinVertex\":\"visnode.1000058.68\"},{\"No\":69,\"qgrid_unfiltered_index\":68,\"FromNode\":2054,\"ToNode\":1000136,\"FromEdges\":\"614\",\"ToEdges\":\"\",\"LinkSeq\":\"198\",\"Length\":96.04461,\"IsTurn\":0,\"Type\":\"DYNAMICASSIGNMENT\",\"Closed\":0,\"OriginVertex\":\"visnode.2054.69\",\"DestinVertex\":\"visnode.1000136.69\"},{\"No\":70,\"qgrid_unfiltered_index\":69,\"FromNode\":2054,\"ToNode\":1000137,\"FromEdges\":\"615\",\"ToEdges\":\"\",\"LinkSeq\":\"603\",\"Length\":93.80485,\"IsTurn\":0,\"Type\":\"DYNAMICASSIGNMENT\",\"Closed\":0,\"OriginVertex\":\"visnode.2054.70\",\"DestinVertex\":\"visnode.1000137.70\"},{\"No\":71,\"qgrid_unfiltered_index\":70,\"FromNode\":2061,\"ToNode\":1000081,\"FromEdges\":\"\",\"ToEdges\":\"1087,1088\",\"LinkSeq\":\"547\",\"Length\":75.62739,\"IsTurn\":0,\"Type\":\"DYNAMICASSIGNMENT\",\"Closed\":0,\"OriginVertex\":\"visnode.2061.71\",\"DestinVertex\":\"visnode.1000081.71\"},{\"No\":72,\"qgrid_unfiltered_index\":71,\"FromNode\":2062,\"ToNode\":1756,\"FromEdges\":\"\",\"ToEdges\":\"570\",\"LinkSeq\":\"544\",\"Length\":95.34551,\"IsTurn\":0,\"Type\":\"DYNAMICASSIGNMENT\",\"Closed\":0,\"OriginVertex\":\"visnode.2062.42\",\"DestinVertex\":\"visnode.1756.72\"},{\"No\":73,\"qgrid_unfiltered_index\":72,\"FromNode\":2071,\"ToNode\":1000080,\"FromEdges\":\"\",\"ToEdges\":\"1081,1082\",\"LinkSeq\":\"530\",\"Length\":298.03421,\"IsTurn\":0,\"Type\":\"DYNAMICASSIGNMENT\",\"Closed\":0,\"OriginVertex\":\"visnode.2071.73\",\"DestinVertex\":\"visnode.1000080.73\"},{\"No\":74,\"qgrid_unfiltered_index\":73,\"FromNode\":2081,\"ToNode\":1000078,\"FromEdges\":\"\",\"ToEdges\":\"1075,1076\",\"LinkSeq\":\"531\",\"Length\":435.47418,\"IsTurn\":0,\"Type\":\"DYNAMICASSIGNMENT\",\"Closed\":0,\"OriginVertex\":\"visnode.2081.74\",\"DestinVertex\":\"visnode.1000078.74\"},{\"No\":75,\"qgrid_unfiltered_index\":74,\"FromNode\":2214,\"ToNode\":36,\"FromEdges\":\"621,624,627\",\"ToEdges\":\"482,483\",\"LinkSeq\":\"47\",\"Length\":292.75295,\"IsTurn\":0,\"Type\":\"DYNAMICASSIGNMENT\",\"Closed\":0,\"OriginVertex\":\"visnode.2214.75\",\"DestinVertex\":\"visnode.36.75\"},{\"No\":76,\"qgrid_unfiltered_index\":75,\"FromNode\":2214,\"ToNode\":19121,\"FromEdges\":\"618,625,628\",\"ToEdges\":\"\",\"LinkSeq\":\"410\",\"Length\":475.04056,\"IsTurn\":0,\"Type\":\"DYNAMICASSIGNMENT\",\"Closed\":0,\"OriginVertex\":\"visnode.2214.76\",\"DestinVertex\":\"visnode.19121.76\"},{\"No\":77,\"qgrid_unfiltered_index\":76,\"FromNode\":2214,\"ToNode\":1000037,\"FromEdges\":\"619,622,629\",\"ToEdges\":\"786,787,788\",\"LinkSeq\":\"213\",\"Length\":279.24265,\"IsTurn\":0,\"Type\":\"DYNAMICASSIGNMENT\",\"Closed\":0,\"OriginVertex\":\"visnode.2214.77\",\"DestinVertex\":\"visnode.1000037.77\"},{\"No\":78,\"qgrid_unfiltered_index\":77,\"FromNode\":2214,\"ToNode\":1000039,\"FromEdges\":\"620,623,626\",\"ToEdges\":\"801,802,803\",\"LinkSeq\":\"48\",\"Length\":499.47827,\"IsTurn\":0,\"Type\":\"DYNAMICASSIGNMENT\",\"Closed\":0,\"OriginVertex\":\"visnode.2214.78\",\"DestinVertex\":\"visnode.1000039.78\"},{\"No\":79,\"qgrid_unfiltered_index\":78,\"FromNode\":2711,\"ToNode\":1000133,\"FromEdges\":\"\",\"ToEdges\":\"1308,1309,1310,1311\",\"LinkSeq\":\"264\",\"Length\":459.89687,\"IsTurn\":0,\"Type\":\"DYNAMICASSIGNMENT\",\"Closed\":0,\"OriginVertex\":\"visnode.2711.79\",\"DestinVertex\":\"visnode.1000133.79\"},{\"No\":80,\"qgrid_unfiltered_index\":79,\"FromNode\":2712,\"ToNode\":1000104,\"FromEdges\":\"\",\"ToEdges\":\"1220,1221,1222,1223,1224\",\"LinkSeq\":\"266\",\"Length\":299.15684,\"IsTurn\":0,\"Type\":\"DYNAMICASSIGNMENT\",\"Closed\":0,\"OriginVertex\":\"visnode.2712.80\",\"DestinVertex\":\"visnode.1000104.80\"},{\"No\":81,\"qgrid_unfiltered_index\":80,\"FromNode\":2713,\"ToNode\":47,\"FromEdges\":\"\",\"ToEdges\":\"504,505\",\"LinkSeq\":\"568\",\"Length\":340.18821,\"IsTurn\":0,\"Type\":\"DYNAMICASSIGNMENT\",\"Closed\":0,\"OriginVertex\":\"visnode.2713.9\",\"DestinVertex\":\"visnode.47.81\"},{\"No\":82,\"qgrid_unfiltered_index\":81,\"FromNode\":2714,\"ToNode\":1000073,\"FromEdges\":\"\",\"ToEdges\":\"1045,1046\",\"LinkSeq\":\"565\",\"Length\":434.50966,\"IsTurn\":0,\"Type\":\"DYNAMICASSIGNMENT\",\"Closed\":0,\"OriginVertex\":\"visnode.2714.82\",\"DestinVertex\":\"visnode.1000073.82\"},{\"No\":83,\"qgrid_unfiltered_index\":82,\"FromNode\":2715,\"ToNode\":1000072,\"FromEdges\":\"\",\"ToEdges\":\"1037,1038\",\"LinkSeq\":\"562\",\"Length\":440.89944,\"IsTurn\":0,\"Type\":\"DYNAMICASSIGNMENT\",\"Closed\":0,\"OriginVertex\":\"visnode.2715.83\",\"DestinVertex\":\"visnode.1000072.83\"},{\"No\":84,\"qgrid_unfiltered_index\":83,\"FromNode\":3721,\"ToNode\":1000075,\"FromEdges\":\"\",\"ToEdges\":\"1057,1058\",\"LinkSeq\":\"560\",\"Length\":214.34484,\"IsTurn\":0,\"Type\":\"DYNAMICASSIGNMENT\",\"Closed\":0,\"OriginVertex\":\"visnode.3721.84\",\"DestinVertex\":\"visnode.1000075.84\"},{\"No\":85,\"qgrid_unfiltered_index\":84,\"FromNode\":3721,\"ToNode\":1000098,\"FromEdges\":\"\",\"ToEdges\":\"1160,1161\",\"LinkSeq\":\"559\",\"Length\":267.59346,\"IsTurn\":0,\"Type\":\"DYNAMICASSIGNMENT\",\"Closed\":0,\"OriginVertex\":\"visnode.3721.84\",\"DestinVertex\":\"visnode.1000098.85\"},{\"No\":86,\"qgrid_unfiltered_index\":85,\"FromNode\":3722,\"ToNode\":1000070,\"FromEdges\":\"\",\"ToEdges\":\"1027,1028\",\"LinkSeq\":\"555\",\"Length\":340.75609,\"IsTurn\":0,\"Type\":\"DYNAMICASSIGNMENT\",\"Closed\":0,\"OriginVertex\":\"visnode.3722.86\",\"DestinVertex\":\"visnode.1000070.86\"},{\"No\":87,\"qgrid_unfiltered_index\":86,\"FromNode\":3722,\"ToNode\":1000071,\"FromEdges\":\"\",\"ToEdges\":\"1031,1032\",\"LinkSeq\":\"556\",\"Length\":321.19161,\"IsTurn\":0,\"Type\":\"DYNAMICASSIGNMENT\",\"Closed\":0,\"OriginVertex\":\"visnode.3722.86\",\"DestinVertex\":\"visnode.1000071.87\"},{\"No\":88,\"qgrid_unfiltered_index\":87,\"FromNode\":3723,\"ToNode\":1000068,\"FromEdges\":\"\",\"ToEdges\":\"1009\",\"LinkSeq\":\"552\",\"Length\":237.94626,\"IsTurn\":0,\"Type\":\"DYNAMICASSIGNMENT\",\"Closed\":0,\"OriginVertex\":\"visnode.3723.88\",\"DestinVertex\":\"visnode.1000068.88\"},{\"No\":89,\"qgrid_unfiltered_index\":88,\"FromNode\":3724,\"ToNode\":1000069,\"FromEdges\":\"\",\"ToEdges\":\"1020,1021\",\"LinkSeq\":\"550\",\"Length\":213.47133,\"IsTurn\":0,\"Type\":\"DYNAMICASSIGNMENT\",\"Closed\":0,\"OriginVertex\":\"visnode.3724.89\",\"DestinVertex\":\"visnode.1000069.89\"},{\"No\":90,\"qgrid_unfiltered_index\":89,\"FromNode\":3731,\"ToNode\":1000133,\"FromEdges\":\"\",\"ToEdges\":\"1312,1313,1314,1315\",\"LinkSeq\":\"262,10129,261\",\"Length\":441.89125,\"IsTurn\":0,\"Type\":\"DYNAMICASSIGNMENT\",\"Closed\":0,\"OriginVertex\":\"visnode.3731.90\",\"DestinVertex\":\"visnode.1000133.90\"},{\"No\":91,\"qgrid_unfiltered_index\":90,\"FromNode\":3732,\"ToNode\":1000067,\"FromEdges\":\"\",\"ToEdges\":\"1006\",\"LinkSeq\":\"570\",\"Length\":267.30919,\"IsTurn\":0,\"Type\":\"DYNAMICASSIGNMENT\",\"Closed\":0,\"OriginVertex\":\"visnode.3732.91\",\"DestinVertex\":\"visnode.1000067.91\"},{\"No\":92,\"qgrid_unfiltered_index\":91,\"FromNode\":3733,\"ToNode\":1000064,\"FromEdges\":\"\",\"ToEdges\":\"985,986\",\"LinkSeq\":\"574\",\"Length\":560.30045,\"IsTurn\":0,\"Type\":\"DYNAMICASSIGNMENT\",\"Closed\":0,\"OriginVertex\":\"visnode.3733.92\",\"DestinVertex\":\"visnode.1000064.92\"},{\"No\":93,\"qgrid_unfiltered_index\":92,\"FromNode\":3734,\"ToNode\":1000063,\"FromEdges\":\"\",\"ToEdges\":\"975,976\",\"LinkSeq\":\"576\",\"Length\":462.10192,\"IsTurn\":0,\"Type\":\"DYNAMICASSIGNMENT\",\"Closed\":0,\"OriginVertex\":\"visnode.3734.93\",\"DestinVertex\":\"visnode.1000063.93\"},{\"No\":94,\"qgrid_unfiltered_index\":93,\"FromNode\":3735,\"ToNode\":1000066,\"FromEdges\":\"\",\"ToEdges\":\"999,1000\",\"LinkSeq\":\"571\",\"Length\":278.92912,\"IsTurn\":0,\"Type\":\"DYNAMICASSIGNMENT\",\"Closed\":0,\"OriginVertex\":\"visnode.3735.94\",\"DestinVertex\":\"visnode.1000066.94\"},{\"No\":95,\"qgrid_unfiltered_index\":94,\"FromNode\":3741,\"ToNode\":1000032,\"FromEdges\":\"\",\"ToEdges\":\"747,748,749,750,751,752\",\"LinkSeq\":\"254\",\"Length\":255.4811,\"IsTurn\":0,\"Type\":\"DYNAMICASSIGNMENT\",\"Closed\":0,\"OriginVertex\":\"visnode.3741.95\",\"DestinVertex\":\"visnode.1000032.95\"},{\"No\":96,\"qgrid_unfiltered_index\":95,\"FromNode\":3742,\"ToNode\":1000060,\"FromEdges\":\"\",\"ToEdges\":\"958,959\",\"LinkSeq\":\"584\",\"Length\":569.0049,\"IsTurn\":0,\"Type\":\"DYNAMICASSIGNMENT\",\"Closed\":0,\"OriginVertex\":\"visnode.3742.96\",\"DestinVertex\":\"visnode.1000060.96\"},{\"No\":97,\"qgrid_unfiltered_index\":96,\"FromNode\":3742,\"ToNode\":1000062,\"FromEdges\":\"\",\"ToEdges\":\"970\",\"LinkSeq\":\"583\",\"Length\":452.84021,\"IsTurn\":0,\"Type\":\"DYNAMICASSIGNMENT\",\"Closed\":0,\"OriginVertex\":\"visnode.3742.96\",\"DestinVertex\":\"visnode.1000062.97\"},{\"No\":98,\"qgrid_unfiltered_index\":97,\"FromNode\":3743,\"ToNode\":1000061,\"FromEdges\":\"\",\"ToEdges\":\"964,965\",\"LinkSeq\":\"592\",\"Length\":634.10066,\"IsTurn\":0,\"Type\":\"DYNAMICASSIGNMENT\",\"Closed\":0,\"OriginVertex\":\"visnode.3743.98\",\"DestinVertex\":\"visnode.1000061.98\"},{\"No\":99,\"qgrid_unfiltered_index\":98,\"FromNode\":3744,\"ToNode\":1000063,\"FromEdges\":\"\",\"ToEdges\":\"977,978\",\"LinkSeq\":\"590\",\"Length\":657.70481,\"IsTurn\":0,\"Type\":\"DYNAMICASSIGNMENT\",\"Closed\":0,\"OriginVertex\":\"visnode.3744.99\",\"DestinVertex\":\"visnode.1000063.99\"},{\"No\":100,\"qgrid_unfiltered_index\":99,\"FromNode\":3745,\"ToNode\":1000065,\"FromEdges\":\"\",\"ToEdges\":\"991,992\",\"LinkSeq\":\"588\",\"Length\":678.59206,\"IsTurn\":0,\"Type\":\"DYNAMICASSIGNMENT\",\"Closed\":0,\"OriginVertex\":\"visnode.3745.100\",\"DestinVertex\":\"visnode.1000065.100\"}]}",
       "_df_range": [
        0,
        100
       ],
       "_editable_rows": {},
       "_index_col_name": "qgrid_unfiltered_index",
       "_interval_columns": [],
       "_model_module_version": "1.1.1",
       "_multi_index": false,
       "_row_count": 1327,
       "_row_styles": {},
       "_sort_ascending": true,
       "_sort_field": null,
       "_view_module_version": "1.1.1",
       "_viewport_range": [
        0,
        100
       ],
       "grid_options": {
        "autoEdit": false,
        "boldIndex": true,
        "defaultColumnWidth": 150,
        "editable": true,
        "enableColumnReorder": false,
        "enableTextSelectionOnCells": true,
        "explicitInitialization": true,
        "filterable": true,
        "forceFitColumns": true,
        "fullWidthRows": true,
        "highlightSelectedCell": false,
        "highlightSelectedRow": true,
        "maxVisibleRows": 15,
        "minVisibleRows": 8,
        "rowHeight": 28,
        "sortable": true,
        "syncColumnCellResize": true
       },
       "id": "f8c7f642-8601-44f1-8e58-55c20f4fb913",
       "layout": "IPY_MODEL_d68c88444d8e4b5db7028c527ae52a36",
       "precision": 5,
       "show_toolbar": true
      }
     },
     "135ec4f04945496d9d55b5cc6cb0868b": {
      "model_module": "@jupyter-widgets/base",
      "model_module_version": "1.1.0",
      "model_name": "LayoutModel",
      "state": {}
     },
     "53cb714e587a4dfa86fbd886442863b5": {
      "model_module": "qgrid",
      "model_module_version": "1.1.1",
      "model_name": "QgridModel",
      "state": {
       "_columns": {
        "Closed": {
         "cssClass": "integer",
         "defaultSortAsc": true,
         "editable": true,
         "field": "Closed",
         "id": "Closed",
         "minWidth": 30,
         "name": "Closed",
         "position": 10,
         "resizable": true,
         "sortable": true,
         "toolTip": "",
         "type": "integer"
        },
        "DestinVertex": {
         "cssClass": "string",
         "defaultSortAsc": true,
         "editable": true,
         "field": "DestinVertex",
         "id": "DestinVertex",
         "minWidth": 30,
         "name": "DestinVertex",
         "position": 12,
         "resizable": true,
         "sortable": true,
         "toolTip": "",
         "type": "string"
        },
        "FromEdges": {
         "cssClass": "string",
         "defaultSortAsc": true,
         "editable": true,
         "field": "FromEdges",
         "id": "FromEdges",
         "minWidth": 30,
         "name": "FromEdges",
         "position": 4,
         "resizable": true,
         "sortable": true,
         "toolTip": "",
         "type": "string"
        },
        "FromNode": {
         "cssClass": "integer",
         "defaultSortAsc": true,
         "editable": true,
         "field": "FromNode",
         "id": "FromNode",
         "minWidth": 30,
         "name": "FromNode",
         "position": 2,
         "resizable": true,
         "sortable": true,
         "toolTip": "",
         "type": "integer"
        },
        "IsTurn": {
         "cssClass": "integer",
         "defaultSortAsc": true,
         "editable": true,
         "field": "IsTurn",
         "id": "IsTurn",
         "minWidth": 30,
         "name": "IsTurn",
         "position": 8,
         "resizable": true,
         "sortable": true,
         "toolTip": "",
         "type": "integer"
        },
        "Length": {
         "cssClass": "number",
         "defaultSortAsc": true,
         "editable": true,
         "field": "Length",
         "id": "Length",
         "minWidth": 30,
         "name": "Length",
         "position": 7,
         "resizable": true,
         "sortable": true,
         "toolTip": "",
         "type": "number"
        },
        "LinkSeq": {
         "cssClass": "string",
         "defaultSortAsc": true,
         "editable": true,
         "field": "LinkSeq",
         "id": "LinkSeq",
         "minWidth": 30,
         "name": "LinkSeq",
         "position": 6,
         "resizable": true,
         "sortable": true,
         "toolTip": "",
         "type": "string"
        },
        "No": {
         "cssClass": "integer first-idx-col idx-col",
         "defaultSortAsc": true,
         "editable": true,
         "field": "No",
         "first_index": true,
         "id": "No",
         "index_display_text": "No",
         "is_index": true,
         "level": 0,
         "minWidth": 30,
         "name": "No",
         "position": 0,
         "resizable": true,
         "sortable": true,
         "toolTip": "",
         "type": "integer"
        },
        "OriginVertex": {
         "cssClass": "string",
         "defaultSortAsc": true,
         "editable": true,
         "field": "OriginVertex",
         "id": "OriginVertex",
         "minWidth": 30,
         "name": "OriginVertex",
         "position": 11,
         "resizable": true,
         "sortable": true,
         "toolTip": "",
         "type": "string"
        },
        "ToEdges": {
         "cssClass": "string",
         "defaultSortAsc": true,
         "editable": true,
         "field": "ToEdges",
         "id": "ToEdges",
         "minWidth": 30,
         "name": "ToEdges",
         "position": 5,
         "resizable": true,
         "sortable": true,
         "toolTip": "",
         "type": "string"
        },
        "ToNode": {
         "cssClass": "integer",
         "defaultSortAsc": true,
         "editable": true,
         "field": "ToNode",
         "id": "ToNode",
         "minWidth": 30,
         "name": "ToNode",
         "position": 3,
         "resizable": true,
         "sortable": true,
         "toolTip": "",
         "type": "integer"
        },
        "Type": {
         "cssClass": "string",
         "defaultSortAsc": true,
         "editable": true,
         "field": "Type",
         "id": "Type",
         "minWidth": 30,
         "name": "Type",
         "position": 9,
         "resizable": true,
         "sortable": true,
         "toolTip": "",
         "type": "string"
        },
        "qgrid_unfiltered_index": {
         "cssClass": "integer",
         "defaultSortAsc": true,
         "editable": true,
         "field": "qgrid_unfiltered_index",
         "id": "qgrid_unfiltered_index",
         "maxWidth": null,
         "minWidth": 30,
         "name": "qgrid_unfiltered_index",
         "position": 1,
         "resizable": true,
         "sortable": true,
         "toolTip": "",
         "type": "integer",
         "width": null
        }
       },
       "_df_json": "{\"schema\": {\"fields\":[{\"name\":\"No\",\"type\":\"integer\"},{\"name\":\"qgrid_unfiltered_index\",\"type\":\"integer\"},{\"name\":\"FromNode\",\"type\":\"integer\"},{\"name\":\"ToNode\",\"type\":\"integer\"},{\"name\":\"FromEdges\",\"type\":\"string\"},{\"name\":\"ToEdges\",\"type\":\"string\"},{\"name\":\"LinkSeq\",\"type\":\"string\"},{\"name\":\"Length\",\"type\":\"number\"},{\"name\":\"IsTurn\",\"type\":\"integer\"},{\"name\":\"Type\",\"type\":\"string\"},{\"name\":\"Closed\",\"type\":\"integer\"},{\"name\":\"OriginVertex\",\"type\":\"string\"},{\"name\":\"DestinVertex\",\"type\":\"string\"}],\"primaryKey\":[\"No\"],\"pandas_version\":\"0.20.0\"}, \"data\": [{\"No\":1,\"qgrid_unfiltered_index\":0,\"FromNode\":36,\"ToNode\":2214,\"FromEdges\":\"484,486\",\"ToEdges\":\"618,619,620\",\"LinkSeq\":\"52\",\"Length\":285.0614,\"IsTurn\":0,\"Type\":\"DYNAMICASSIGNMENT\",\"Closed\":0,\"OriginVertex\":\"visnode.36.1\",\"DestinVertex\":\"visnode.2214.1\"},{\"No\":2,\"qgrid_unfiltered_index\":1,\"FromNode\":36,\"ToNode\":3851,\"FromEdges\":\"482,487\",\"ToEdges\":\"\",\"LinkSeq\":\"229\",\"Length\":813.99057,\"IsTurn\":0,\"Type\":\"DYNAMICASSIGNMENT\",\"Closed\":0,\"OriginVertex\":\"visnode.36.2\",\"DestinVertex\":\"visnode.3851.2\"},{\"No\":3,\"qgrid_unfiltered_index\":2,\"FromNode\":36,\"ToNode\":1000120,\"FromEdges\":\"483,485\",\"ToEdges\":\"1259,1260\",\"LinkSeq\":\"51,10933,601\",\"Length\":2285.58254,\"IsTurn\":0,\"Type\":\"DYNAMICASSIGNMENT\",\"Closed\":0,\"OriginVertex\":\"visnode.36.3\",\"DestinVertex\":\"visnode.1000120.3\"},{\"No\":4,\"qgrid_unfiltered_index\":3,\"FromNode\":45,\"ToNode\":1000066,\"FromEdges\":\"491,494,497\",\"ToEdges\":\"997,998\",\"LinkSeq\":\"258\",\"Length\":149.782,\"IsTurn\":0,\"Type\":\"DYNAMICASSIGNMENT\",\"Closed\":0,\"OriginVertex\":\"visnode.45.4\",\"DestinVertex\":\"visnode.1000066.4\"},{\"No\":5,\"qgrid_unfiltered_index\":4,\"FromNode\":45,\"ToNode\":1000069,\"FromEdges\":\"488,495,498\",\"ToEdges\":\"1017,1018,1019\",\"LinkSeq\":\"174\",\"Length\":76.7441,\"IsTurn\":0,\"Type\":\"DYNAMICASSIGNMENT\",\"Closed\":0,\"OriginVertex\":\"visnode.45.5\",\"DestinVertex\":\"visnode.1000069.5\"},{\"No\":6,\"qgrid_unfiltered_index\":5,\"FromNode\":45,\"ToNode\":1000070,\"FromEdges\":\"489,492,499\",\"ToEdges\":\"1025,1026\",\"LinkSeq\":\"260\",\"Length\":393.06088,\"IsTurn\":0,\"Type\":\"DYNAMICASSIGNMENT\",\"Closed\":0,\"OriginVertex\":\"visnode.45.6\",\"DestinVertex\":\"visnode.1000070.6\"},{\"No\":7,\"qgrid_unfiltered_index\":6,\"FromNode\":45,\"ToNode\":1000133,\"FromEdges\":\"490,493,496\",\"ToEdges\":\"1305,1306,1307\",\"LinkSeq\":\"178\",\"Length\":186.67611,\"IsTurn\":0,\"Type\":\"DYNAMICASSIGNMENT\",\"Closed\":0,\"OriginVertex\":\"visnode.45.7\",\"DestinVertex\":\"visnode.1000133.7\"},{\"No\":8,\"qgrid_unfiltered_index\":7,\"FromNode\":47,\"ToNode\":2053,\"FromEdges\":\"511\",\"ToEdges\":\"\",\"LinkSeq\":\"506\",\"Length\":381.5631,\"IsTurn\":0,\"Type\":\"DYNAMICASSIGNMENT\",\"Closed\":0,\"OriginVertex\":\"visnode.47.8\",\"DestinVertex\":\"visnode.2053.8\"},{\"No\":9,\"qgrid_unfiltered_index\":8,\"FromNode\":47,\"ToNode\":2713,\"FromEdges\":\"500,506,512,520\",\"ToEdges\":\"\",\"LinkSeq\":\"567\",\"Length\":339.73398,\"IsTurn\":0,\"Type\":\"DYNAMICASSIGNMENT\",\"Closed\":0,\"OriginVertex\":\"visnode.47.9\",\"DestinVertex\":\"visnode.2713.9\"},{\"No\":10,\"qgrid_unfiltered_index\":9,\"FromNode\":47,\"ToNode\":1000057,\"FromEdges\":\"513,517,521\",\"ToEdges\":\"936,937\",\"LinkSeq\":\"24\",\"Length\":465.06216,\"IsTurn\":0,\"Type\":\"DYNAMICASSIGNMENT\",\"Closed\":0,\"OriginVertex\":\"visnode.47.10\",\"DestinVertex\":\"visnode.1000057.10\"},{\"No\":11,\"qgrid_unfiltered_index\":10,\"FromNode\":47,\"ToNode\":1000058,\"FromEdges\":\"507,518,522\",\"ToEdges\":\"945,946,947\",\"LinkSeq\":\"156\",\"Length\":215.8805,\"IsTurn\":0,\"Type\":\"DYNAMICASSIGNMENT\",\"Closed\":0,\"OriginVertex\":\"visnode.47.11\",\"DestinVertex\":\"visnode.1000058.11\"},{\"No\":12,\"qgrid_unfiltered_index\":11,\"FromNode\":47,\"ToNode\":1000067,\"FromEdges\":\"501,504,508,514,523\",\"ToEdges\":\"1005\",\"LinkSeq\":\"154\",\"Length\":147.11715,\"IsTurn\":0,\"Type\":\"DYNAMICASSIGNMENT\",\"Closed\":0,\"OriginVertex\":\"visnode.47.12\",\"DestinVertex\":\"visnode.1000067.12\"},{\"No\":13,\"qgrid_unfiltered_index\":12,\"FromNode\":47,\"ToNode\":1000067,\"FromEdges\":\"502,505,509,515,524\",\"ToEdges\":\"1003,1004\",\"LinkSeq\":\"182\",\"Length\":147.60355,\"IsTurn\":0,\"Type\":\"DYNAMICASSIGNMENT\",\"Closed\":0,\"OriginVertex\":\"visnode.47.13\",\"DestinVertex\":\"visnode.1000067.13\"},{\"No\":14,\"qgrid_unfiltered_index\":13,\"FromNode\":47,\"ToNode\":1000104,\"FromEdges\":\"503,510,516,519\",\"ToEdges\":\"1211,1212,1213,1214\",\"LinkSeq\":\"23\",\"Length\":219.00054,\"IsTurn\":0,\"Type\":\"DYNAMICASSIGNMENT\",\"Closed\":0,\"OriginVertex\":\"visnode.47.14\",\"DestinVertex\":\"visnode.1000104.14\"},{\"No\":15,\"qgrid_unfiltered_index\":14,\"FromNode\":48,\"ToNode\":1000005,\"FromEdges\":\"528,531,534\",\"ToEdges\":\"\",\"LinkSeq\":\"131\",\"Length\":2346.70946,\"IsTurn\":0,\"Type\":\"DYNAMICASSIGNMENT\",\"Closed\":0,\"OriginVertex\":\"visnode.48.15\",\"DestinVertex\":\"visnode.1000005.15\"},{\"No\":16,\"qgrid_unfiltered_index\":15,\"FromNode\":48,\"ToNode\":1000020,\"FromEdges\":\"525,532,535\",\"ToEdges\":\"\",\"LinkSeq\":\"108\",\"Length\":2411.85949,\"IsTurn\":0,\"Type\":\"DYNAMICASSIGNMENT\",\"Closed\":0,\"OriginVertex\":\"visnode.48.16\",\"DestinVertex\":\"visnode.1000020.16\"},{\"No\":17,\"qgrid_unfiltered_index\":16,\"FromNode\":48,\"ToNode\":1000076,\"FromEdges\":\"526,529,536\",\"ToEdges\":\"1061,1062\",\"LinkSeq\":\"109\",\"Length\":225.72814,\"IsTurn\":0,\"Type\":\"DYNAMICASSIGNMENT\",\"Closed\":0,\"OriginVertex\":\"visnode.48.17\",\"DestinVertex\":\"visnode.1000076.17\"},{\"No\":18,\"qgrid_unfiltered_index\":17,\"FromNode\":48,\"ToNode\":1000077,\"FromEdges\":\"527,530,533\",\"ToEdges\":\"1067,1068\",\"LinkSeq\":\"135\",\"Length\":45.27729,\"IsTurn\":0,\"Type\":\"DYNAMICASSIGNMENT\",\"Closed\":0,\"OriginVertex\":\"visnode.48.18\",\"DestinVertex\":\"visnode.1000077.18\"},{\"No\":19,\"qgrid_unfiltered_index\":18,\"FromNode\":651,\"ToNode\":5059,\"FromEdges\":\"\",\"ToEdges\":\"642,643,644\",\"LinkSeq\":\"185\",\"Length\":2182.67797,\"IsTurn\":0,\"Type\":\"DYNAMICASSIGNMENT\",\"Closed\":0,\"OriginVertex\":\"visnode.651.19\",\"DestinVertex\":\"visnode.5059.19\"},{\"No\":20,\"qgrid_unfiltered_index\":19,\"FromNode\":681,\"ToNode\":1000055,\"FromEdges\":\"\",\"ToEdges\":\"924,925\",\"LinkSeq\":\"465\",\"Length\":1052.12063,\"IsTurn\":0,\"Type\":\"DYNAMICASSIGNMENT\",\"Closed\":0,\"OriginVertex\":\"visnode.681.20\",\"DestinVertex\":\"visnode.1000055.20\"},{\"No\":21,\"qgrid_unfiltered_index\":20,\"FromNode\":682,\"ToNode\":1000054,\"FromEdges\":\"\",\"ToEdges\":\"914,915\",\"LinkSeq\":\"473\",\"Length\":373.49758,\"IsTurn\":0,\"Type\":\"DYNAMICASSIGNMENT\",\"Closed\":0,\"OriginVertex\":\"visnode.682.21\",\"DestinVertex\":\"visnode.1000054.21\"},{\"No\":22,\"qgrid_unfiltered_index\":21,\"FromNode\":751,\"ToNode\":1000092,\"FromEdges\":\"\",\"ToEdges\":\"1130,1131\",\"LinkSeq\":\"272\",\"Length\":487.70823,\"IsTurn\":0,\"Type\":\"DYNAMICASSIGNMENT\",\"Closed\":0,\"OriginVertex\":\"visnode.751.22\",\"DestinVertex\":\"visnode.1000092.22\"},{\"No\":23,\"qgrid_unfiltered_index\":22,\"FromNode\":771,\"ToNode\":1000091,\"FromEdges\":\"\",\"ToEdges\":\"1124,1125\",\"LinkSeq\":\"517\",\"Length\":414.60592,\"IsTurn\":0,\"Type\":\"DYNAMICASSIGNMENT\",\"Closed\":0,\"OriginVertex\":\"visnode.771.23\",\"DestinVertex\":\"visnode.1000091.23\"},{\"No\":24,\"qgrid_unfiltered_index\":23,\"FromNode\":772,\"ToNode\":1000093,\"FromEdges\":\"\",\"ToEdges\":\"1136,1137\",\"LinkSeq\":\"594\",\"Length\":390.87345,\"IsTurn\":0,\"Type\":\"DYNAMICASSIGNMENT\",\"Closed\":0,\"OriginVertex\":\"visnode.772.24\",\"DestinVertex\":\"visnode.1000093.24\"},{\"No\":25,\"qgrid_unfiltered_index\":24,\"FromNode\":773,\"ToNode\":1000089,\"FromEdges\":\"\",\"ToEdges\":\"1112,1113,1114\",\"LinkSeq\":\"519\",\"Length\":415.22235,\"IsTurn\":0,\"Type\":\"DYNAMICASSIGNMENT\",\"Closed\":0,\"OriginVertex\":\"visnode.773.25\",\"DestinVertex\":\"visnode.1000089.25\"},{\"No\":26,\"qgrid_unfiltered_index\":25,\"FromNode\":781,\"ToNode\":1000083,\"FromEdges\":\"\",\"ToEdges\":\"1091,1092\",\"LinkSeq\":\"507\",\"Length\":448.90618,\"IsTurn\":0,\"Type\":\"DYNAMICASSIGNMENT\",\"Closed\":0,\"OriginVertex\":\"visnode.781.26\",\"DestinVertex\":\"visnode.1000083.26\"},{\"No\":27,\"qgrid_unfiltered_index\":26,\"FromNode\":782,\"ToNode\":1000089,\"FromEdges\":\"\",\"ToEdges\":\"1115,1116,1117\",\"LinkSeq\":\"511\",\"Length\":337.4879,\"IsTurn\":0,\"Type\":\"DYNAMICASSIGNMENT\",\"Closed\":0,\"OriginVertex\":\"visnode.782.27\",\"DestinVertex\":\"visnode.1000089.27\"},{\"No\":28,\"qgrid_unfiltered_index\":27,\"FromNode\":783,\"ToNode\":1754,\"FromEdges\":\"\",\"ToEdges\":\"537,538,539\",\"LinkSeq\":\"512\",\"Length\":435.39094,\"IsTurn\":0,\"Type\":\"DYNAMICASSIGNMENT\",\"Closed\":0,\"OriginVertex\":\"visnode.783.28\",\"DestinVertex\":\"visnode.1754.28\"},{\"No\":29,\"qgrid_unfiltered_index\":28,\"FromNode\":831,\"ToNode\":1000076,\"FromEdges\":\"\",\"ToEdges\":\"1063,1064\",\"LinkSeq\":\"534\",\"Length\":356.8153,\"IsTurn\":0,\"Type\":\"DYNAMICASSIGNMENT\",\"Closed\":0,\"OriginVertex\":\"visnode.831.29\",\"DestinVertex\":\"visnode.1000076.29\"},{\"No\":30,\"qgrid_unfiltered_index\":29,\"FromNode\":832,\"ToNode\":1000074,\"FromEdges\":\"\",\"ToEdges\":\"1049,1050\",\"LinkSeq\":\"541\",\"Length\":266.08167,\"IsTurn\":0,\"Type\":\"DYNAMICASSIGNMENT\",\"Closed\":0,\"OriginVertex\":\"visnode.832.30\",\"DestinVertex\":\"visnode.1000074.30\"},{\"No\":31,\"qgrid_unfiltered_index\":30,\"FromNode\":833,\"ToNode\":1000077,\"FromEdges\":\"\",\"ToEdges\":\"1069,1070\",\"LinkSeq\":\"538\",\"Length\":347.75004,\"IsTurn\":0,\"Type\":\"DYNAMICASSIGNMENT\",\"Closed\":0,\"OriginVertex\":\"visnode.833.31\",\"DestinVertex\":\"visnode.1000077.31\"},{\"No\":32,\"qgrid_unfiltered_index\":31,\"FromNode\":1754,\"ToNode\":783,\"FromEdges\":\"540,544,548,552\",\"ToEdges\":\"\",\"LinkSeq\":\"514\",\"Length\":434.89019,\"IsTurn\":0,\"Type\":\"DYNAMICASSIGNMENT\",\"Closed\":0,\"OriginVertex\":\"visnode.1754.32\",\"DestinVertex\":\"visnode.783.28\"},{\"No\":33,\"qgrid_unfiltered_index\":32,\"FromNode\":1754,\"ToNode\":1000009,\"FromEdges\":\"545,549,553\",\"ToEdges\":\"\",\"LinkSeq\":\"137\",\"Length\":1534.22318,\"IsTurn\":0,\"Type\":\"DYNAMICASSIGNMENT\",\"Closed\":0,\"OriginVertex\":\"visnode.1754.33\",\"DestinVertex\":\"visnode.1000009.33\"},{\"No\":34,\"qgrid_unfiltered_index\":33,\"FromNode\":1754,\"ToNode\":1000087,\"FromEdges\":\"537,541,550,554\",\"ToEdges\":\"1104,1105\",\"LinkSeq\":\"67,10039,71,10040,72\",\"Length\":373.21674,\"IsTurn\":0,\"Type\":\"DYNAMICASSIGNMENT\",\"Closed\":0,\"OriginVertex\":\"visnode.1754.34\",\"DestinVertex\":\"visnode.1000087.34\"},{\"No\":35,\"qgrid_unfiltered_index\":34,\"FromNode\":1754,\"ToNode\":1000091,\"FromEdges\":\"538,542,546,555\",\"ToEdges\":\"1126,1127\",\"LinkSeq\":\"136\",\"Length\":257.31633,\"IsTurn\":0,\"Type\":\"DYNAMICASSIGNMENT\",\"Closed\":0,\"OriginVertex\":\"visnode.1754.35\",\"DestinVertex\":\"visnode.1000091.35\"},{\"No\":36,\"qgrid_unfiltered_index\":35,\"FromNode\":1754,\"ToNode\":1000092,\"FromEdges\":\"539,543,547,551\",\"ToEdges\":\"1132,1133\",\"LinkSeq\":\"69\",\"Length\":190.93263,\"IsTurn\":0,\"Type\":\"DYNAMICASSIGNMENT\",\"Closed\":0,\"OriginVertex\":\"visnode.1754.36\",\"DestinVertex\":\"visnode.1000092.36\"},{\"No\":37,\"qgrid_unfiltered_index\":36,\"FromNode\":1755,\"ToNode\":1000022,\"FromEdges\":\"559,562,565\",\"ToEdges\":\"\",\"LinkSeq\":\"64,10036,65\",\"Length\":1392.35313,\"IsTurn\":0,\"Type\":\"DYNAMICASSIGNMENT\",\"Closed\":0,\"OriginVertex\":\"visnode.1755.37\",\"DestinVertex\":\"visnode.1000022.37\"},{\"No\":38,\"qgrid_unfiltered_index\":37,\"FromNode\":1755,\"ToNode\":1000092,\"FromEdges\":\"556,563,566\",\"ToEdges\":\"1134,1135\",\"LinkSeq\":\"56\",\"Length\":177.91582,\"IsTurn\":0,\"Type\":\"DYNAMICASSIGNMENT\",\"Closed\":0,\"OriginVertex\":\"visnode.1755.38\",\"DestinVertex\":\"visnode.1000092.38\"},{\"No\":39,\"qgrid_unfiltered_index\":38,\"FromNode\":1755,\"ToNode\":1000094,\"FromEdges\":\"557,560,567\",\"ToEdges\":\"1142,1143\",\"LinkSeq\":\"112\",\"Length\":557.97449,\"IsTurn\":0,\"Type\":\"DYNAMICASSIGNMENT\",\"Closed\":0,\"OriginVertex\":\"visnode.1755.39\",\"DestinVertex\":\"visnode.1000094.39\"},{\"No\":40,\"qgrid_unfiltered_index\":39,\"FromNode\":1755,\"ToNode\":1000122,\"FromEdges\":\"558,561,564\",\"ToEdges\":\"1268\",\"LinkSeq\":\"113\",\"Length\":736.15934,\"IsTurn\":0,\"Type\":\"DYNAMICASSIGNMENT\",\"Closed\":0,\"OriginVertex\":\"visnode.1755.40\",\"DestinVertex\":\"visnode.1000122.40\"},{\"No\":41,\"qgrid_unfiltered_index\":40,\"FromNode\":1756,\"ToNode\":2042,\"FromEdges\":\"576\",\"ToEdges\":\"\",\"LinkSeq\":\"526\",\"Length\":356.63625,\"IsTurn\":0,\"Type\":\"DYNAMICASSIGNMENT\",\"Closed\":0,\"OriginVertex\":\"visnode.1756.41\",\"DestinVertex\":\"visnode.2042.41\"},{\"No\":42,\"qgrid_unfiltered_index\":41,\"FromNode\":1756,\"ToNode\":2062,\"FromEdges\":\"571,580,585\",\"ToEdges\":\"\",\"LinkSeq\":\"545\",\"Length\":95.80442,\"IsTurn\":0,\"Type\":\"DYNAMICASSIGNMENT\",\"Closed\":0,\"OriginVertex\":\"visnode.1756.42\",\"DestinVertex\":\"visnode.2062.42\"},{\"No\":43,\"qgrid_unfiltered_index\":42,\"FromNode\":1756,\"ToNode\":1000021,\"FromEdges\":\"568,577,581,586\",\"ToEdges\":\"\",\"LinkSeq\":\"6\",\"Length\":1994.77837,\"IsTurn\":0,\"Type\":\"DYNAMICASSIGNMENT\",\"Closed\":0,\"OriginVertex\":\"visnode.1756.43\",\"DestinVertex\":\"visnode.1000021.43\"},{\"No\":44,\"qgrid_unfiltered_index\":43,\"FromNode\":1756,\"ToNode\":1000034,\"FromEdges\":\"570,572,582,587\",\"ToEdges\":\"759,760\",\"LinkSeq\":\"10,10005,9\",\"Length\":218.93999,\"IsTurn\":0,\"Type\":\"DYNAMICASSIGNMENT\",\"Closed\":0,\"OriginVertex\":\"visnode.1756.44\",\"DestinVertex\":\"visnode.1000034.44\"},{\"No\":45,\"qgrid_unfiltered_index\":44,\"FromNode\":1756,\"ToNode\":1000034,\"FromEdges\":\"573,583,588,589\",\"ToEdges\":\"761\",\"LinkSeq\":\"12\",\"Length\":219.44154,\"IsTurn\":0,\"Type\":\"DYNAMICASSIGNMENT\",\"Closed\":0,\"OriginVertex\":\"visnode.1756.45\",\"DestinVertex\":\"visnode.1000034.45\"},{\"No\":46,\"qgrid_unfiltered_index\":45,\"FromNode\":1756,\"ToNode\":1000081,\"FromEdges\":\"574,578,584\",\"ToEdges\":\"1085,1086\",\"LinkSeq\":\"117\",\"Length\":489.80322,\"IsTurn\":0,\"Type\":\"DYNAMICASSIGNMENT\",\"Closed\":0,\"OriginVertex\":\"visnode.1756.46\",\"DestinVertex\":\"visnode.1000081.46\"},{\"No\":47,\"qgrid_unfiltered_index\":46,\"FromNode\":1756,\"ToNode\":1000093,\"FromEdges\":\"569,575,579,590\",\"ToEdges\":\"1138,1139\",\"LinkSeq\":\"118\",\"Length\":1060.21444,\"IsTurn\":0,\"Type\":\"DYNAMICASSIGNMENT\",\"Closed\":0,\"OriginVertex\":\"visnode.1756.47\",\"DestinVertex\":\"visnode.1000093.47\"},{\"No\":48,\"qgrid_unfiltered_index\":47,\"FromNode\":1757,\"ToNode\":1000073,\"FromEdges\":\"593,596,601\",\"ToEdges\":\"1043,1044\",\"LinkSeq\":\"145\",\"Length\":81.30041,\"IsTurn\":0,\"Type\":\"DYNAMICASSIGNMENT\",\"Closed\":0,\"OriginVertex\":\"visnode.1757.48\",\"DestinVertex\":\"visnode.1000073.48\"},{\"No\":49,\"qgrid_unfiltered_index\":48,\"FromNode\":1757,\"ToNode\":1000075,\"FromEdges\":\"591,599\",\"ToEdges\":\"1055,1056\",\"LinkSeq\":\"114\",\"Length\":389.17602,\"IsTurn\":0,\"Type\":\"DYNAMICASSIGNMENT\",\"Closed\":0,\"OriginVertex\":\"visnode.1757.49\",\"DestinVertex\":\"visnode.1000075.49\"},{\"No\":50,\"qgrid_unfiltered_index\":49,\"FromNode\":1757,\"ToNode\":1000078,\"FromEdges\":\"592,600\",\"ToEdges\":\"1073,1074\",\"LinkSeq\":\"144\",\"Length\":347.46133,\"IsTurn\":0,\"Type\":\"DYNAMICASSIGNMENT\",\"Closed\":0,\"OriginVertex\":\"visnode.1757.50\",\"DestinVertex\":\"visnode.1000078.50\"},{\"No\":51,\"qgrid_unfiltered_index\":50,\"FromNode\":1757,\"ToNode\":1000080,\"FromEdges\":\"594,597\",\"ToEdges\":\"1079,1080\",\"LinkSeq\":\"122\",\"Length\":379.23149,\"IsTurn\":0,\"Type\":\"DYNAMICASSIGNMENT\",\"Closed\":0,\"OriginVertex\":\"visnode.1757.51\",\"DestinVertex\":\"visnode.1000080.51\"},{\"No\":52,\"qgrid_unfiltered_index\":51,\"FromNode\":1757,\"ToNode\":1000098,\"FromEdges\":\"595,598\",\"ToEdges\":\"1158,1159\",\"LinkSeq\":\"259,10830,543\",\"Length\":322.58464,\"IsTurn\":0,\"Type\":\"DYNAMICASSIGNMENT\",\"Closed\":0,\"OriginVertex\":\"visnode.1757.52\",\"DestinVertex\":\"visnode.1000098.52\"},{\"No\":53,\"qgrid_unfiltered_index\":52,\"FromNode\":1765,\"ToNode\":1000024,\"FromEdges\":\"605,608,611\",\"ToEdges\":\"\",\"LinkSeq\":\"159\",\"Length\":1671.7887,\"IsTurn\":0,\"Type\":\"DYNAMICASSIGNMENT\",\"Closed\":0,\"OriginVertex\":\"visnode.1765.53\",\"DestinVertex\":\"visnode.1000024.53\"},{\"No\":54,\"qgrid_unfiltered_index\":53,\"FromNode\":1765,\"ToNode\":1000055,\"FromEdges\":\"602,609,612\",\"ToEdges\":\"926,927\",\"LinkSeq\":\"76,10044,57\",\"Length\":775.98248,\"IsTurn\":0,\"Type\":\"DYNAMICASSIGNMENT\",\"Closed\":0,\"OriginVertex\":\"visnode.1765.54\",\"DestinVertex\":\"visnode.1000055.54\"},{\"No\":55,\"qgrid_unfiltered_index\":54,\"FromNode\":1765,\"ToNode\":1000056,\"FromEdges\":\"603,606,613\",\"ToEdges\":\"930,931\",\"LinkSeq\":\"160\",\"Length\":245.3658,\"IsTurn\":0,\"Type\":\"DYNAMICASSIGNMENT\",\"Closed\":0,\"OriginVertex\":\"visnode.1765.55\",\"DestinVertex\":\"visnode.1000056.55\"},{\"No\":56,\"qgrid_unfiltered_index\":55,\"FromNode\":1765,\"ToNode\":1000086,\"FromEdges\":\"604,607,610\",\"ToEdges\":\"1097,1098\",\"LinkSeq\":\"58\",\"Length\":124.15454,\"IsTurn\":0,\"Type\":\"DYNAMICASSIGNMENT\",\"Closed\":0,\"OriginVertex\":\"visnode.1765.56\",\"DestinVertex\":\"visnode.1000086.56\"},{\"No\":57,\"qgrid_unfiltered_index\":56,\"FromNode\":1821,\"ToNode\":1000032,\"FromEdges\":\"\",\"ToEdges\":\"744,745,746\",\"LinkSeq\":\"251\",\"Length\":1481.30604,\"IsTurn\":0,\"Type\":\"DYNAMICASSIGNMENT\",\"Closed\":0,\"OriginVertex\":\"visnode.1821.57\",\"DestinVertex\":\"visnode.1000032.57\"},{\"No\":58,\"qgrid_unfiltered_index\":57,\"FromNode\":1891,\"ToNode\":1000051,\"FromEdges\":\"\",\"ToEdges\":\"890,891\",\"LinkSeq\":\"491\",\"Length\":906.59336,\"IsTurn\":0,\"Type\":\"DYNAMICASSIGNMENT\",\"Closed\":0,\"OriginVertex\":\"visnode.1891.58\",\"DestinVertex\":\"visnode.1000051.58\"},{\"No\":59,\"qgrid_unfiltered_index\":58,\"FromNode\":1921,\"ToNode\":1000050,\"FromEdges\":\"\",\"ToEdges\":\"884,885\",\"LinkSeq\":\"467\",\"Length\":828.6533,\"IsTurn\":0,\"Type\":\"DYNAMICASSIGNMENT\",\"Closed\":0,\"OriginVertex\":\"visnode.1921.59\",\"DestinVertex\":\"visnode.1000050.59\"},{\"No\":60,\"qgrid_unfiltered_index\":59,\"FromNode\":1922,\"ToNode\":1000052,\"FromEdges\":\"\",\"ToEdges\":\"896,897,898\",\"LinkSeq\":\"388\",\"Length\":929.1945,\"IsTurn\":0,\"Type\":\"DYNAMICASSIGNMENT\",\"Closed\":0,\"OriginVertex\":\"visnode.1922.60\",\"DestinVertex\":\"visnode.1000052.60\"},{\"No\":61,\"qgrid_unfiltered_index\":60,\"FromNode\":1941,\"ToNode\":1000059,\"FromEdges\":\"\",\"ToEdges\":\"952,953\",\"LinkSeq\":\"489\",\"Length\":790.30511,\"IsTurn\":0,\"Type\":\"DYNAMICASSIGNMENT\",\"Closed\":0,\"OriginVertex\":\"visnode.1941.61\",\"DestinVertex\":\"visnode.1000059.61\"},{\"No\":62,\"qgrid_unfiltered_index\":61,\"FromNode\":1951,\"ToNode\":1000056,\"FromEdges\":\"\",\"ToEdges\":\"932,933\",\"LinkSeq\":\"499\",\"Length\":193.39424,\"IsTurn\":0,\"Type\":\"DYNAMICASSIGNMENT\",\"Closed\":0,\"OriginVertex\":\"visnode.1951.62\",\"DestinVertex\":\"visnode.1000056.62\"},{\"No\":63,\"qgrid_unfiltered_index\":62,\"FromNode\":1952,\"ToNode\":1000086,\"FromEdges\":\"\",\"ToEdges\":\"1099,1100\",\"LinkSeq\":\"497\",\"Length\":353.23865,\"IsTurn\":0,\"Type\":\"DYNAMICASSIGNMENT\",\"Closed\":0,\"OriginVertex\":\"visnode.1952.63\",\"DestinVertex\":\"visnode.1000086.63\"},{\"No\":64,\"qgrid_unfiltered_index\":63,\"FromNode\":2041,\"ToNode\":1000123,\"FromEdges\":\"\",\"ToEdges\":\"1271,1272\",\"LinkSeq\":\"522\",\"Length\":400.96923,\"IsTurn\":0,\"Type\":\"DYNAMICASSIGNMENT\",\"Closed\":0,\"OriginVertex\":\"visnode.2041.64\",\"DestinVertex\":\"visnode.1000123.64\"},{\"No\":65,\"qgrid_unfiltered_index\":64,\"FromNode\":2042,\"ToNode\":1756,\"FromEdges\":\"\",\"ToEdges\":\"568,569\",\"LinkSeq\":\"525\",\"Length\":356.90232,\"IsTurn\":0,\"Type\":\"DYNAMICASSIGNMENT\",\"Closed\":0,\"OriginVertex\":\"visnode.2042.41\",\"DestinVertex\":\"visnode.1756.65\"},{\"No\":66,\"qgrid_unfiltered_index\":65,\"FromNode\":2052,\"ToNode\":1000104,\"FromEdges\":\"\",\"ToEdges\":\"1215,1216,1217,1218,1219\",\"LinkSeq\":\"269\",\"Length\":216.05353,\"IsTurn\":0,\"Type\":\"DYNAMICASSIGNMENT\",\"Closed\":0,\"OriginVertex\":\"visnode.2052.66\",\"DestinVertex\":\"visnode.1000104.66\"},{\"No\":67,\"qgrid_unfiltered_index\":66,\"FromNode\":2053,\"ToNode\":47,\"FromEdges\":\"\",\"ToEdges\":\"500,501,502,503\",\"LinkSeq\":\"505\",\"Length\":380.68885,\"IsTurn\":0,\"Type\":\"DYNAMICASSIGNMENT\",\"Closed\":0,\"OriginVertex\":\"visnode.2053.8\",\"DestinVertex\":\"visnode.47.67\"},{\"No\":68,\"qgrid_unfiltered_index\":67,\"FromNode\":2054,\"ToNode\":1000058,\"FromEdges\":\"616,617\",\"ToEdges\":\"948,949\",\"LinkSeq\":\"503\",\"Length\":573.26376,\"IsTurn\":0,\"Type\":\"DYNAMICASSIGNMENT\",\"Closed\":0,\"OriginVertex\":\"visnode.2054.68\",\"DestinVertex\":\"visnode.1000058.68\"},{\"No\":69,\"qgrid_unfiltered_index\":68,\"FromNode\":2054,\"ToNode\":1000136,\"FromEdges\":\"614\",\"ToEdges\":\"\",\"LinkSeq\":\"198\",\"Length\":96.04461,\"IsTurn\":0,\"Type\":\"DYNAMICASSIGNMENT\",\"Closed\":0,\"OriginVertex\":\"visnode.2054.69\",\"DestinVertex\":\"visnode.1000136.69\"},{\"No\":70,\"qgrid_unfiltered_index\":69,\"FromNode\":2054,\"ToNode\":1000137,\"FromEdges\":\"615\",\"ToEdges\":\"\",\"LinkSeq\":\"603\",\"Length\":93.80485,\"IsTurn\":0,\"Type\":\"DYNAMICASSIGNMENT\",\"Closed\":0,\"OriginVertex\":\"visnode.2054.70\",\"DestinVertex\":\"visnode.1000137.70\"},{\"No\":71,\"qgrid_unfiltered_index\":70,\"FromNode\":2061,\"ToNode\":1000081,\"FromEdges\":\"\",\"ToEdges\":\"1087,1088\",\"LinkSeq\":\"547\",\"Length\":75.62739,\"IsTurn\":0,\"Type\":\"DYNAMICASSIGNMENT\",\"Closed\":0,\"OriginVertex\":\"visnode.2061.71\",\"DestinVertex\":\"visnode.1000081.71\"},{\"No\":72,\"qgrid_unfiltered_index\":71,\"FromNode\":2062,\"ToNode\":1756,\"FromEdges\":\"\",\"ToEdges\":\"570\",\"LinkSeq\":\"544\",\"Length\":95.34551,\"IsTurn\":0,\"Type\":\"DYNAMICASSIGNMENT\",\"Closed\":0,\"OriginVertex\":\"visnode.2062.42\",\"DestinVertex\":\"visnode.1756.72\"},{\"No\":73,\"qgrid_unfiltered_index\":72,\"FromNode\":2071,\"ToNode\":1000080,\"FromEdges\":\"\",\"ToEdges\":\"1081,1082\",\"LinkSeq\":\"530\",\"Length\":298.03421,\"IsTurn\":0,\"Type\":\"DYNAMICASSIGNMENT\",\"Closed\":0,\"OriginVertex\":\"visnode.2071.73\",\"DestinVertex\":\"visnode.1000080.73\"},{\"No\":74,\"qgrid_unfiltered_index\":73,\"FromNode\":2081,\"ToNode\":1000078,\"FromEdges\":\"\",\"ToEdges\":\"1075,1076\",\"LinkSeq\":\"531\",\"Length\":435.47418,\"IsTurn\":0,\"Type\":\"DYNAMICASSIGNMENT\",\"Closed\":0,\"OriginVertex\":\"visnode.2081.74\",\"DestinVertex\":\"visnode.1000078.74\"},{\"No\":75,\"qgrid_unfiltered_index\":74,\"FromNode\":2214,\"ToNode\":36,\"FromEdges\":\"621,624,627\",\"ToEdges\":\"482,483\",\"LinkSeq\":\"47\",\"Length\":292.75295,\"IsTurn\":0,\"Type\":\"DYNAMICASSIGNMENT\",\"Closed\":0,\"OriginVertex\":\"visnode.2214.75\",\"DestinVertex\":\"visnode.36.75\"},{\"No\":76,\"qgrid_unfiltered_index\":75,\"FromNode\":2214,\"ToNode\":19121,\"FromEdges\":\"618,625,628\",\"ToEdges\":\"\",\"LinkSeq\":\"410\",\"Length\":475.04056,\"IsTurn\":0,\"Type\":\"DYNAMICASSIGNMENT\",\"Closed\":0,\"OriginVertex\":\"visnode.2214.76\",\"DestinVertex\":\"visnode.19121.76\"},{\"No\":77,\"qgrid_unfiltered_index\":76,\"FromNode\":2214,\"ToNode\":1000037,\"FromEdges\":\"619,622,629\",\"ToEdges\":\"786,787,788\",\"LinkSeq\":\"213\",\"Length\":279.24265,\"IsTurn\":0,\"Type\":\"DYNAMICASSIGNMENT\",\"Closed\":0,\"OriginVertex\":\"visnode.2214.77\",\"DestinVertex\":\"visnode.1000037.77\"},{\"No\":78,\"qgrid_unfiltered_index\":77,\"FromNode\":2214,\"ToNode\":1000039,\"FromEdges\":\"620,623,626\",\"ToEdges\":\"801,802,803\",\"LinkSeq\":\"48\",\"Length\":499.47827,\"IsTurn\":0,\"Type\":\"DYNAMICASSIGNMENT\",\"Closed\":0,\"OriginVertex\":\"visnode.2214.78\",\"DestinVertex\":\"visnode.1000039.78\"},{\"No\":79,\"qgrid_unfiltered_index\":78,\"FromNode\":2711,\"ToNode\":1000133,\"FromEdges\":\"\",\"ToEdges\":\"1308,1309,1310,1311\",\"LinkSeq\":\"264\",\"Length\":459.89687,\"IsTurn\":0,\"Type\":\"DYNAMICASSIGNMENT\",\"Closed\":0,\"OriginVertex\":\"visnode.2711.79\",\"DestinVertex\":\"visnode.1000133.79\"},{\"No\":80,\"qgrid_unfiltered_index\":79,\"FromNode\":2712,\"ToNode\":1000104,\"FromEdges\":\"\",\"ToEdges\":\"1220,1221,1222,1223,1224\",\"LinkSeq\":\"266\",\"Length\":299.15684,\"IsTurn\":0,\"Type\":\"DYNAMICASSIGNMENT\",\"Closed\":0,\"OriginVertex\":\"visnode.2712.80\",\"DestinVertex\":\"visnode.1000104.80\"},{\"No\":81,\"qgrid_unfiltered_index\":80,\"FromNode\":2713,\"ToNode\":47,\"FromEdges\":\"\",\"ToEdges\":\"504,505\",\"LinkSeq\":\"568\",\"Length\":340.18821,\"IsTurn\":0,\"Type\":\"DYNAMICASSIGNMENT\",\"Closed\":0,\"OriginVertex\":\"visnode.2713.9\",\"DestinVertex\":\"visnode.47.81\"},{\"No\":82,\"qgrid_unfiltered_index\":81,\"FromNode\":2714,\"ToNode\":1000073,\"FromEdges\":\"\",\"ToEdges\":\"1045,1046\",\"LinkSeq\":\"565\",\"Length\":434.50966,\"IsTurn\":0,\"Type\":\"DYNAMICASSIGNMENT\",\"Closed\":0,\"OriginVertex\":\"visnode.2714.82\",\"DestinVertex\":\"visnode.1000073.82\"},{\"No\":83,\"qgrid_unfiltered_index\":82,\"FromNode\":2715,\"ToNode\":1000072,\"FromEdges\":\"\",\"ToEdges\":\"1037,1038\",\"LinkSeq\":\"562\",\"Length\":440.89944,\"IsTurn\":0,\"Type\":\"DYNAMICASSIGNMENT\",\"Closed\":0,\"OriginVertex\":\"visnode.2715.83\",\"DestinVertex\":\"visnode.1000072.83\"},{\"No\":84,\"qgrid_unfiltered_index\":83,\"FromNode\":3721,\"ToNode\":1000075,\"FromEdges\":\"\",\"ToEdges\":\"1057,1058\",\"LinkSeq\":\"560\",\"Length\":214.34484,\"IsTurn\":0,\"Type\":\"DYNAMICASSIGNMENT\",\"Closed\":0,\"OriginVertex\":\"visnode.3721.84\",\"DestinVertex\":\"visnode.1000075.84\"},{\"No\":85,\"qgrid_unfiltered_index\":84,\"FromNode\":3721,\"ToNode\":1000098,\"FromEdges\":\"\",\"ToEdges\":\"1160,1161\",\"LinkSeq\":\"559\",\"Length\":267.59346,\"IsTurn\":0,\"Type\":\"DYNAMICASSIGNMENT\",\"Closed\":0,\"OriginVertex\":\"visnode.3721.84\",\"DestinVertex\":\"visnode.1000098.85\"},{\"No\":86,\"qgrid_unfiltered_index\":85,\"FromNode\":3722,\"ToNode\":1000070,\"FromEdges\":\"\",\"ToEdges\":\"1027,1028\",\"LinkSeq\":\"555\",\"Length\":340.75609,\"IsTurn\":0,\"Type\":\"DYNAMICASSIGNMENT\",\"Closed\":0,\"OriginVertex\":\"visnode.3722.86\",\"DestinVertex\":\"visnode.1000070.86\"},{\"No\":87,\"qgrid_unfiltered_index\":86,\"FromNode\":3722,\"ToNode\":1000071,\"FromEdges\":\"\",\"ToEdges\":\"1031,1032\",\"LinkSeq\":\"556\",\"Length\":321.19161,\"IsTurn\":0,\"Type\":\"DYNAMICASSIGNMENT\",\"Closed\":0,\"OriginVertex\":\"visnode.3722.86\",\"DestinVertex\":\"visnode.1000071.87\"},{\"No\":88,\"qgrid_unfiltered_index\":87,\"FromNode\":3723,\"ToNode\":1000068,\"FromEdges\":\"\",\"ToEdges\":\"1009\",\"LinkSeq\":\"552\",\"Length\":237.94626,\"IsTurn\":0,\"Type\":\"DYNAMICASSIGNMENT\",\"Closed\":0,\"OriginVertex\":\"visnode.3723.88\",\"DestinVertex\":\"visnode.1000068.88\"},{\"No\":89,\"qgrid_unfiltered_index\":88,\"FromNode\":3724,\"ToNode\":1000069,\"FromEdges\":\"\",\"ToEdges\":\"1020,1021\",\"LinkSeq\":\"550\",\"Length\":213.47133,\"IsTurn\":0,\"Type\":\"DYNAMICASSIGNMENT\",\"Closed\":0,\"OriginVertex\":\"visnode.3724.89\",\"DestinVertex\":\"visnode.1000069.89\"},{\"No\":90,\"qgrid_unfiltered_index\":89,\"FromNode\":3731,\"ToNode\":1000133,\"FromEdges\":\"\",\"ToEdges\":\"1312,1313,1314,1315\",\"LinkSeq\":\"262,10129,261\",\"Length\":441.89125,\"IsTurn\":0,\"Type\":\"DYNAMICASSIGNMENT\",\"Closed\":0,\"OriginVertex\":\"visnode.3731.90\",\"DestinVertex\":\"visnode.1000133.90\"},{\"No\":91,\"qgrid_unfiltered_index\":90,\"FromNode\":3732,\"ToNode\":1000067,\"FromEdges\":\"\",\"ToEdges\":\"1006\",\"LinkSeq\":\"570\",\"Length\":267.30919,\"IsTurn\":0,\"Type\":\"DYNAMICASSIGNMENT\",\"Closed\":0,\"OriginVertex\":\"visnode.3732.91\",\"DestinVertex\":\"visnode.1000067.91\"},{\"No\":92,\"qgrid_unfiltered_index\":91,\"FromNode\":3733,\"ToNode\":1000064,\"FromEdges\":\"\",\"ToEdges\":\"985,986\",\"LinkSeq\":\"574\",\"Length\":560.30045,\"IsTurn\":0,\"Type\":\"DYNAMICASSIGNMENT\",\"Closed\":0,\"OriginVertex\":\"visnode.3733.92\",\"DestinVertex\":\"visnode.1000064.92\"},{\"No\":93,\"qgrid_unfiltered_index\":92,\"FromNode\":3734,\"ToNode\":1000063,\"FromEdges\":\"\",\"ToEdges\":\"975,976\",\"LinkSeq\":\"576\",\"Length\":462.10192,\"IsTurn\":0,\"Type\":\"DYNAMICASSIGNMENT\",\"Closed\":0,\"OriginVertex\":\"visnode.3734.93\",\"DestinVertex\":\"visnode.1000063.93\"},{\"No\":94,\"qgrid_unfiltered_index\":93,\"FromNode\":3735,\"ToNode\":1000066,\"FromEdges\":\"\",\"ToEdges\":\"999,1000\",\"LinkSeq\":\"571\",\"Length\":278.92912,\"IsTurn\":0,\"Type\":\"DYNAMICASSIGNMENT\",\"Closed\":0,\"OriginVertex\":\"visnode.3735.94\",\"DestinVertex\":\"visnode.1000066.94\"},{\"No\":95,\"qgrid_unfiltered_index\":94,\"FromNode\":3741,\"ToNode\":1000032,\"FromEdges\":\"\",\"ToEdges\":\"747,748,749,750,751,752\",\"LinkSeq\":\"254\",\"Length\":255.4811,\"IsTurn\":0,\"Type\":\"DYNAMICASSIGNMENT\",\"Closed\":0,\"OriginVertex\":\"visnode.3741.95\",\"DestinVertex\":\"visnode.1000032.95\"},{\"No\":96,\"qgrid_unfiltered_index\":95,\"FromNode\":3742,\"ToNode\":1000060,\"FromEdges\":\"\",\"ToEdges\":\"958,959\",\"LinkSeq\":\"584\",\"Length\":569.0049,\"IsTurn\":0,\"Type\":\"DYNAMICASSIGNMENT\",\"Closed\":0,\"OriginVertex\":\"visnode.3742.96\",\"DestinVertex\":\"visnode.1000060.96\"},{\"No\":97,\"qgrid_unfiltered_index\":96,\"FromNode\":3742,\"ToNode\":1000062,\"FromEdges\":\"\",\"ToEdges\":\"970\",\"LinkSeq\":\"583\",\"Length\":452.84021,\"IsTurn\":0,\"Type\":\"DYNAMICASSIGNMENT\",\"Closed\":0,\"OriginVertex\":\"visnode.3742.96\",\"DestinVertex\":\"visnode.1000062.97\"},{\"No\":98,\"qgrid_unfiltered_index\":97,\"FromNode\":3743,\"ToNode\":1000061,\"FromEdges\":\"\",\"ToEdges\":\"964,965\",\"LinkSeq\":\"592\",\"Length\":634.10066,\"IsTurn\":0,\"Type\":\"DYNAMICASSIGNMENT\",\"Closed\":0,\"OriginVertex\":\"visnode.3743.98\",\"DestinVertex\":\"visnode.1000061.98\"},{\"No\":99,\"qgrid_unfiltered_index\":98,\"FromNode\":3744,\"ToNode\":1000063,\"FromEdges\":\"\",\"ToEdges\":\"977,978\",\"LinkSeq\":\"590\",\"Length\":657.70481,\"IsTurn\":0,\"Type\":\"DYNAMICASSIGNMENT\",\"Closed\":0,\"OriginVertex\":\"visnode.3744.99\",\"DestinVertex\":\"visnode.1000063.99\"},{\"No\":100,\"qgrid_unfiltered_index\":99,\"FromNode\":3745,\"ToNode\":1000065,\"FromEdges\":\"\",\"ToEdges\":\"991,992\",\"LinkSeq\":\"588\",\"Length\":678.59206,\"IsTurn\":0,\"Type\":\"DYNAMICASSIGNMENT\",\"Closed\":0,\"OriginVertex\":\"visnode.3745.100\",\"DestinVertex\":\"visnode.1000065.100\"},{\"No\":101,\"qgrid_unfiltered_index\":100,\"FromNode\":3746,\"ToNode\":1000102,\"FromEdges\":\"\",\"ToEdges\":\"1205\",\"LinkSeq\":\"581\",\"Length\":351.93286,\"IsTurn\":0,\"Type\":\"DYNAMICASSIGNMENT\",\"Closed\":0,\"OriginVertex\":\"visnode.3746.101\",\"DestinVertex\":\"visnode.1000102.101\"},{\"No\":102,\"qgrid_unfiltered_index\":101,\"FromNode\":3747,\"ToNode\":1000068,\"FromEdges\":\"\",\"ToEdges\":\"1010\",\"LinkSeq\":\"578\",\"Length\":375.0346,\"IsTurn\":0,\"Type\":\"DYNAMICASSIGNMENT\",\"Closed\":0,\"OriginVertex\":\"visnode.3747.102\",\"DestinVertex\":\"visnode.1000068.102\"},{\"No\":103,\"qgrid_unfiltered_index\":102,\"FromNode\":3761,\"ToNode\":1000053,\"FromEdges\":\"\",\"ToEdges\":\"908,909\",\"LinkSeq\":\"475\",\"Length\":496.91165,\"IsTurn\":0,\"Type\":\"DYNAMICASSIGNMENT\",\"Closed\":0,\"OriginVertex\":\"visnode.3761.103\",\"DestinVertex\":\"visnode.1000053.103\"},{\"No\":104,\"qgrid_unfiltered_index\":103,\"FromNode\":3762,\"ToNode\":1000054,\"FromEdges\":\"\",\"ToEdges\":\"916,917\",\"LinkSeq\":\"469\",\"Length\":894.64723,\"IsTurn\":0,\"Type\":\"DYNAMICASSIGNMENT\",\"Closed\":0,\"OriginVertex\":\"visnode.3762.104\",\"DestinVertex\":\"visnode.1000054.104\"},{\"No\":105,\"qgrid_unfiltered_index\":104,\"FromNode\":3771,\"ToNode\":1000027,\"FromEdges\":\"\",\"ToEdges\":\"695,696,697,698,699\",\"LinkSeq\":\"480\",\"Length\":319.40539,\"IsTurn\":0,\"Type\":\"DYNAMICASSIGNMENT\",\"Closed\":0,\"OriginVertex\":\"visnode.3771.105\",\"DestinVertex\":\"visnode.1000027.105\"},{\"No\":106,\"qgrid_unfiltered_index\":105,\"FromNode\":3771,\"ToNode\":1000029,\"FromEdges\":\"\",\"ToEdges\":\"719,720\",\"LinkSeq\":\"484\",\"Length\":480.15881,\"IsTurn\":0,\"Type\":\"DYNAMICASSIGNMENT\",\"Closed\":0,\"OriginVertex\":\"visnode.3771.105\",\"DestinVertex\":\"visnode.1000029.106\"},{\"No\":107,\"qgrid_unfiltered_index\":106,\"FromNode\":3771,\"ToNode\":1000049,\"FromEdges\":\"\",\"ToEdges\":\"878,879\",\"LinkSeq\":\"478\",\"Length\":266.07753,\"IsTurn\":0,\"Type\":\"DYNAMICASSIGNMENT\",\"Closed\":0,\"OriginVertex\":\"visnode.3771.105\",\"DestinVertex\":\"visnode.1000049.107\"},{\"No\":108,\"qgrid_unfiltered_index\":107,\"FromNode\":3781,\"ToNode\":1000031,\"FromEdges\":\"\",\"ToEdges\":\"732,733,734\",\"LinkSeq\":\"239\",\"Length\":464.95817,\"IsTurn\":0,\"Type\":\"DYNAMICASSIGNMENT\",\"Closed\":0,\"OriginVertex\":\"visnode.3781.108\",\"DestinVertex\":\"visnode.1000031.108\"},{\"No\":109,\"qgrid_unfiltered_index\":108,\"FromNode\":3811,\"ToNode\":1000046,\"FromEdges\":\"\",\"ToEdges\":\"860,861\",\"LinkSeq\":\"444\",\"Length\":378.84945,\"IsTurn\":0,\"Type\":\"DYNAMICASSIGNMENT\",\"Closed\":0,\"OriginVertex\":\"visnode.3811.109\",\"DestinVertex\":\"visnode.1000046.109\"},{\"No\":110,\"qgrid_unfiltered_index\":109,\"FromNode\":3812,\"ToNode\":1000045,\"FromEdges\":\"\",\"ToEdges\":\"854,855\",\"LinkSeq\":\"439\",\"Length\":417.44318,\"IsTurn\":0,\"Type\":\"DYNAMICASSIGNMENT\",\"Closed\":0,\"OriginVertex\":\"visnode.3812.110\",\"DestinVertex\":\"visnode.1000045.110\"},{\"No\":111,\"qgrid_unfiltered_index\":110,\"FromNode\":3813,\"ToNode\":1000047,\"FromEdges\":\"\",\"ToEdges\":\"866,867\",\"LinkSeq\":\"446\",\"Length\":404.24372,\"IsTurn\":0,\"Type\":\"DYNAMICASSIGNMENT\",\"Closed\":0,\"OriginVertex\":\"visnode.3813.111\",\"DestinVertex\":\"visnode.1000047.111\"},{\"No\":112,\"qgrid_unfiltered_index\":111,\"FromNode\":3814,\"ToNode\":1000042,\"FromEdges\":\"\",\"ToEdges\":\"825,826,827\",\"LinkSeq\":\"435\",\"Length\":325.36062,\"IsTurn\":0,\"Type\":\"DYNAMICASSIGNMENT\",\"Closed\":0,\"OriginVertex\":\"visnode.3814.112\",\"DestinVertex\":\"visnode.1000042.112\"},{\"No\":113,\"qgrid_unfiltered_index\":112,\"FromNode\":3815,\"ToNode\":1000042,\"FromEdges\":\"\",\"ToEdges\":\"828,829\",\"LinkSeq\":\"428\",\"Length\":322.23084,\"IsTurn\":0,\"Type\":\"DYNAMICASSIGNMENT\",\"Closed\":0,\"OriginVertex\":\"visnode.3815.113\",\"DestinVertex\":\"visnode.1000042.113\"},{\"No\":114,\"qgrid_unfiltered_index\":113,\"FromNode\":3816,\"ToNode\":1000041,\"FromEdges\":\"\",\"ToEdges\":\"819,820\",\"LinkSeq\":\"442\",\"Length\":340.66019,\"IsTurn\":0,\"Type\":\"DYNAMICASSIGNMENT\",\"Closed\":0,\"OriginVertex\":\"visnode.3816.114\",\"DestinVertex\":\"visnode.1000041.114\"},{\"No\":115,\"qgrid_unfiltered_index\":114,\"FromNode\":3817,\"ToNode\":1000039,\"FromEdges\":\"\",\"ToEdges\":\"804,805,806\",\"LinkSeq\":\"430\",\"Length\":459.09743,\"IsTurn\":0,\"Type\":\"DYNAMICASSIGNMENT\",\"Closed\":0,\"OriginVertex\":\"visnode.3817.115\",\"DestinVertex\":\"visnode.1000039.115\"},{\"No\":116,\"qgrid_unfiltered_index\":115,\"FromNode\":3818,\"ToNode\":1000040,\"FromEdges\":\"\",\"ToEdges\":\"813,814\",\"LinkSeq\":\"448\",\"Length\":394.22163,\"IsTurn\":0,\"Type\":\"DYNAMICASSIGNMENT\",\"Closed\":0,\"OriginVertex\":\"visnode.3818.116\",\"DestinVertex\":\"visnode.1000040.116\"},{\"No\":117,\"qgrid_unfiltered_index\":116,\"FromNode\":3821,\"ToNode\":1000043,\"FromEdges\":\"\",\"ToEdges\":\"836,837\",\"LinkSeq\":\"450\",\"Length\":359.71825,\"IsTurn\":0,\"Type\":\"DYNAMICASSIGNMENT\",\"Closed\":0,\"OriginVertex\":\"visnode.3821.117\",\"DestinVertex\":\"visnode.1000043.117\"},{\"No\":118,\"qgrid_unfiltered_index\":117,\"FromNode\":3822,\"ToNode\":1000044,\"FromEdges\":\"\",\"ToEdges\":\"842,843,844\",\"LinkSeq\":\"453\",\"Length\":781.58668,\"IsTurn\":0,\"Type\":\"DYNAMICASSIGNMENT\",\"Closed\":0,\"OriginVertex\":\"visnode.3822.118\",\"DestinVertex\":\"visnode.1000044.118\"},{\"No\":119,\"qgrid_unfiltered_index\":118,\"FromNode\":3823,\"ToNode\":1000048,\"FromEdges\":\"\",\"ToEdges\":\"872,873\",\"LinkSeq\":\"460\",\"Length\":430.12967,\"IsTurn\":0,\"Type\":\"DYNAMICASSIGNMENT\",\"Closed\":0,\"OriginVertex\":\"visnode.3823.119\",\"DestinVertex\":\"visnode.1000048.119\"},{\"No\":120,\"qgrid_unfiltered_index\":119,\"FromNode\":3824,\"ToNode\":1000111,\"FromEdges\":\"\",\"ToEdges\":\"1233,1234\",\"LinkSeq\":\"463\",\"Length\":368.87914,\"IsTurn\":0,\"Type\":\"DYNAMICASSIGNMENT\",\"Closed\":0,\"OriginVertex\":\"visnode.3824.120\",\"DestinVertex\":\"visnode.1000111.120\"},{\"No\":121,\"qgrid_unfiltered_index\":120,\"FromNode\":3831,\"ToNode\":1000044,\"FromEdges\":\"\",\"ToEdges\":\"845,846,847\",\"LinkSeq\":\"457\",\"Length\":374.87281,\"IsTurn\":0,\"Type\":\"DYNAMICASSIGNMENT\",\"Closed\":0,\"OriginVertex\":\"visnode.3831.121\",\"DestinVertex\":\"visnode.1000044.121\"},{\"No\":122,\"qgrid_unfiltered_index\":121,\"FromNode\":3851,\"ToNode\":36,\"FromEdges\":\"\",\"ToEdges\":\"484,485\",\"LinkSeq\":\"228\",\"Length\":792.83355,\"IsTurn\":0,\"Type\":\"DYNAMICASSIGNMENT\",\"Closed\":0,\"OriginVertex\":\"visnode.3851.2\",\"DestinVertex\":\"visnode.36.122\"},{\"No\":123,\"qgrid_unfiltered_index\":122,\"FromNode\":5058,\"ToNode\":1000027,\"FromEdges\":\"633,636,639\",\"ToEdges\":\"700,701,702\",\"LinkSeq\":\"186\",\"Length\":323.13118,\"IsTurn\":0,\"Type\":\"DYNAMICASSIGNMENT\",\"Closed\":0,\"OriginVertex\":\"visnode.5058.123\",\"DestinVertex\":\"visnode.1000027.123\"},{\"No\":124,\"qgrid_unfiltered_index\":123,\"FromNode\":5058,\"ToNode\":1000029,\"FromEdges\":\"630,637,640\",\"ToEdges\":\"721,722\",\"LinkSeq\":\"45\",\"Length\":136.41484,\"IsTurn\":0,\"Type\":\"DYNAMICASSIGNMENT\",\"Closed\":0,\"OriginVertex\":\"visnode.5058.124\",\"DestinVertex\":\"visnode.1000029.124\"},{\"No\":125,\"qgrid_unfiltered_index\":124,\"FromNode\":5058,\"ToNode\":1000045,\"FromEdges\":\"631,634,641\",\"ToEdges\":\"856,857\",\"LinkSeq\":\"43\",\"Length\":584.23957,\"IsTurn\":0,\"Type\":\"DYNAMICASSIGNMENT\",\"Closed\":0,\"OriginVertex\":\"visnode.5058.125\",\"DestinVertex\":\"visnode.1000045.125\"}]}",
       "_df_range": [
        0,
        125
       ],
       "_editable_rows": {},
       "_index_col_name": "qgrid_unfiltered_index",
       "_interval_columns": [],
       "_model_module_version": "1.1.1",
       "_multi_index": false,
       "_row_count": 1327,
       "_row_styles": {},
       "_sort_ascending": true,
       "_sort_field": null,
       "_view_module_version": "1.1.1",
       "_viewport_range": [
        25,
        41
       ],
       "grid_options": {
        "autoEdit": false,
        "boldIndex": true,
        "defaultColumnWidth": 150,
        "editable": true,
        "enableColumnReorder": false,
        "enableTextSelectionOnCells": true,
        "explicitInitialization": true,
        "filterable": true,
        "forceFitColumns": true,
        "fullWidthRows": true,
        "highlightSelectedCell": false,
        "highlightSelectedRow": true,
        "maxVisibleRows": 15,
        "minVisibleRows": 8,
        "rowHeight": 28,
        "sortable": true,
        "syncColumnCellResize": true
       },
       "id": "7bd95815-7caa-472d-ad96-eb3566a2cc17",
       "layout": "IPY_MODEL_135ec4f04945496d9d55b5cc6cb0868b",
       "precision": 5,
       "show_toolbar": true
      }
     },
     "d68c88444d8e4b5db7028c527ae52a36": {
      "model_module": "@jupyter-widgets/base",
      "model_module_version": "1.1.0",
      "model_name": "LayoutModel",
      "state": {}
     }
    },
    "version_major": 2,
    "version_minor": 0
   }
  }
 },
 "nbformat": 4,
 "nbformat_minor": 2
}

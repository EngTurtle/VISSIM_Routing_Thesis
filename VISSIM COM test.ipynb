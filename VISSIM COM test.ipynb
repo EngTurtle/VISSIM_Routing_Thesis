{
 "cells": [
  {
   "cell_type": "markdown",
   "metadata": {},
   "source": [
    "## Initiate the vissim instance"
   ]
  },
  {
   "cell_type": "code",
   "execution_count": 1,
   "metadata": {},
   "outputs": [],
   "source": [
    "# COM-Server\n",
    "import win32com.client as com\n",
    "import igraph\n",
    "import matplotlib.pyplot as plt\n",
    "import qgrid\n",
    "from VISSIM_helpers import VissimRoadNet"
   ]
  },
  {
   "cell_type": "markdown",
   "metadata": {},
   "source": [
    "Add autocompletion for VISSIM COM Object"
   ]
  },
  {
   "cell_type": "code",
   "execution_count": 2,
   "metadata": {},
   "outputs": [],
   "source": [
    "from IPython.utils.generics import complete_object\n",
    "\n",
    "@complete_object.register(com.DispatchBaseClass)\n",
    "def complete_dispatch_base_class(obj, prev_completions):\n",
    "    try:\n",
    "        ole_props = set(obj._prop_map_get_).union(set(obj._prop_map_put_))\n",
    "        return list(ole_props) + prev_completions\n",
    "    except AttributeError:\n",
    "        pass"
   ]
  },
  {
   "cell_type": "markdown",
   "metadata": {},
   "source": [
    "Start Vissim and load constants"
   ]
  },
  {
   "cell_type": "code",
   "execution_count": 3,
   "metadata": {},
   "outputs": [],
   "source": [
    "Vissim = com.gencache.EnsureDispatch(\"Vissim.Vissim\")\n",
    "from win32com.client import constants as c"
   ]
  },
  {
   "cell_type": "markdown",
   "metadata": {},
   "source": [
    "Load the test network"
   ]
  },
  {
   "cell_type": "code",
   "execution_count": 4,
   "metadata": {},
   "outputs": [],
   "source": [
    "FileName = r\"J:\\Thesis\\Single OD Test\\Single OD Test.inpx\"\n",
    "Vissim.LoadNet(FileName)"
   ]
  },
  {
   "cell_type": "code",
   "execution_count": 5,
   "metadata": {},
   "outputs": [],
   "source": [
    "vis_net = Vissim.Net\n",
    "assert vis_net.DynamicAssignment.CreateGraph(c.CGEdgeTypeDynamicAssignment)"
   ]
  },
  {
   "cell_type": "markdown",
   "metadata": {},
   "source": [
    "## Read the dynamic assignment nodes and edges"
   ]
  },
  {
   "cell_type": "markdown",
   "metadata": {},
   "source": [
    "### Convert the network to a igraph directed graph"
   ]
  },
  {
   "cell_type": "code",
   "execution_count": 6,
   "metadata": {},
   "outputs": [],
   "source": [
    "network_graph = VissimRoadNet(vis_net)"
   ]
  },
  {
   "cell_type": "code",
   "execution_count": 7,
   "metadata": {},
   "outputs": [
    {
     "data": {
      "image/svg+xml": [
       "<?xml version=\"1.0\" encoding=\"UTF-8\"?>\n",
       "<svg xmlns=\"http://www.w3.org/2000/svg\" xmlns:xlink=\"http://www.w3.org/1999/xlink\" width=\"300pt\" height=\"300pt\" viewBox=\"0 0 300 300\" version=\"1.1\">\n",
       "<defs>\n",
       "<g>\n",
       "<symbol overflow=\"visible\" id=\"glyph0-0\">\n",
       "<path style=\"stroke:none;\" d=\"M 1.75 0 L 1.75 -8.75 L 8.75 -8.75 L 8.75 0 Z M 1.96875 -0.21875 L 8.53125 -0.21875 L 8.53125 -8.53125 L 1.96875 -8.53125 Z M 1.96875 -0.21875 \"/>\n",
       "</symbol>\n",
       "<symbol overflow=\"visible\" id=\"glyph0-1\">\n",
       "<path style=\"stroke:none;\" d=\"M 5.214844 0 L 3.984375 0 L 3.984375 -7.839844 C 3.6875 -7.558594 3.296875 -7.273438 2.816406 -6.992188 C 2.335938 -6.707031 1.90625 -6.496094 1.523438 -6.359375 L 1.523438 -7.546875 C 2.210938 -7.867188 2.8125 -8.257813 3.328125 -8.722656 C 3.84375 -9.179688 4.207031 -9.625 4.421875 -10.0625 L 5.214844 -10.0625 Z M 5.214844 0 \"/>\n",
       "</symbol>\n",
       "<symbol overflow=\"visible\" id=\"glyph0-2\">\n",
       "<path style=\"stroke:none;\" d=\"M 1.273438 0 L 1.273438 -1.402344 L 2.671875 -1.402344 L 2.671875 0 Z M 1.273438 0 \"/>\n",
       "</symbol>\n",
       "<symbol overflow=\"visible\" id=\"glyph0-3\">\n",
       "<path style=\"stroke:none;\" d=\"M 7.046875 -1.183594 L 7.046875 0 L 0.421875 0 C 0.414063 -0.296875 0.460938 -0.582031 0.566406 -0.855469 C 0.734375 -1.304688 1.003906 -1.746094 1.375 -2.1875 C 1.746094 -2.621094 2.285156 -3.128906 2.988281 -3.703125 C 4.074219 -4.597656 4.808594 -5.304688 5.195313 -5.828125 C 5.574219 -6.347656 5.765625 -6.839844 5.769531 -7.308594 C 5.765625 -7.792969 5.589844 -8.203125 5.246094 -8.539063 C 4.894531 -8.871094 4.441406 -9.039063 3.882813 -9.042969 C 3.285156 -9.039063 2.8125 -8.863281 2.460938 -8.507813 C 2.105469 -8.152344 1.925781 -7.660156 1.921875 -7.035156 L 0.65625 -7.164063 C 0.742188 -8.105469 1.066406 -8.824219 1.632813 -9.320313 C 2.195313 -9.8125 2.953125 -10.058594 3.910156 -10.0625 C 4.867188 -10.058594 5.628906 -9.792969 6.191406 -9.261719 C 6.75 -8.726563 7.03125 -8.066406 7.035156 -7.28125 C 7.03125 -6.878906 6.949219 -6.484375 6.789063 -6.097656 C 6.621094 -5.707031 6.347656 -5.296875 5.96875 -4.871094 C 5.585938 -4.441406 4.953125 -3.855469 4.074219 -3.109375 C 3.332031 -2.488281 2.859375 -2.066406 2.652344 -1.847656 C 2.4375 -1.621094 2.265625 -1.402344 2.132813 -1.183594 Z M 7.046875 -1.183594 \"/>\n",
       "</symbol>\n",
       "<symbol overflow=\"visible\" id=\"glyph0-4\">\n",
       "<path style=\"stroke:none;\" d=\"M 0.585938 -2.644531 L 1.820313 -2.808594 C 1.957031 -2.109375 2.195313 -1.609375 2.539063 -1.300781 C 2.875 -0.992188 3.289063 -0.835938 3.78125 -0.839844 C 4.355469 -0.835938 4.84375 -1.039063 5.246094 -1.441406 C 5.640625 -1.839844 5.839844 -2.335938 5.84375 -2.933594 C 5.839844 -3.496094 5.65625 -3.960938 5.289063 -4.332031 C 4.917969 -4.695313 4.449219 -4.878906 3.882813 -4.882813 C 3.648438 -4.878906 3.359375 -4.832031 3.015625 -4.742188 L 3.152344 -5.824219 C 3.230469 -5.816406 3.296875 -5.8125 3.351563 -5.8125 C 3.875 -5.8125 4.34375 -5.949219 4.765625 -6.222656 C 5.179688 -6.496094 5.390625 -6.914063 5.394531 -7.484375 C 5.390625 -7.933594 5.238281 -8.308594 4.933594 -8.605469 C 4.628906 -8.898438 4.234375 -9.046875 3.753906 -9.050781 C 3.273438 -9.046875 2.875 -8.894531 2.554688 -8.597656 C 2.234375 -8.292969 2.027344 -7.84375 1.941406 -7.246094 L 0.710938 -7.464844 C 0.859375 -8.289063 1.203125 -8.925781 1.734375 -9.382813 C 2.265625 -9.832031 2.929688 -10.058594 3.726563 -10.0625 C 4.273438 -10.058594 4.773438 -9.941406 5.234375 -9.710938 C 5.691406 -9.472656 6.042969 -9.152344 6.289063 -8.75 C 6.53125 -8.339844 6.65625 -7.910156 6.65625 -7.457031 C 6.65625 -7.023438 6.539063 -6.628906 6.308594 -6.273438 C 6.074219 -5.917969 5.730469 -5.636719 5.277344 -5.429688 C 5.867188 -5.289063 6.328125 -5.003906 6.65625 -4.574219 C 6.984375 -4.140625 7.148438 -3.601563 7.148438 -2.960938 C 7.148438 -2.082031 6.828125 -1.339844 6.191406 -0.734375 C 5.550781 -0.125 4.746094 0.175781 3.773438 0.179688 C 2.890625 0.175781 2.160156 -0.0820313 1.582031 -0.605469 C 1 -1.128906 0.667969 -1.808594 0.585938 -2.644531 Z M 0.585938 -2.644531 \"/>\n",
       "</symbol>\n",
       "<symbol overflow=\"visible\" id=\"glyph0-5\">\n",
       "<path style=\"stroke:none;\" d=\"M 4.523438 0 L 4.523438 -2.398438 L 0.179688 -2.398438 L 0.179688 -3.527344 L 4.75 -10.023438 L 5.757813 -10.023438 L 5.757813 -3.527344 L 7.109375 -3.527344 L 7.109375 -2.398438 L 5.757813 -2.398438 L 5.757813 0 Z M 4.523438 -3.527344 L 4.523438 -8.046875 L 1.386719 -3.527344 Z M 4.523438 -3.527344 \"/>\n",
       "</symbol>\n",
       "<symbol overflow=\"visible\" id=\"glyph0-6\">\n",
       "<path style=\"stroke:none;\" d=\"M 0.582031 -2.625 L 1.875 -2.734375 C 1.96875 -2.101563 2.1875 -1.628906 2.539063 -1.3125 C 2.882813 -0.996094 3.304688 -0.835938 3.800781 -0.839844 C 4.390625 -0.835938 4.890625 -1.058594 5.304688 -1.507813 C 5.710938 -1.953125 5.917969 -2.546875 5.921875 -3.289063 C 5.917969 -3.984375 5.71875 -4.539063 5.328125 -4.949219 C 4.929688 -5.351563 4.414063 -5.554688 3.78125 -5.558594 C 3.382813 -5.554688 3.027344 -5.464844 2.707031 -5.285156 C 2.386719 -5.105469 2.132813 -4.871094 1.953125 -4.585938 L 0.800781 -4.738281 L 1.769531 -9.882813 L 6.753906 -9.882813 L 6.753906 -8.710938 L 2.753906 -8.710938 L 2.214844 -6.015625 C 2.816406 -6.433594 3.445313 -6.644531 4.109375 -6.644531 C 4.980469 -6.644531 5.71875 -6.339844 6.324219 -5.734375 C 6.921875 -5.128906 7.222656 -4.351563 7.226563 -3.398438 C 7.222656 -2.492188 6.960938 -1.707031 6.433594 -1.046875 C 5.789063 -0.234375 4.910156 0.167969 3.800781 0.171875 C 2.886719 0.167969 2.140625 -0.0820313 1.566406 -0.59375 C 0.988281 -1.101563 0.660156 -1.78125 0.582031 -2.625 Z M 0.582031 -2.625 \"/>\n",
       "</symbol>\n",
       "<symbol overflow=\"visible\" id=\"glyph0-7\">\n",
       "<path style=\"stroke:none;\" d=\"M 6.964844 -7.566406 L 5.742188 -7.472656 C 5.632813 -7.949219 5.476563 -8.300781 5.277344 -8.523438 C 4.941406 -8.871094 4.53125 -9.046875 4.046875 -9.050781 C 3.652344 -9.046875 3.308594 -8.9375 3.015625 -8.722656 C 2.625 -8.4375 2.320313 -8.023438 2.097656 -7.484375 C 1.875 -6.9375 1.757813 -6.167969 1.75 -5.167969 C 2.042969 -5.617188 2.40625 -5.949219 2.835938 -6.171875 C 3.265625 -6.386719 3.714844 -6.496094 4.183594 -6.5 C 5.003906 -6.496094 5.699219 -6.195313 6.277344 -5.59375 C 6.851563 -4.988281 7.140625 -4.207031 7.144531 -3.253906 C 7.140625 -2.621094 7.003906 -2.039063 6.734375 -1.5 C 6.460938 -0.960938 6.089844 -0.546875 5.617188 -0.257813 C 5.140625 0.0273438 4.605469 0.167969 4.007813 0.171875 C 2.980469 0.167969 2.140625 -0.207031 1.496094 -0.960938 C 0.847656 -1.714844 0.527344 -2.957031 0.527344 -4.6875 C 0.527344 -6.625 0.882813 -8.03125 1.601563 -8.914063 C 2.21875 -9.675781 3.058594 -10.058594 4.121094 -10.0625 C 4.90625 -10.058594 5.554688 -9.839844 6.058594 -9.398438 C 6.5625 -8.953125 6.863281 -8.339844 6.964844 -7.566406 Z M 1.941406 -3.246094 C 1.9375 -2.820313 2.027344 -2.414063 2.210938 -2.027344 C 2.386719 -1.640625 2.640625 -1.34375 2.964844 -1.144531 C 3.289063 -0.9375 3.628906 -0.835938 3.984375 -0.839844 C 4.503906 -0.835938 4.949219 -1.046875 5.324219 -1.46875 C 5.695313 -1.886719 5.882813 -2.457031 5.886719 -3.179688 C 5.882813 -3.871094 5.699219 -4.417969 5.332031 -4.816406 C 4.960938 -5.214844 4.496094 -5.414063 3.9375 -5.414063 C 3.378906 -5.414063 2.90625 -5.214844 2.519531 -4.816406 C 2.132813 -4.417969 1.9375 -3.894531 1.941406 -3.246094 Z M 1.941406 -3.246094 \"/>\n",
       "</symbol>\n",
       "<symbol overflow=\"visible\" id=\"glyph0-8\">\n",
       "<path style=\"stroke:none;\" d=\"M 0.664063 -8.710938 L 0.664063 -9.890625 L 7.148438 -9.890625 L 7.148438 -8.933594 C 6.511719 -8.25 5.878906 -7.347656 5.253906 -6.226563 C 4.625 -5.097656 4.140625 -3.941406 3.800781 -2.753906 C 3.550781 -1.914063 3.394531 -0.996094 3.328125 0 L 2.0625 0 C 2.078125 -0.789063 2.230469 -1.738281 2.527344 -2.855469 C 2.820313 -3.96875 3.246094 -5.046875 3.800781 -6.085938 C 4.351563 -7.121094 4.941406 -7.996094 5.570313 -8.710938 Z M 0.664063 -8.710938 \"/>\n",
       "</symbol>\n",
       "</g>\n",
       "</defs>\n",
       "<g id=\"surface2\">\n",
       "<rect x=\"0\" y=\"0\" width=\"300\" height=\"300\" style=\"fill:rgb(100%,100%,100%);fill-opacity:1;stroke:none;\"/>\n",
       "<path style=\"fill:none;stroke-width:1;stroke-linecap:butt;stroke-linejoin:miter;stroke:rgb(26.666667%,26.666667%,26.666667%);stroke-opacity:1;stroke-miterlimit:10;\" d=\"M 254.007813 20 L 241.1875 44.980469 \"/>\n",
       "<path style=\" stroke:none;fill-rule:nonzero;fill:rgb(26.666667%,26.666667%,26.666667%);fill-opacity:1;\" d=\"M 234.675781 57.675781 L 237.066406 42.867188 L 245.3125 47.097656 L 234.675781 57.675781 \"/>\n",
       "<path style=\"fill:none;stroke-width:1;stroke-linecap:butt;stroke-linejoin:miter;stroke:rgb(26.666667%,26.666667%,26.666667%);stroke-opacity:1;stroke-miterlimit:10;\" d=\"M 152.03125 39.503906 L 105.214844 59.339844 \"/>\n",
       "<path style=\" stroke:none;fill-rule:nonzero;fill:rgb(26.666667%,26.666667%,26.666667%);fill-opacity:1;\" d=\"M 92.078125 64.902344 L 103.40625 55.070313 L 107.023438 63.605469 L 92.078125 64.902344 \"/>\n",
       "<path style=\"fill:none;stroke-width:1;stroke-linecap:butt;stroke-linejoin:miter;stroke:rgb(26.666667%,26.666667%,26.666667%);stroke-opacity:1;stroke-miterlimit:10;\" d=\"M 280 126.234375 L 279.8125 169.570313 \"/>\n",
       "<path style=\" stroke:none;fill-rule:nonzero;fill:rgb(26.666667%,26.666667%,26.666667%);fill-opacity:1;\" d=\"M 279.75 183.835938 L 275.175781 169.550781 L 284.445313 169.589844 L 279.75 183.835938 \"/>\n",
       "<path style=\"fill:none;stroke-width:1;stroke-linecap:butt;stroke-linejoin:miter;stroke:rgb(26.666667%,26.666667%,26.666667%);stroke-opacity:1;stroke-miterlimit:10;\" d=\"M 124.699219 121.964844 L 158.105469 158.902344 \"/>\n",
       "<path style=\" stroke:none;fill-rule:nonzero;fill:rgb(26.666667%,26.666667%,26.666667%);fill-opacity:1;\" d=\"M 167.671875 169.484375 L 154.667969 162.011719 L 161.542969 155.792969 L 167.671875 169.484375 \"/>\n",
       "<path style=\"fill:none;stroke-width:1;stroke-linecap:butt;stroke-linejoin:miter;stroke:rgb(26.666667%,26.666667%,26.666667%);stroke-opacity:1;stroke-miterlimit:10;\" d=\"M 20 106.144531 L 20.015625 149.609375 \"/>\n",
       "<path style=\" stroke:none;fill-rule:nonzero;fill:rgb(26.666667%,26.666667%,26.666667%);fill-opacity:1;\" d=\"M 20.023438 163.875 L 15.382813 149.613281 L 24.652344 149.609375 L 20.023438 163.875 \"/>\n",
       "<path style=\"fill:none;stroke-width:1;stroke-linecap:butt;stroke-linejoin:miter;stroke:rgb(26.666667%,26.666667%,26.666667%);stroke-opacity:1;stroke-miterlimit:10;\" d=\"M 216.558594 230.371094 L 170.292969 250.542969 \"/>\n",
       "<path style=\" stroke:none;fill-rule:nonzero;fill:rgb(26.666667%,26.666667%,26.666667%);fill-opacity:1;\" d=\"M 157.214844 256.242188 L 168.4375 246.292969 L 172.144531 254.792969 L 157.214844 256.242188 \"/>\n",
       "<path style=\"fill:none;stroke-width:1;stroke-linecap:butt;stroke-linejoin:miter;stroke:rgb(26.666667%,26.666667%,26.666667%);stroke-opacity:1;stroke-miterlimit:10;\" d=\"M 70.066406 233.445313 L 57.234375 258.417969 \"/>\n",
       "<path style=\" stroke:none;fill-rule:nonzero;fill:rgb(26.666667%,26.666667%,26.666667%);fill-opacity:1;\" d=\"M 50.714844 271.105469 L 53.113281 256.296875 L 61.359375 260.535156 L 50.714844 271.105469 \"/>\n",
       "<path style=\"fill:none;stroke-width:1;stroke-linecap:butt;stroke-linejoin:miter;stroke:rgb(26.666667%,26.666667%,26.666667%);stroke-opacity:1;stroke-miterlimit:10;\" d=\"M 230.109375 66.570313 L 174.957031 47.453125 \"/>\n",
       "<path style=\" stroke:none;fill-rule:nonzero;fill:rgb(26.666667%,26.666667%,26.666667%);fill-opacity:1;\" d=\"M 161.480469 42.78125 L 176.476563 43.074219 L 173.441406 51.832031 L 161.480469 42.78125 \"/>\n",
       "<path style=\"fill:none;stroke-width:1;stroke-linecap:butt;stroke-linejoin:miter;stroke:rgb(26.666667%,26.666667%,26.666667%);stroke-opacity:1;stroke-miterlimit:10;\" d=\"M 230.109375 66.570313 L 264.433594 107.621094 \"/>\n",
       "<path style=\" stroke:none;fill-rule:nonzero;fill:rgb(26.666667%,26.666667%,26.666667%);fill-opacity:1;\" d=\"M 273.585938 118.566406 L 260.878906 110.59375 L 267.992188 104.648438 L 273.585938 118.566406 \"/>\n",
       "<path style=\"fill:none;stroke-width:1;stroke-linecap:butt;stroke-linejoin:miter;stroke:rgb(26.666667%,26.666667%,26.666667%);stroke-opacity:1;stroke-miterlimit:10;\" d=\"M 82.871094 68.804688 L 109.695313 102.894531 \"/>\n",
       "<path style=\" stroke:none;fill-rule:nonzero;fill:rgb(26.666667%,26.666667%,26.666667%);fill-opacity:1;\" d=\"M 118.515625 114.105469 L 106.050781 105.761719 L 113.335938 100.027344 L 118.515625 114.105469 \"/>\n",
       "<path style=\"fill:none;stroke-width:1;stroke-linecap:butt;stroke-linejoin:miter;stroke:rgb(26.666667%,26.666667%,26.666667%);stroke-opacity:1;stroke-miterlimit:10;\" d=\"M 82.871094 68.804688 L 40.863281 93.753906 \"/>\n",
       "<path style=\" stroke:none;fill-rule:nonzero;fill:rgb(26.666667%,26.666667%,26.666667%);fill-opacity:1;\" d=\"M 28.597656 101.039063 L 38.496094 89.765625 L 43.230469 97.738281 L 28.597656 101.039063 \"/>\n",
       "<path style=\"fill:none;stroke-width:1;stroke-linecap:butt;stroke-linejoin:miter;stroke:rgb(26.666667%,26.666667%,26.666667%);stroke-opacity:1;stroke-miterlimit:10;\" d=\"M 279.707031 193.835938 L 237.5625 218.21875 \"/>\n",
       "<path style=\" stroke:none;fill-rule:nonzero;fill:rgb(26.666667%,26.666667%,26.666667%);fill-opacity:1;\" d=\"M 225.214844 225.363281 L 235.242188 214.207031 L 239.882813 222.230469 L 225.214844 225.363281 \"/>\n",
       "<path style=\"fill:none;stroke-width:1;stroke-linecap:butt;stroke-linejoin:miter;stroke:rgb(26.666667%,26.666667%,26.666667%);stroke-opacity:1;stroke-miterlimit:10;\" d=\"M 174.378906 176.902344 L 201.53125 211.320313 \"/>\n",
       "<path style=\" stroke:none;fill-rule:nonzero;fill:rgb(26.666667%,26.666667%,26.666667%);fill-opacity:1;\" d=\"M 210.367188 222.519531 L 197.890625 214.1875 L 205.167969 208.449219 L 210.367188 222.519531 \"/>\n",
       "<path style=\"fill:none;stroke-width:1;stroke-linecap:butt;stroke-linejoin:miter;stroke:rgb(26.666667%,26.666667%,26.666667%);stroke-opacity:1;stroke-miterlimit:10;\" d=\"M 20.023438 173.875 L 54.460938 214.867188 \"/>\n",
       "<path style=\" stroke:none;fill-rule:nonzero;fill:rgb(26.666667%,26.666667%,26.666667%);fill-opacity:1;\" d=\"M 63.636719 225.789063 L 50.910156 217.847656 L 58.007813 211.886719 L 63.636719 225.789063 \"/>\n",
       "<path style=\"fill:none;stroke-width:1;stroke-linecap:butt;stroke-linejoin:miter;stroke:rgb(26.666667%,26.666667%,26.666667%);stroke-opacity:1;stroke-miterlimit:10;\" d=\"M 148.046875 260.242188 L 93.015625 241.332031 \"/>\n",
       "<path style=\" stroke:none;fill-rule:nonzero;fill:rgb(26.666667%,26.666667%,26.666667%);fill-opacity:1;\" d=\"M 79.527344 236.695313 L 94.523438 236.949219 L 91.511719 245.714844 L 79.527344 236.695313 \"/>\n",
       "<path style=\"fill-rule:nonzero;fill:rgb(100%,0%,0%);fill-opacity:1;stroke-width:1;stroke-linecap:butt;stroke-linejoin:miter;stroke:rgb(0%,0%,0%);stroke-opacity:1;stroke-miterlimit:10;\" d=\"M 264.007813 20 C 264.007813 25.523438 259.53125 30 254.007813 30 C 248.484375 30 244.007813 25.523438 244.007813 20 C 244.007813 14.476563 248.484375 10 254.007813 10 C 259.53125 10 264.007813 14.476563 264.007813 20 \"/>\n",
       "<path style=\"fill-rule:nonzero;fill:rgb(100%,0%,0%);fill-opacity:1;stroke-width:1;stroke-linecap:butt;stroke-linejoin:miter;stroke:rgb(0%,0%,0%);stroke-opacity:1;stroke-miterlimit:10;\" d=\"M 240.109375 66.570313 C 240.109375 72.09375 235.632813 76.570313 230.109375 76.570313 C 224.589844 76.570313 220.109375 72.09375 220.109375 66.570313 C 220.109375 61.050781 224.589844 56.570313 230.109375 56.570313 C 235.632813 56.570313 240.109375 61.050781 240.109375 66.570313 \"/>\n",
       "<path style=\"fill-rule:nonzero;fill:rgb(100%,0%,0%);fill-opacity:1;stroke-width:1;stroke-linecap:butt;stroke-linejoin:miter;stroke:rgb(0%,0%,0%);stroke-opacity:1;stroke-miterlimit:10;\" d=\"M 162.03125 39.503906 C 162.03125 45.027344 157.554688 49.503906 152.03125 49.503906 C 146.507813 49.503906 142.03125 45.027344 142.03125 39.503906 C 142.03125 33.980469 146.507813 29.503906 152.03125 29.503906 C 157.554688 29.503906 162.03125 33.980469 162.03125 39.503906 \"/>\n",
       "<path style=\"fill-rule:nonzero;fill:rgb(100%,0%,0%);fill-opacity:1;stroke-width:1;stroke-linecap:butt;stroke-linejoin:miter;stroke:rgb(0%,0%,0%);stroke-opacity:1;stroke-miterlimit:10;\" d=\"M 92.871094 68.804688 C 92.871094 74.328125 88.394531 78.804688 82.871094 78.804688 C 77.347656 78.804688 72.871094 74.328125 72.871094 68.804688 C 72.871094 63.28125 77.347656 58.804688 82.871094 58.804688 C 88.394531 58.804688 92.871094 63.28125 92.871094 68.804688 \"/>\n",
       "<path style=\"fill-rule:nonzero;fill:rgb(100%,0%,0%);fill-opacity:1;stroke-width:1;stroke-linecap:butt;stroke-linejoin:miter;stroke:rgb(0%,0%,0%);stroke-opacity:1;stroke-miterlimit:10;\" d=\"M 290 126.234375 C 290 131.757813 285.523438 136.234375 280 136.234375 C 274.476563 136.234375 270 131.757813 270 126.234375 C 270 120.714844 274.476563 116.234375 280 116.234375 C 285.523438 116.234375 290 120.714844 290 126.234375 \"/>\n",
       "<path style=\"fill-rule:nonzero;fill:rgb(100%,0%,0%);fill-opacity:1;stroke-width:1;stroke-linecap:butt;stroke-linejoin:miter;stroke:rgb(0%,0%,0%);stroke-opacity:1;stroke-miterlimit:10;\" d=\"M 289.707031 193.835938 C 289.707031 199.359375 285.226563 203.835938 279.707031 203.835938 C 274.183594 203.835938 269.707031 199.359375 269.707031 193.835938 C 269.707031 188.3125 274.183594 183.835938 279.707031 183.835938 C 285.226563 183.835938 289.707031 188.3125 289.707031 193.835938 \"/>\n",
       "<path style=\"fill-rule:nonzero;fill:rgb(100%,0%,0%);fill-opacity:1;stroke-width:1;stroke-linecap:butt;stroke-linejoin:miter;stroke:rgb(0%,0%,0%);stroke-opacity:1;stroke-miterlimit:10;\" d=\"M 134.699219 121.964844 C 134.699219 127.488281 130.222656 131.964844 124.699219 131.964844 C 119.175781 131.964844 114.699219 127.488281 114.699219 121.964844 C 114.699219 116.441406 119.175781 111.964844 124.699219 111.964844 C 130.222656 111.964844 134.699219 116.441406 134.699219 121.964844 \"/>\n",
       "<path style=\"fill-rule:nonzero;fill:rgb(100%,0%,0%);fill-opacity:1;stroke-width:1;stroke-linecap:butt;stroke-linejoin:miter;stroke:rgb(0%,0%,0%);stroke-opacity:1;stroke-miterlimit:10;\" d=\"M 184.378906 176.902344 C 184.378906 182.425781 179.902344 186.902344 174.378906 186.902344 C 168.859375 186.902344 164.378906 182.425781 164.378906 176.902344 C 164.378906 171.378906 168.859375 166.902344 174.378906 166.902344 C 179.902344 166.902344 184.378906 171.378906 184.378906 176.902344 \"/>\n",
       "<path style=\"fill-rule:nonzero;fill:rgb(100%,0%,0%);fill-opacity:1;stroke-width:1;stroke-linecap:butt;stroke-linejoin:miter;stroke:rgb(0%,0%,0%);stroke-opacity:1;stroke-miterlimit:10;\" d=\"M 30 106.144531 C 30 111.667969 25.523438 116.144531 20 116.144531 C 14.476563 116.144531 10 111.667969 10 106.144531 C 10 100.621094 14.476563 96.144531 20 96.144531 C 25.523438 96.144531 30 100.621094 30 106.144531 \"/>\n",
       "<path style=\"fill-rule:nonzero;fill:rgb(100%,0%,0%);fill-opacity:1;stroke-width:1;stroke-linecap:butt;stroke-linejoin:miter;stroke:rgb(0%,0%,0%);stroke-opacity:1;stroke-miterlimit:10;\" d=\"M 30.023438 173.875 C 30.023438 179.398438 25.546875 183.875 20.023438 183.875 C 14.503906 183.875 10.023438 179.398438 10.023438 173.875 C 10.023438 168.351563 14.503906 163.875 20.023438 163.875 C 25.546875 163.875 30.023438 168.351563 30.023438 173.875 \"/>\n",
       "<path style=\"fill-rule:nonzero;fill:rgb(100%,0%,0%);fill-opacity:1;stroke-width:1;stroke-linecap:butt;stroke-linejoin:miter;stroke:rgb(0%,0%,0%);stroke-opacity:1;stroke-miterlimit:10;\" d=\"M 226.558594 230.371094 C 226.558594 235.894531 222.082031 240.371094 216.558594 240.371094 C 211.035156 240.371094 206.558594 235.894531 206.558594 230.371094 C 206.558594 224.847656 211.035156 220.371094 216.558594 220.371094 C 222.082031 220.371094 226.558594 224.847656 226.558594 230.371094 \"/>\n",
       "<path style=\"fill-rule:nonzero;fill:rgb(100%,0%,0%);fill-opacity:1;stroke-width:1;stroke-linecap:butt;stroke-linejoin:miter;stroke:rgb(0%,0%,0%);stroke-opacity:1;stroke-miterlimit:10;\" d=\"M 158.046875 260.242188 C 158.046875 265.761719 153.570313 270.242188 148.046875 270.242188 C 142.523438 270.242188 138.046875 265.761719 138.046875 260.242188 C 138.046875 254.71875 142.523438 250.242188 148.046875 250.242188 C 153.570313 250.242188 158.046875 254.71875 158.046875 260.242188 \"/>\n",
       "<path style=\"fill-rule:nonzero;fill:rgb(100%,0%,0%);fill-opacity:1;stroke-width:1;stroke-linecap:butt;stroke-linejoin:miter;stroke:rgb(0%,0%,0%);stroke-opacity:1;stroke-miterlimit:10;\" d=\"M 80.066406 233.445313 C 80.066406 238.96875 75.589844 243.445313 70.066406 243.445313 C 64.546875 243.445313 60.066406 238.96875 60.066406 233.445313 C 60.066406 227.921875 64.546875 223.445313 70.066406 223.445313 C 75.589844 223.445313 80.066406 227.921875 80.066406 233.445313 \"/>\n",
       "<path style=\"fill-rule:nonzero;fill:rgb(100%,0%,0%);fill-opacity:1;stroke-width:1;stroke-linecap:butt;stroke-linejoin:miter;stroke:rgb(0%,0%,0%);stroke-opacity:1;stroke-miterlimit:10;\" d=\"M 56.144531 280 C 56.144531 285.523438 51.667969 290 46.144531 290 C 40.621094 290 36.144531 285.523438 36.144531 280 C 36.144531 274.476563 40.621094 270 46.144531 270 C 51.667969 270 56.144531 274.476563 56.144531 280 \"/>\n",
       "<g style=\"fill:rgb(0%,0%,0%);fill-opacity:1;\">\n",
       "  <use xlink:href=\"#glyph0-1\" x=\"244.800781\" y=\"26.53125\"/>\n",
       "  <use xlink:href=\"#glyph0-2\" x=\"252.586914\" y=\"26.53125\"/>\n",
       "  <use xlink:href=\"#glyph0-1\" x=\"256.476563\" y=\"26.53125\"/>\n",
       "</g>\n",
       "<g style=\"fill:rgb(0%,0%,0%);fill-opacity:1;\">\n",
       "  <use xlink:href=\"#glyph0-3\" x=\"221.460938\" y=\"73.101563\"/>\n",
       "  <use xlink:href=\"#glyph0-2\" x=\"229.24707\" y=\"73.101563\"/>\n",
       "  <use xlink:href=\"#glyph0-1\" x=\"233.136719\" y=\"73.101563\"/>\n",
       "</g>\n",
       "<g style=\"fill:rgb(0%,0%,0%);fill-opacity:1;\">\n",
       "  <use xlink:href=\"#glyph0-3\" x=\"142.464844\" y=\"46.035156\"/>\n",
       "  <use xlink:href=\"#glyph0-2\" x=\"150.250977\" y=\"46.035156\"/>\n",
       "  <use xlink:href=\"#glyph0-3\" x=\"154.140625\" y=\"46.035156\"/>\n",
       "</g>\n",
       "<g style=\"fill:rgb(0%,0%,0%);fill-opacity:1;\">\n",
       "  <use xlink:href=\"#glyph0-4\" x=\"73.214844\" y=\"75.335938\"/>\n",
       "  <use xlink:href=\"#glyph0-2\" x=\"81.000977\" y=\"75.335938\"/>\n",
       "  <use xlink:href=\"#glyph0-3\" x=\"84.890625\" y=\"75.335938\"/>\n",
       "</g>\n",
       "<g style=\"fill:rgb(0%,0%,0%);fill-opacity:1;\">\n",
       "  <use xlink:href=\"#glyph0-3\" x=\"270.382813\" y=\"132.765625\"/>\n",
       "  <use xlink:href=\"#glyph0-2\" x=\"278.168945\" y=\"132.765625\"/>\n",
       "  <use xlink:href=\"#glyph0-4\" x=\"282.058594\" y=\"132.765625\"/>\n",
       "</g>\n",
       "<g style=\"fill:rgb(0%,0%,0%);fill-opacity:1;\">\n",
       "  <use xlink:href=\"#glyph0-5\" x=\"270.203125\" y=\"200.367188\"/>\n",
       "  <use xlink:href=\"#glyph0-2\" x=\"277.989258\" y=\"200.367188\"/>\n",
       "  <use xlink:href=\"#glyph0-4\" x=\"281.878906\" y=\"200.367188\"/>\n",
       "</g>\n",
       "<g style=\"fill:rgb(0%,0%,0%);fill-opacity:1;\">\n",
       "  <use xlink:href=\"#glyph0-4\" x=\"115.011719\" y=\"128.496094\"/>\n",
       "  <use xlink:href=\"#glyph0-2\" x=\"122.797852\" y=\"128.496094\"/>\n",
       "  <use xlink:href=\"#glyph0-5\" x=\"126.6875\" y=\"128.496094\"/>\n",
       "</g>\n",
       "<g style=\"fill:rgb(0%,0%,0%);fill-opacity:1;\">\n",
       "  <use xlink:href=\"#glyph0-5\" x=\"164.898438\" y=\"183.410156\"/>\n",
       "  <use xlink:href=\"#glyph0-2\" x=\"172.68457\" y=\"183.410156\"/>\n",
       "  <use xlink:href=\"#glyph0-5\" x=\"176.574219\" y=\"183.410156\"/>\n",
       "</g>\n",
       "<g style=\"fill:rgb(0%,0%,0%);fill-opacity:1;\">\n",
       "  <use xlink:href=\"#glyph0-4\" x=\"10.253906\" y=\"112.675781\"/>\n",
       "  <use xlink:href=\"#glyph0-2\" x=\"18.040039\" y=\"112.675781\"/>\n",
       "  <use xlink:href=\"#glyph0-6\" x=\"21.929688\" y=\"112.675781\"/>\n",
       "</g>\n",
       "<g style=\"fill:rgb(0%,0%,0%);fill-opacity:1;\">\n",
       "  <use xlink:href=\"#glyph0-6\" x=\"10.285156\" y=\"180.320313\"/>\n",
       "  <use xlink:href=\"#glyph0-2\" x=\"18.071289\" y=\"180.320313\"/>\n",
       "  <use xlink:href=\"#glyph0-6\" x=\"21.960938\" y=\"180.320313\"/>\n",
       "</g>\n",
       "<g style=\"fill:rgb(0%,0%,0%);fill-opacity:1;\">\n",
       "  <use xlink:href=\"#glyph0-5\" x=\"207.058594\" y=\"236.902344\"/>\n",
       "  <use xlink:href=\"#glyph0-2\" x=\"214.844727\" y=\"236.902344\"/>\n",
       "  <use xlink:href=\"#glyph0-7\" x=\"218.734375\" y=\"236.902344\"/>\n",
       "</g>\n",
       "<g style=\"fill:rgb(0%,0%,0%);fill-opacity:1;\">\n",
       "  <use xlink:href=\"#glyph0-6\" x=\"138.347656\" y=\"266.773438\"/>\n",
       "  <use xlink:href=\"#glyph0-2\" x=\"146.133789\" y=\"266.773438\"/>\n",
       "  <use xlink:href=\"#glyph0-7\" x=\"150.023438\" y=\"266.773438\"/>\n",
       "</g>\n",
       "<g style=\"fill:rgb(0%,0%,0%);fill-opacity:1;\">\n",
       "  <use xlink:href=\"#glyph0-6\" x=\"60.363281\" y=\"239.890625\"/>\n",
       "  <use xlink:href=\"#glyph0-2\" x=\"68.149414\" y=\"239.890625\"/>\n",
       "  <use xlink:href=\"#glyph0-8\" x=\"72.039063\" y=\"239.890625\"/>\n",
       "</g>\n",
       "<g style=\"fill:rgb(0%,0%,0%);fill-opacity:1;\">\n",
       "  <use xlink:href=\"#glyph0-7\" x=\"36.46875\" y=\"286.53125\"/>\n",
       "  <use xlink:href=\"#glyph0-2\" x=\"44.254883\" y=\"286.53125\"/>\n",
       "  <use xlink:href=\"#glyph0-8\" x=\"48.144531\" y=\"286.53125\"/>\n",
       "</g>\n",
       "</g>\n",
       "</svg>\n"
      ],
      "text/plain": [
       "<igraph.drawing.Plot at 0x99be940>"
      ]
     },
     "execution_count": 7,
     "metadata": {},
     "output_type": "execute_result"
    }
   ],
   "source": [
    "igraph.plot(network_graph, vertex_label=['.'.join(name.split('.')[1:]) for name in network_graph.vs[\"name\"]], bbox=(0, 0, 300, 300))"
   ]
  },
  {
   "cell_type": "code",
   "execution_count": 9,
   "metadata": {},
   "outputs": [
    {
     "data": {
      "application/vnd.jupyter.widget-view+json": {
       "model_id": "36cbe1b914b04ccfabe10eefff8b04db",
       "version_major": 2,
       "version_minor": 0
      },
      "text/plain": [
       "QgridWidget(grid_options={'fullWidthRows': True, 'syncColumnCellResize': True, 'forceFitColumns': True, 'defau…"
      ]
     },
     "metadata": {},
     "output_type": "display_data"
    }
   ],
   "source": [
    "edges_widget = qgrid.show_grid(network_graph.visedges, show_toolbar=True)\n",
    "edges_widget"
   ]
  },
  {
   "cell_type": "markdown",
   "metadata": {},
   "source": [
    "detach Vissim instance"
   ]
  },
  {
   "cell_type": "code",
   "execution_count": 10,
   "metadata": {},
   "outputs": [],
   "source": [
    "Vissim.Exit()\n",
    "del Vissim"
   ]
  },
  {
   "cell_type": "code",
   "execution_count": null,
   "metadata": {},
   "outputs": [],
   "source": []
  }
 ],
 "metadata": {
  "kernelspec": {
   "display_name": "Python 3",
   "language": "python",
   "name": "python3"
  },
  "language_info": {
   "codemirror_mode": {
    "name": "ipython",
    "version": 3
   },
   "file_extension": ".py",
   "mimetype": "text/x-python",
   "name": "python",
   "nbconvert_exporter": "python",
   "pygments_lexer": "ipython3",
   "version": "3.7.1"
  }
 },
 "nbformat": 4,
 "nbformat_minor": 2
}

{
 "cells": [
  {
   "cell_type": "markdown",
   "metadata": {},
   "source": [
    "## Initiate the vissim instance"
   ]
  },
  {
   "cell_type": "code",
   "execution_count": 1,
   "metadata": {
    "ExecuteTime": {
     "end_time": "2019-07-06T02:09:23.564864Z",
     "start_time": "2019-07-06T02:09:23.175841Z"
    }
   },
   "outputs": [],
   "source": [
    "# COM-Server\n",
    "import win32com.client as com\n",
    "import igraph\n",
    "import qgrid\n",
    "from VISSIM_helpers import VissimRoadNet\n",
    "from os.path import abspath, join, exists\n",
    "import os\n",
    "from shutil import copyfile\n",
    "import pandas as pd\n",
    "import math"
   ]
  },
  {
   "cell_type": "markdown",
   "metadata": {},
   "source": [
    "Add autocompletion for VISSIM COM Object"
   ]
  },
  {
   "cell_type": "code",
   "execution_count": 2,
   "metadata": {
    "ExecuteTime": {
     "end_time": "2019-07-06T02:09:23.570864Z",
     "start_time": "2019-07-06T02:09:23.565864Z"
    }
   },
   "outputs": [],
   "source": [
    "from IPython.utils.generics import complete_object\n",
    "\n",
    "@complete_object.register(com.DispatchBaseClass)\n",
    "def complete_dispatch_base_class(obj, prev_completions):\n",
    "    try:\n",
    "        ole_props = set(obj._prop_map_get_).union(set(obj._prop_map_put_))\n",
    "        return list(ole_props) + prev_completions\n",
    "    except AttributeError:\n",
    "        pass"
   ]
  },
  {
   "cell_type": "markdown",
   "metadata": {},
   "source": [
    "Start Vissim and load constants"
   ]
  },
  {
   "cell_type": "code",
   "execution_count": 3,
   "metadata": {
    "ExecuteTime": {
     "end_time": "2019-07-06T02:09:33.418427Z",
     "start_time": "2019-07-06T02:09:23.572864Z"
    }
   },
   "outputs": [],
   "source": [
    "Vissim = com.gencache.EnsureDispatch(\"Vissim.Vissim\")\n",
    "from win32com.client import constants as c"
   ]
  },
  {
   "cell_type": "markdown",
   "metadata": {},
   "source": [
    "Setting the parameters used for simulation"
   ]
  },
  {
   "cell_type": "code",
   "execution_count": 4,
   "metadata": {
    "ExecuteTime": {
     "end_time": "2019-07-06T02:09:33.428428Z",
     "start_time": "2019-07-06T02:09:33.421427Z"
    }
   },
   "outputs": [],
   "source": [
    "DTA_Parameters = dict(\n",
    "    # DTA Parameters\n",
    "    EvalInt = 600, # seconds\n",
    "    ScaleTotVol = False,\n",
    "    ScaleTotVolPerc = 1,\n",
    "    CostFile = 'costs.bew',\n",
    "    ChkEdgOnReadingCostFile = True,\n",
    "    PathFile = 'paths.weg',\n",
    "    ChkEdgOnReadingPathFile = True,\n",
    "    CreateArchiveFiles = True,\n",
    "    VehClasses = '',\n",
    ")\n",
    "\n",
    "# Simulation parameters\n",
    "Sim_Parameters = dict(\n",
    "    NumRuns = 1,\n",
    "    RandSeedIncr = 0,\n",
    "    UseMaxSimSpeed = True,\n",
    "    SimBreakAt = 600,\n",
    "    NumCores = 8,\n",
    ")\n",
    "\n",
    "FileName = abspath(r\"..\\SO sim files\\Vol100per.inpx\")\n",
    "WorkingFolder = abspath(r\"..\\SO sim files\")"
   ]
  },
  {
   "cell_type": "markdown",
   "metadata": {},
   "source": [
    "Resetting edge and path cost files"
   ]
  },
  {
   "cell_type": "code",
   "execution_count": 5,
   "metadata": {
    "ExecuteTime": {
     "end_time": "2019-07-06T02:09:33.477431Z",
     "start_time": "2019-07-06T02:09:33.430428Z"
    }
   },
   "outputs": [
    {
     "data": {
      "text/plain": [
       "'C:\\\\Users\\\\ITSLab\\\\Documents\\\\Oliver Liang\\\\SO sim files\\\\paths.weg'"
      ]
     },
     "execution_count": 5,
     "metadata": {},
     "output_type": "execute_result"
    }
   ],
   "source": [
    "default_cost_file = abspath('..\\SO sim files\\costs_020.bew')\n",
    "defualt_path_file = abspath('..\\SO sim files\\paths_020.weg')\n",
    "\n",
    "current_cost_file = abspath(join(WorkingFolder, DTA_Parameters['CostFile']))\n",
    "if exists(current_cost_file):\n",
    "    os.remove(current_cost_file)\n",
    "copyfile(default_cost_file, current_cost_file)\n",
    "\n",
    "current_path_file = abspath(join(WorkingFolder, DTA_Parameters['PathFile']))\n",
    "if exists(current_path_file):\n",
    "    os.remove(current_path_file)\n",
    "copyfile(defualt_path_file, current_path_file)"
   ]
  },
  {
   "cell_type": "markdown",
   "metadata": {},
   "source": [
    "Load the test network"
   ]
  },
  {
   "cell_type": "code",
   "execution_count": 6,
   "metadata": {
    "ExecuteTime": {
     "end_time": "2019-07-06T02:09:37.835680Z",
     "start_time": "2019-07-06T02:09:33.481431Z"
    },
    "scrolled": false
   },
   "outputs": [],
   "source": [
    "Vissim.LoadNet(FileName)"
   ]
  },
  {
   "cell_type": "markdown",
   "metadata": {},
   "source": [
    "Read dynamic assignment network"
   ]
  },
  {
   "cell_type": "code",
   "execution_count": 7,
   "metadata": {
    "ExecuteTime": {
     "end_time": "2019-07-06T02:09:49.143327Z",
     "start_time": "2019-07-06T02:09:37.838680Z"
    }
   },
   "outputs": [],
   "source": [
    "vis_net = Vissim.Net\n",
    "vis_net.Paths.ReadDynAssignPathFile()\n",
    "\n",
    "network_graph = VissimRoadNet(vis_net)"
   ]
  },
  {
   "cell_type": "markdown",
   "metadata": {},
   "source": [
    "Check if dynamic assignment graph has changed"
   ]
  },
  {
   "cell_type": "code",
   "execution_count": 8,
   "metadata": {
    "ExecuteTime": {
     "end_time": "2019-07-06T02:09:49.155327Z",
     "start_time": "2019-07-06T02:09:49.145327Z"
    }
   },
   "outputs": [],
   "source": [
    "ref_edge_list = pd.read_pickle(\"edges_attr.pkl.gz\")\n",
    "assert (network_graph.visedges['ToNode'] == ref_edge_list['ToNode']).all()"
   ]
  },
  {
   "cell_type": "markdown",
   "metadata": {},
   "source": [
    "We start by opening the network to be tested and adjust its settings"
   ]
  },
  {
   "cell_type": "code",
   "execution_count": 9,
   "metadata": {
    "ExecuteTime": {
     "end_time": "2019-07-06T02:09:49.856367Z",
     "start_time": "2019-07-06T02:09:49.157327Z"
    }
   },
   "outputs": [],
   "source": [
    "DynamicAssignment = Vissim.Net.DynamicAssignment\n",
    "for attname, attvalue in DTA_Parameters.items():\n",
    "    DynamicAssignment.SetAttValue(attname, attvalue)\n",
    "    \n",
    "Simulation = Vissim.Net.Simulation\n",
    "for attname, attvalue in Sim_Parameters.items():\n",
    "    Simulation.SetAttValue(attname, attvalue)"
   ]
  },
  {
   "cell_type": "markdown",
   "metadata": {},
   "source": [
    "Run first DTA period as usual"
   ]
  },
  {
   "cell_type": "code",
   "execution_count": 10,
   "metadata": {
    "ExecuteTime": {
     "end_time": "2019-07-06T02:10:34.989949Z",
     "start_time": "2019-07-06T02:09:49.857368Z"
    }
   },
   "outputs": [],
   "source": [
    "Vissim.Graphics.CurrentNetworkWindow.SetAttValue(\"QuickMode\", 1)\n",
    "Simulation.RunContinuous()"
   ]
  },
  {
   "cell_type": "code",
   "execution_count": 11,
   "metadata": {
    "ExecuteTime": {
     "end_time": "2019-07-06T02:10:34.993949Z",
     "start_time": "2019-07-06T02:10:34.990949Z"
    }
   },
   "outputs": [],
   "source": [
    "def current_period():\n",
    "    return int(math.ceil(Vissim.Simulation.SimulationSecond / Vissim.Net.DynamicAssignment.AttValue('EvalInt')))"
   ]
  },
  {
   "cell_type": "markdown",
   "metadata": {},
   "source": [
    "Run simulation with custom route assignment"
   ]
  },
  {
   "cell_type": "code",
   "execution_count": null,
   "metadata": {
    "scrolled": false
   },
   "outputs": [],
   "source": [
    "paths = {}\n",
    "Vissim.Simulation.RunSingleStep()\n",
    "while True:\n",
    "    new_vehs = vis_net.Vehicles.GetDeparted()\n",
    "    network_graph.es['weight'] = [edge[1] if edge[1] else 99999. for edge in vis_net.Edges.GetMultiAttValues(f'TravTmRaw({current_period() - 1})')]\n",
    "    for veh in new_vehs:\n",
    "        origin_lot = int(veh.AttValue('OrigParkLot'))\n",
    "        destination_lot = int(veh.AttValue('DestParkLot'))\n",
    "        node_path = network_graph.parking_lot_route(origin_lot, destination_lot)\n",
    "        vis_path = vis_net.Paths.AddPath(origin_lot, destination_lot, [str(node) for node in node_path[1:-1]])\n",
    "        paths[veh.AttValue('No')] = node_path\n",
    "    if Vissim.Simulation.SimulationSecond > 4499:\n",
    "        break\n",
    "    Vissim.Simulation.RunSingleStep()\n",
    "\n",
    "Vissim.Simulation.RunContinuous()"
   ]
  },
  {
   "cell_type": "code",
   "execution_count": 14,
   "metadata": {
    "ExecuteTime": {
     "end_time": "2019-07-06T02:09:03.393710Z",
     "start_time": "2019-07-06T02:09:03.387710Z"
    }
   },
   "outputs": [],
   "source": [
    "Vissim.Exit()"
   ]
  }
 ],
 "metadata": {
  "kernelspec": {
   "display_name": "Python 3",
   "language": "python",
   "name": "python3"
  },
  "language_info": {
   "codemirror_mode": {
    "name": "ipython",
    "version": 3
   },
   "file_extension": ".py",
   "mimetype": "text/x-python",
   "name": "python",
   "nbconvert_exporter": "python",
   "pygments_lexer": "ipython3",
   "version": "3.7.3"
  },
  "varInspector": {
   "cols": {
    "lenName": 16,
    "lenType": 16,
    "lenVar": 40
   },
   "kernels_config": {
    "python": {
     "delete_cmd_postfix": "",
     "delete_cmd_prefix": "del ",
     "library": "var_list.py",
     "varRefreshCmd": "print(var_dic_list())"
    },
    "r": {
     "delete_cmd_postfix": ") ",
     "delete_cmd_prefix": "rm(",
     "library": "var_list.r",
     "varRefreshCmd": "cat(var_dic_list()) "
    }
   },
   "position": {
    "height": "620px",
    "left": "588px",
    "right": "20px",
    "top": "180px",
    "width": "743px"
   },
   "types_to_exclude": [
    "module",
    "function",
    "builtin_function_or_method",
    "instance",
    "_Feature"
   ],
   "window_display": false
  }
 },
 "nbformat": 4,
 "nbformat_minor": 2
}

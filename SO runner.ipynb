{
 "cells": [
  {
   "cell_type": "markdown",
   "metadata": {},
   "source": [
    "## Initiate the vissim instance"
   ]
  },
  {
   "cell_type": "code",
   "execution_count": 1,
   "metadata": {
    "ExecuteTime": {
     "end_time": "2019-07-07T01:04:23.917187Z",
     "start_time": "2019-07-07T01:04:23.496572Z"
    }
   },
   "outputs": [],
   "source": [
    "# COM-Server\n",
    "import win32com.client as com\n",
    "import igraph\n",
    "import qgrid\n",
    "from VISSIM_helpers import VissimRoadNet\n",
    "from os.path import abspath, join, exists\n",
    "import os\n",
    "from shutil import copyfile\n",
    "import pandas as pd\n",
    "import math\n",
    "from pythoncom import com_error"
   ]
  },
  {
   "cell_type": "markdown",
   "metadata": {},
   "source": [
    "Add autocompletion for VISSIM COM Object"
   ]
  },
  {
   "cell_type": "code",
   "execution_count": 2,
   "metadata": {
    "ExecuteTime": {
     "end_time": "2019-07-07T01:04:23.923187Z",
     "start_time": "2019-07-07T01:04:23.918187Z"
    }
   },
   "outputs": [],
   "source": [
    "from IPython.utils.generics import complete_object\n",
    "\n",
    "@complete_object.register(com.DispatchBaseClass)\n",
    "def complete_dispatch_base_class(obj, prev_completions):\n",
    "    try:\n",
    "        ole_props = set(obj._prop_map_get_).union(set(obj._prop_map_put_))\n",
    "        return list(ole_props) + prev_completions\n",
    "    except AttributeError:\n",
    "        pass"
   ]
  },
  {
   "cell_type": "markdown",
   "metadata": {},
   "source": [
    "Start Vissim and load constants"
   ]
  },
  {
   "cell_type": "code",
   "execution_count": 3,
   "metadata": {
    "ExecuteTime": {
     "end_time": "2019-07-07T01:04:34.579995Z",
     "start_time": "2019-07-07T01:04:23.925187Z"
    }
   },
   "outputs": [],
   "source": [
    "Vissim = com.gencache.EnsureDispatch(\"Vissim.Vissim\")\n",
    "from win32com.client import constants as c"
   ]
  },
  {
   "cell_type": "markdown",
   "metadata": {},
   "source": [
    "Setting the parameters used for simulation"
   ]
  },
  {
   "cell_type": "code",
   "execution_count": 4,
   "metadata": {
    "ExecuteTime": {
     "end_time": "2019-07-07T01:04:34.587996Z",
     "start_time": "2019-07-07T01:04:34.582995Z"
    }
   },
   "outputs": [],
   "source": [
    "DTA_Parameters = dict(\n",
    "    # DTA Parameters\n",
    "    EvalInt = 600, # seconds\n",
    "    ScaleTotVol = False,\n",
    "    ScaleTotVolPerc = 1,\n",
    "    CostFile = 'costs.bew',\n",
    "    ChkEdgOnReadingCostFile = True,\n",
    "    PathFile = 'paths.weg',\n",
    "    ChkEdgOnReadingPathFile = True,\n",
    "    CreateArchiveFiles = True,\n",
    "    VehClasses = '',\n",
    ")\n",
    "\n",
    "# Simulation parameters\n",
    "Sim_Parameters = dict(\n",
    "    NumRuns = 1,\n",
    "    RandSeedIncr = 0,\n",
    "    UseMaxSimSpeed = True,\n",
    "    SimBreakAt = 600,\n",
    "    NumCores = 8,\n",
    ")\n",
    "\n",
    "FileName = abspath(r\"..\\SO sim files\\Vol100per.inpx\")\n",
    "WorkingFolder = abspath(r\"..\\SO sim files\")"
   ]
  },
  {
   "cell_type": "code",
   "execution_count": 5,
   "metadata": {
    "ExecuteTime": {
     "end_time": "2019-07-07T01:04:34.613997Z",
     "start_time": "2019-07-07T01:04:34.595996Z"
    }
   },
   "outputs": [],
   "source": [
    "def current_period():\n",
    "    return int(math.ceil(Vissim.Simulation.SimulationSecond / DTA_Parameters['EvalInt']))"
   ]
  },
  {
   "cell_type": "markdown",
   "metadata": {},
   "source": [
    "Resetting edge and path cost files"
   ]
  },
  {
   "cell_type": "code",
   "execution_count": 6,
   "metadata": {
    "ExecuteTime": {
     "end_time": "2019-07-07T01:04:34.674000Z",
     "start_time": "2019-07-07T01:04:34.614997Z"
    }
   },
   "outputs": [
    {
     "data": {
      "text/plain": [
       "'C:\\\\Users\\\\ITSLab\\\\Documents\\\\Oliver Liang\\\\SO sim files\\\\paths.weg'"
      ]
     },
     "execution_count": 6,
     "metadata": {},
     "output_type": "execute_result"
    }
   ],
   "source": [
    "default_cost_file = abspath('..\\SO sim files\\costs_020.bew')\n",
    "defualt_path_file = abspath('..\\SO sim files\\paths_020.weg')\n",
    "\n",
    "current_cost_file = abspath(join(WorkingFolder, DTA_Parameters['CostFile']))\n",
    "if exists(current_cost_file):\n",
    "    os.remove(current_cost_file)\n",
    "copyfile(default_cost_file, current_cost_file)\n",
    "\n",
    "current_path_file = abspath(join(WorkingFolder, DTA_Parameters['PathFile']))\n",
    "if exists(current_path_file):\n",
    "    os.remove(current_path_file)\n",
    "copyfile(defualt_path_file, current_path_file)"
   ]
  },
  {
   "cell_type": "markdown",
   "metadata": {},
   "source": [
    "Load the test network"
   ]
  },
  {
   "cell_type": "code",
   "execution_count": 7,
   "metadata": {
    "ExecuteTime": {
     "end_time": "2019-07-07T01:04:39.430272Z",
     "start_time": "2019-07-07T01:04:34.677001Z"
    },
    "scrolled": false
   },
   "outputs": [],
   "source": [
    "Vissim.LoadNet(FileName)"
   ]
  },
  {
   "cell_type": "markdown",
   "metadata": {},
   "source": [
    "Read dynamic assignment network"
   ]
  },
  {
   "cell_type": "code",
   "execution_count": 8,
   "metadata": {
    "ExecuteTime": {
     "end_time": "2019-07-07T01:04:46.520221Z",
     "start_time": "2019-07-07T01:04:39.436273Z"
    }
   },
   "outputs": [],
   "source": [
    "vis_net = Vissim.Net\n",
    "vis_net.Paths.ReadDynAssignPathFile()"
   ]
  },
  {
   "cell_type": "code",
   "execution_count": 9,
   "metadata": {
    "ExecuteTime": {
     "end_time": "2019-07-07T01:04:50.756463Z",
     "start_time": "2019-07-07T01:04:46.522221Z"
    }
   },
   "outputs": [],
   "source": [
    "network_graph = VissimRoadNet(vis_net)"
   ]
  },
  {
   "cell_type": "markdown",
   "metadata": {},
   "source": [
    "Check if dynamic assignment graph has changed"
   ]
  },
  {
   "cell_type": "code",
   "execution_count": 10,
   "metadata": {
    "ExecuteTime": {
     "end_time": "2019-07-07T01:04:50.829467Z",
     "start_time": "2019-07-07T01:04:50.757463Z"
    }
   },
   "outputs": [],
   "source": [
    "ref_edge_list = pd.read_pickle(\"edges_attr.pkl.gz\")\n",
    "assert (network_graph.visedges['ToNode'] == ref_edge_list['ToNode']).all()\n",
    "network_graph.save(join(WorkingFolder, \"network_graph.pkl.gz\"), format=\"picklez\")"
   ]
  },
  {
   "cell_type": "markdown",
   "metadata": {},
   "source": [
    "We start by opening the network to be tested and adjust its settings"
   ]
  },
  {
   "cell_type": "code",
   "execution_count": 11,
   "metadata": {
    "ExecuteTime": {
     "end_time": "2019-07-07T01:04:51.518507Z",
     "start_time": "2019-07-07T01:04:50.830467Z"
    }
   },
   "outputs": [],
   "source": [
    "DynamicAssignment = Vissim.Net.DynamicAssignment\n",
    "for attname, attvalue in DTA_Parameters.items():\n",
    "    DynamicAssignment.SetAttValue(attname, attvalue)\n",
    "    \n",
    "Simulation = Vissim.Net.Simulation\n",
    "for attname, attvalue in Sim_Parameters.items():\n",
    "    Simulation.SetAttValue(attname, attvalue)"
   ]
  },
  {
   "cell_type": "markdown",
   "metadata": {},
   "source": [
    "Run first DTA period as usual"
   ]
  },
  {
   "cell_type": "code",
   "execution_count": 12,
   "metadata": {
    "ExecuteTime": {
     "end_time": "2019-07-07T01:06:33.788998Z",
     "start_time": "2019-07-07T01:04:51.520507Z"
    }
   },
   "outputs": [],
   "source": [
    "Vissim.Graphics.CurrentNetworkWindow.SetAttValue(\"QuickMode\", 1)\n",
    "Simulation.RunSingleStep()\n",
    "while current_period() < 2:\n",
    "    network_graph.update_volume(vis_net)\n",
    "    Simulation.RunSingleStep()"
   ]
  },
  {
   "cell_type": "markdown",
   "metadata": {},
   "source": [
    "Run simulation with custom route assignment"
   ]
  },
  {
   "cell_type": "code",
   "execution_count": null,
   "metadata": {
    "ExecuteTime": {
     "start_time": "2019-07-07T01:59:12.609Z"
    },
    "scrolled": false
   },
   "outputs": [],
   "source": [
    "bad_paths = []\n",
    "while True:\n",
    "    network_graph.update_weights(vis_net)\n",
    "    new_vehs = vis_net.Vehicles.GetDeparted()\n",
    "    for veh in new_vehs:\n",
    "        origin_lot = int(veh.AttValue('OrigParkLot'))\n",
    "        destination_lot = int(veh.AttValue('DestParkLot'))\n",
    "        node_paths, edge_paths  = network_graph.parking_lot_routes(origin_lot, destination_lot)\n",
    "        try:\n",
    "            vis_path = vis_net.Paths.AddPath(origin_lot, destination_lot, [str(node) for node in node_paths[0]])\n",
    "            veh.AssignPath(vis_path)\n",
    "        except com_error:\n",
    "            bad_paths.append((node_paths[0], edge_paths[0]))\n",
    "    network_graph.update_volume(vis_net)\n",
    "    if Vissim.Simulation.SimulationSecond > 4499:\n",
    "        break\n",
    "    Vissim.Simulation.RunSingleStep()\n",
    "\n",
    "Vissim.Simulation.RunContinuous()"
   ]
  },
  {
   "cell_type": "code",
   "execution_count": 32,
   "metadata": {
    "ExecuteTime": {
     "end_time": "2019-07-07T01:30:31.412537Z",
     "start_time": "2019-07-07T01:30:31.380336Z"
    }
   },
   "outputs": [
    {
     "ename": "com_error",
     "evalue": "(-2147352567, 'Exception occurred.', (0, 'VISSIM.Vissim.900', 'AddPath failed: adjacent node pair in node list with no open edge between nodes.', None, 0, -2147352567), None)",
     "output_type": "error",
     "traceback": [
      "\u001b[1;31m---------------------------------------------------------------------------\u001b[0m",
      "\u001b[1;31mcom_error\u001b[0m                                 Traceback (most recent call last)",
      "\u001b[1;32m<ipython-input-32-96722835b0dc>\u001b[0m in \u001b[0;36m<module>\u001b[1;34m\u001b[0m\n\u001b[1;32m----> 1\u001b[1;33m \u001b[0mvis_net\u001b[0m\u001b[1;33m.\u001b[0m\u001b[0mPaths\u001b[0m\u001b[1;33m.\u001b[0m\u001b[0mAddPath\u001b[0m\u001b[1;33m(\u001b[0m\u001b[0morigin_lot\u001b[0m\u001b[1;33m,\u001b[0m \u001b[0mdestination_lot\u001b[0m\u001b[1;33m,\u001b[0m \u001b[1;33m[\u001b[0m\u001b[0mstr\u001b[0m\u001b[1;33m(\u001b[0m\u001b[0mnode\u001b[0m\u001b[1;33m)\u001b[0m \u001b[1;32mfor\u001b[0m \u001b[0mnode\u001b[0m \u001b[1;32min\u001b[0m \u001b[0mnode_paths\u001b[0m\u001b[1;33m[\u001b[0m\u001b[1;36m0\u001b[0m\u001b[1;33m]\u001b[0m\u001b[1;33m]\u001b[0m\u001b[1;33m)\u001b[0m\u001b[1;33m\u001b[0m\u001b[1;33m\u001b[0m\u001b[0m\n\u001b[0m",
      "\u001b[1;32m~\\AppData\\Local\\Temp\\gen_py\\3.7\\6331B57B-DCD4-4E00-9BFA-D97922D2B1ECx0x9x0\\IPathContainer.py\u001b[0m in \u001b[0;36mAddPath\u001b[1;34m(self, OriginParkingLot, DestinationParkingLot, NodeList)\u001b[0m\n\u001b[0;32m     35\u001b[0m                 \u001b[1;34m'Add a path between two parking lots containing the given nodes.'\u001b[0m\u001b[1;33m\u001b[0m\u001b[1;33m\u001b[0m\u001b[0m\n\u001b[0;32m     36\u001b[0m \t\tret = self._oleobj_.InvokeTypes(1610940418, LCID, 1, (9, 0), ((12, 1), (12, 1), (12, 1)),OriginParkingLot\n\u001b[1;32m---> 37\u001b[1;33m \t\t\t, DestinationParkingLot, NodeList)\n\u001b[0m\u001b[0;32m     38\u001b[0m                 \u001b[1;32mif\u001b[0m \u001b[0mret\u001b[0m \u001b[1;32mis\u001b[0m \u001b[1;32mnot\u001b[0m \u001b[1;32mNone\u001b[0m\u001b[1;33m:\u001b[0m\u001b[1;33m\u001b[0m\u001b[1;33m\u001b[0m\u001b[0m\n\u001b[0;32m     39\u001b[0m                         \u001b[0mret\u001b[0m \u001b[1;33m=\u001b[0m \u001b[0mDispatch\u001b[0m\u001b[1;33m(\u001b[0m\u001b[0mret\u001b[0m\u001b[1;33m,\u001b[0m \u001b[1;34m'AddPath'\u001b[0m\u001b[1;33m,\u001b[0m \u001b[1;34m'{99A6D616-DB7C-4E9F-A07A-B7D2A452A9FA}'\u001b[0m\u001b[1;33m)\u001b[0m\u001b[1;33m\u001b[0m\u001b[1;33m\u001b[0m\u001b[0m\n",
      "\u001b[1;31mcom_error\u001b[0m: (-2147352567, 'Exception occurred.', (0, 'VISSIM.Vissim.900', 'AddPath failed: adjacent node pair in node list with no open edge between nodes.', None, 0, -2147352567), None)"
     ]
    }
   ],
   "source": [
    "vis_net.Paths.AddPath(origin_lot, destination_lot, [str(node) for node in node_paths[0]])"
   ]
  },
  {
   "cell_type": "code",
   "execution_count": 33,
   "metadata": {
    "ExecuteTime": {
     "end_time": "2019-07-07T01:32:50.324967Z",
     "start_time": "2019-07-07T01:32:50.320966Z"
    }
   },
   "outputs": [
    {
     "data": {
      "text/plain": [
       "32528"
      ]
     },
     "execution_count": 33,
     "metadata": {},
     "output_type": "execute_result"
    }
   ],
   "source": [
    "veh.AttValue('No')"
   ]
  },
  {
   "cell_type": "code",
   "execution_count": 37,
   "metadata": {
    "ExecuteTime": {
     "end_time": "2019-07-07T01:51:40.305584Z",
     "start_time": "2019-07-07T01:51:40.289984Z"
    }
   },
   "outputs": [],
   "source": [
    "from pythoncom import com_error"
   ]
  },
  {
   "cell_type": "code",
   "execution_count": 35,
   "metadata": {
    "ExecuteTime": {
     "end_time": "2019-07-07T01:36:36.969669Z",
     "start_time": "2019-07-07T01:36:36.954069Z"
    }
   },
   "outputs": [
    {
     "data": {
      "text/plain": [
       "[1000077,\n",
       " 1000078,\n",
       " 1757,\n",
       " 1000098,\n",
       " 1000070,\n",
       " 45,\n",
       " 1000069,\n",
       " 1000068,\n",
       " 1000099,\n",
       " 1000102,\n",
       " 1000101,\n",
       " 1000100,\n",
       " 1000099,\n",
       " 1000068,\n",
       " 1000069,\n",
       " 45,\n",
       " 1000133,\n",
       " 1000067,\n",
       " 47,\n",
       " 1000057,\n",
       " 1000121,\n",
       " 1000132]"
      ]
     },
     "execution_count": 35,
     "metadata": {},
     "output_type": "execute_result"
    }
   ],
   "source": [
    "node_paths[0]"
   ]
  },
  {
   "cell_type": "code",
   "execution_count": 28,
   "metadata": {
    "ExecuteTime": {
     "end_time": "2019-07-07T01:22:22.652383Z",
     "start_time": "2019-07-07T01:22:22.617782Z"
    },
    "scrolled": true
   },
   "outputs": [
    {
     "name": "stdout",
     "output_type": "stream",
     "text": [
      "752.8113709490541\n"
     ]
    },
    {
     "data": {
      "text/html": [
       "<div>\n",
       "<style scoped>\n",
       "    .dataframe tbody tr th:only-of-type {\n",
       "        vertical-align: middle;\n",
       "    }\n",
       "\n",
       "    .dataframe tbody tr th {\n",
       "        vertical-align: top;\n",
       "    }\n",
       "\n",
       "    .dataframe thead th {\n",
       "        text-align: right;\n",
       "    }\n",
       "</style>\n",
       "<table border=\"1\" class=\"dataframe\">\n",
       "  <thead>\n",
       "    <tr style=\"text-align: right;\">\n",
       "      <th></th>\n",
       "      <th>edge</th>\n",
       "      <th>edge_weights</th>\n",
       "    </tr>\n",
       "  </thead>\n",
       "  <tbody>\n",
       "    <tr>\n",
       "      <th>0</th>\n",
       "      <td>31</td>\n",
       "      <td>15.252632</td>\n",
       "    </tr>\n",
       "    <tr>\n",
       "      <th>1</th>\n",
       "      <td>1070</td>\n",
       "      <td>21.212500</td>\n",
       "    </tr>\n",
       "    <tr>\n",
       "      <th>2</th>\n",
       "      <td>340</td>\n",
       "      <td>6.721250</td>\n",
       "    </tr>\n",
       "    <tr>\n",
       "      <th>3</th>\n",
       "      <td>1077</td>\n",
       "      <td>24.575439</td>\n",
       "    </tr>\n",
       "    <tr>\n",
       "      <th>4</th>\n",
       "      <td>341</td>\n",
       "      <td>53.463107</td>\n",
       "    </tr>\n",
       "    <tr>\n",
       "      <th>5</th>\n",
       "      <td>598</td>\n",
       "      <td>47.222857</td>\n",
       "    </tr>\n",
       "    <tr>\n",
       "      <th>6</th>\n",
       "      <td>52</td>\n",
       "      <td>8.045455</td>\n",
       "    </tr>\n",
       "    <tr>\n",
       "      <th>7</th>\n",
       "      <td>1159</td>\n",
       "      <td>2.643243</td>\n",
       "    </tr>\n",
       "    <tr>\n",
       "      <th>8</th>\n",
       "      <td>386</td>\n",
       "      <td>25.800000</td>\n",
       "    </tr>\n",
       "    <tr>\n",
       "      <th>9</th>\n",
       "      <td>1029</td>\n",
       "      <td>21.800000</td>\n",
       "    </tr>\n",
       "    <tr>\n",
       "      <th>10</th>\n",
       "      <td>317</td>\n",
       "      <td>21.200000</td>\n",
       "    </tr>\n",
       "    <tr>\n",
       "      <th>11</th>\n",
       "      <td>495</td>\n",
       "      <td>3.680000</td>\n",
       "    </tr>\n",
       "    <tr>\n",
       "      <th>12</th>\n",
       "      <td>5</td>\n",
       "      <td>2.120000</td>\n",
       "    </tr>\n",
       "    <tr>\n",
       "      <th>13</th>\n",
       "      <td>1018</td>\n",
       "      <td>13.600000</td>\n",
       "    </tr>\n",
       "    <tr>\n",
       "      <th>14</th>\n",
       "      <td>316</td>\n",
       "      <td>2.136620</td>\n",
       "    </tr>\n",
       "    <tr>\n",
       "      <th>15</th>\n",
       "      <td>1013</td>\n",
       "      <td>5.027586</td>\n",
       "    </tr>\n",
       "    <tr>\n",
       "      <th>16</th>\n",
       "      <td>311</td>\n",
       "      <td>37.169697</td>\n",
       "    </tr>\n",
       "    <tr>\n",
       "      <th>17</th>\n",
       "      <td>1166</td>\n",
       "      <td>20.175758</td>\n",
       "    </tr>\n",
       "    <tr>\n",
       "      <th>18</th>\n",
       "      <td>390</td>\n",
       "      <td>1.566292</td>\n",
       "    </tr>\n",
       "    <tr>\n",
       "      <th>19</th>\n",
       "      <td>1207</td>\n",
       "      <td>4.390244</td>\n",
       "    </tr>\n",
       "    <tr>\n",
       "      <th>20</th>\n",
       "      <td>403</td>\n",
       "      <td>12.778824</td>\n",
       "    </tr>\n",
       "    <tr>\n",
       "      <th>21</th>\n",
       "      <td>1203</td>\n",
       "      <td>7.600000</td>\n",
       "    </tr>\n",
       "    <tr>\n",
       "      <th>22</th>\n",
       "      <td>399</td>\n",
       "      <td>9.765957</td>\n",
       "    </tr>\n",
       "    <tr>\n",
       "      <th>23</th>\n",
       "      <td>1188</td>\n",
       "      <td>6.714286</td>\n",
       "    </tr>\n",
       "    <tr>\n",
       "      <th>24</th>\n",
       "      <td>393</td>\n",
       "      <td>40.789474</td>\n",
       "    </tr>\n",
       "    <tr>\n",
       "      <th>25</th>\n",
       "      <td>1170</td>\n",
       "      <td>33.677778</td>\n",
       "    </tr>\n",
       "    <tr>\n",
       "      <th>26</th>\n",
       "      <td>387</td>\n",
       "      <td>4.989899</td>\n",
       "    </tr>\n",
       "    <tr>\n",
       "      <th>27</th>\n",
       "      <td>1016</td>\n",
       "      <td>4.726531</td>\n",
       "    </tr>\n",
       "    <tr>\n",
       "      <th>28</th>\n",
       "      <td>309</td>\n",
       "      <td>2.148673</td>\n",
       "    </tr>\n",
       "    <tr>\n",
       "      <th>29</th>\n",
       "      <td>1022</td>\n",
       "      <td>21.495745</td>\n",
       "    </tr>\n",
       "    <tr>\n",
       "      <th>30</th>\n",
       "      <td>312</td>\n",
       "      <td>18.442697</td>\n",
       "    </tr>\n",
       "    <tr>\n",
       "      <th>31</th>\n",
       "      <td>493</td>\n",
       "      <td>13.830769</td>\n",
       "    </tr>\n",
       "    <tr>\n",
       "      <th>32</th>\n",
       "      <td>7</td>\n",
       "      <td>9.274797</td>\n",
       "    </tr>\n",
       "    <tr>\n",
       "      <th>33</th>\n",
       "      <td>1307</td>\n",
       "      <td>27.400000</td>\n",
       "    </tr>\n",
       "    <tr>\n",
       "      <th>34</th>\n",
       "      <td>473</td>\n",
       "      <td>5.035036</td>\n",
       "    </tr>\n",
       "    <tr>\n",
       "      <th>35</th>\n",
       "      <td>1007</td>\n",
       "      <td>2.515556</td>\n",
       "    </tr>\n",
       "    <tr>\n",
       "      <th>36</th>\n",
       "      <td>303</td>\n",
       "      <td>5.172368</td>\n",
       "    </tr>\n",
       "    <tr>\n",
       "      <th>37</th>\n",
       "      <td>517</td>\n",
       "      <td>42.600000</td>\n",
       "    </tr>\n",
       "    <tr>\n",
       "      <th>38</th>\n",
       "      <td>10</td>\n",
       "      <td>11.157447</td>\n",
       "    </tr>\n",
       "    <tr>\n",
       "      <th>39</th>\n",
       "      <td>937</td>\n",
       "      <td>5.796629</td>\n",
       "    </tr>\n",
       "    <tr>\n",
       "      <th>40</th>\n",
       "      <td>272</td>\n",
       "      <td>17.593778</td>\n",
       "    </tr>\n",
       "    <tr>\n",
       "      <th>41</th>\n",
       "      <td>1267</td>\n",
       "      <td>4.087097</td>\n",
       "    </tr>\n",
       "    <tr>\n",
       "      <th>42</th>\n",
       "      <td>440</td>\n",
       "      <td>72.387500</td>\n",
       "    </tr>\n",
       "    <tr>\n",
       "      <th>43</th>\n",
       "      <td>1304</td>\n",
       "      <td>0.933333</td>\n",
       "    </tr>\n",
       "    <tr>\n",
       "      <th>44</th>\n",
       "      <td>468</td>\n",
       "      <td>34.094521</td>\n",
       "    </tr>\n",
       "  </tbody>\n",
       "</table>\n",
       "</div>"
      ],
      "text/plain": [
       "    edge  edge_weights\n",
       "0     31     15.252632\n",
       "1   1070     21.212500\n",
       "2    340      6.721250\n",
       "3   1077     24.575439\n",
       "4    341     53.463107\n",
       "5    598     47.222857\n",
       "6     52      8.045455\n",
       "7   1159      2.643243\n",
       "8    386     25.800000\n",
       "9   1029     21.800000\n",
       "10   317     21.200000\n",
       "11   495      3.680000\n",
       "12     5      2.120000\n",
       "13  1018     13.600000\n",
       "14   316      2.136620\n",
       "15  1013      5.027586\n",
       "16   311     37.169697\n",
       "17  1166     20.175758\n",
       "18   390      1.566292\n",
       "19  1207      4.390244\n",
       "20   403     12.778824\n",
       "21  1203      7.600000\n",
       "22   399      9.765957\n",
       "23  1188      6.714286\n",
       "24   393     40.789474\n",
       "25  1170     33.677778\n",
       "26   387      4.989899\n",
       "27  1016      4.726531\n",
       "28   309      2.148673\n",
       "29  1022     21.495745\n",
       "30   312     18.442697\n",
       "31   493     13.830769\n",
       "32     7      9.274797\n",
       "33  1307     27.400000\n",
       "34   473      5.035036\n",
       "35  1007      2.515556\n",
       "36   303      5.172368\n",
       "37   517     42.600000\n",
       "38    10     11.157447\n",
       "39   937      5.796629\n",
       "40   272     17.593778\n",
       "41  1267      4.087097\n",
       "42   440     72.387500\n",
       "43  1304      0.933333\n",
       "44   468     34.094521"
      ]
     },
     "execution_count": 28,
     "metadata": {},
     "output_type": "execute_result"
    }
   ],
   "source": [
    "edge_weights = network_graph.es[[ed - 1 for ed in edge_paths[0]]]['weight']\n",
    "print(sum(edge_weights))\n",
    "pd.DataFrame(list(zip(edge_paths[0], edge_weights)), columns=['edge', 'edge_weights'])"
   ]
  },
  {
   "cell_type": "code",
   "execution_count": 29,
   "metadata": {
    "ExecuteTime": {
     "end_time": "2019-07-07T01:22:28.573674Z",
     "start_time": "2019-07-07T01:22:28.551673Z"
    },
    "scrolled": true
   },
   "outputs": [
    {
     "name": "stdout",
     "output_type": "stream",
     "text": [
      "1302.5067067757254\n"
     ]
    },
    {
     "data": {
      "text/html": [
       "<div>\n",
       "<style scoped>\n",
       "    .dataframe tbody tr th:only-of-type {\n",
       "        vertical-align: middle;\n",
       "    }\n",
       "\n",
       "    .dataframe tbody tr th {\n",
       "        vertical-align: top;\n",
       "    }\n",
       "\n",
       "    .dataframe thead th {\n",
       "        text-align: right;\n",
       "    }\n",
       "</style>\n",
       "<table border=\"1\" class=\"dataframe\">\n",
       "  <thead>\n",
       "    <tr style=\"text-align: right;\">\n",
       "      <th></th>\n",
       "      <th>edge</th>\n",
       "      <th>edge_weights</th>\n",
       "    </tr>\n",
       "  </thead>\n",
       "  <tbody>\n",
       "    <tr>\n",
       "      <th>0</th>\n",
       "      <td>31</td>\n",
       "      <td>15.252632</td>\n",
       "    </tr>\n",
       "    <tr>\n",
       "      <th>1</th>\n",
       "      <td>1070</td>\n",
       "      <td>21.212500</td>\n",
       "    </tr>\n",
       "    <tr>\n",
       "      <th>2</th>\n",
       "      <td>340</td>\n",
       "      <td>6.721250</td>\n",
       "    </tr>\n",
       "    <tr>\n",
       "      <th>3</th>\n",
       "      <td>1077</td>\n",
       "      <td>24.575439</td>\n",
       "    </tr>\n",
       "    <tr>\n",
       "      <th>4</th>\n",
       "      <td>341</td>\n",
       "      <td>53.463107</td>\n",
       "    </tr>\n",
       "    <tr>\n",
       "      <th>5</th>\n",
       "      <td>596</td>\n",
       "      <td>96.156604</td>\n",
       "    </tr>\n",
       "    <tr>\n",
       "      <th>6</th>\n",
       "      <td>48</td>\n",
       "      <td>35.200000</td>\n",
       "    </tr>\n",
       "    <tr>\n",
       "      <th>7</th>\n",
       "      <td>1044</td>\n",
       "      <td>42.200000</td>\n",
       "    </tr>\n",
       "    <tr>\n",
       "      <th>8</th>\n",
       "      <td>328</td>\n",
       "      <td>59.600000</td>\n",
       "    </tr>\n",
       "    <tr>\n",
       "      <th>9</th>\n",
       "      <td>1042</td>\n",
       "      <td>72.000000</td>\n",
       "    </tr>\n",
       "    <tr>\n",
       "      <th>10</th>\n",
       "      <td>324</td>\n",
       "      <td>69.800000</td>\n",
       "    </tr>\n",
       "    <tr>\n",
       "      <th>11</th>\n",
       "      <td>763</td>\n",
       "      <td>229.400000</td>\n",
       "    </tr>\n",
       "    <tr>\n",
       "      <th>12</th>\n",
       "      <td>197</td>\n",
       "      <td>183.800000</td>\n",
       "    </tr>\n",
       "    <tr>\n",
       "      <th>13</th>\n",
       "      <td>1225</td>\n",
       "      <td>201.200000</td>\n",
       "    </tr>\n",
       "    <tr>\n",
       "      <th>14</th>\n",
       "      <td>405</td>\n",
       "      <td>37.467580</td>\n",
       "    </tr>\n",
       "    <tr>\n",
       "      <th>15</th>\n",
       "      <td>521</td>\n",
       "      <td>8.407292</td>\n",
       "    </tr>\n",
       "    <tr>\n",
       "      <th>16</th>\n",
       "      <td>10</td>\n",
       "      <td>11.157447</td>\n",
       "    </tr>\n",
       "    <tr>\n",
       "      <th>17</th>\n",
       "      <td>937</td>\n",
       "      <td>5.796629</td>\n",
       "    </tr>\n",
       "    <tr>\n",
       "      <th>18</th>\n",
       "      <td>272</td>\n",
       "      <td>17.593778</td>\n",
       "    </tr>\n",
       "    <tr>\n",
       "      <th>19</th>\n",
       "      <td>1267</td>\n",
       "      <td>4.087097</td>\n",
       "    </tr>\n",
       "    <tr>\n",
       "      <th>20</th>\n",
       "      <td>440</td>\n",
       "      <td>72.387500</td>\n",
       "    </tr>\n",
       "    <tr>\n",
       "      <th>21</th>\n",
       "      <td>1304</td>\n",
       "      <td>0.933333</td>\n",
       "    </tr>\n",
       "    <tr>\n",
       "      <th>22</th>\n",
       "      <td>468</td>\n",
       "      <td>34.094521</td>\n",
       "    </tr>\n",
       "  </tbody>\n",
       "</table>\n",
       "</div>"
      ],
      "text/plain": [
       "    edge  edge_weights\n",
       "0     31     15.252632\n",
       "1   1070     21.212500\n",
       "2    340      6.721250\n",
       "3   1077     24.575439\n",
       "4    341     53.463107\n",
       "5    596     96.156604\n",
       "6     48     35.200000\n",
       "7   1044     42.200000\n",
       "8    328     59.600000\n",
       "9   1042     72.000000\n",
       "10   324     69.800000\n",
       "11   763    229.400000\n",
       "12   197    183.800000\n",
       "13  1225    201.200000\n",
       "14   405     37.467580\n",
       "15   521      8.407292\n",
       "16    10     11.157447\n",
       "17   937      5.796629\n",
       "18   272     17.593778\n",
       "19  1267      4.087097\n",
       "20   440     72.387500\n",
       "21  1304      0.933333\n",
       "22   468     34.094521"
      ]
     },
     "execution_count": 29,
     "metadata": {},
     "output_type": "execute_result"
    }
   ],
   "source": [
    "edges = [int(ed) for ed in veh.Path.AttValue('EdgeSeq').split(',')]\n",
    "edge_weights = network_graph.es[[ed - 1 for ed in edges]]['weight']\n",
    "print(sum(edge_weights))\n",
    "pd.DataFrame(list(zip(edges, edge_weights)), columns=['edge', 'edge_weights'])"
   ]
  },
  {
   "cell_type": "code",
   "execution_count": null,
   "metadata": {},
   "outputs": [],
   "source": [
    "Vissim.Simulation.RunContinuous()"
   ]
  },
  {
   "cell_type": "code",
   "execution_count": null,
   "metadata": {},
   "outputs": [],
   "source": [
    "Vissim.Exit()"
   ]
  }
 ],
 "metadata": {
  "kernelspec": {
   "display_name": "Python 3",
   "language": "python",
   "name": "python3"
  },
  "language_info": {
   "codemirror_mode": {
    "name": "ipython",
    "version": 3
   },
   "file_extension": ".py",
   "mimetype": "text/x-python",
   "name": "python",
   "nbconvert_exporter": "python",
   "pygments_lexer": "ipython3",
   "version": "3.7.3"
  },
  "varInspector": {
   "cols": {
    "lenName": 16,
    "lenType": 16,
    "lenVar": 40
   },
   "kernels_config": {
    "python": {
     "delete_cmd_postfix": "",
     "delete_cmd_prefix": "del ",
     "library": "var_list.py",
     "varRefreshCmd": "print(var_dic_list())"
    },
    "r": {
     "delete_cmd_postfix": ") ",
     "delete_cmd_prefix": "rm(",
     "library": "var_list.r",
     "varRefreshCmd": "cat(var_dic_list()) "
    }
   },
   "position": {
    "height": "620px",
    "left": "588px",
    "right": "20px",
    "top": "180px",
    "width": "743px"
   },
   "types_to_exclude": [
    "module",
    "function",
    "builtin_function_or_method",
    "instance",
    "_Feature"
   ],
   "window_display": false
  }
 },
 "nbformat": 4,
 "nbformat_minor": 2
}

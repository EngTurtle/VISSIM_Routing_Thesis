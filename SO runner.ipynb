{
 "cells": [
  {
   "cell_type": "markdown",
   "metadata": {},
   "source": [
    "## Initiate the vissim instance"
   ]
  },
  {
   "cell_type": "code",
   "execution_count": 1,
   "metadata": {},
   "outputs": [],
   "source": [
    "# COM-Server\n",
    "import win32com.client as com\n",
    "import igraph\n",
    "import matplotlib.pyplot as plt\n",
    "import qgrid\n",
    "from VISSIM_helpers import VissimRoadNet\n",
    "from os.path import abspath\n",
    "import pandas as pd"
   ]
  },
  {
   "cell_type": "markdown",
   "metadata": {},
   "source": [
    "Add autocompletion for VISSIM COM Object"
   ]
  },
  {
   "cell_type": "code",
   "execution_count": 2,
   "metadata": {},
   "outputs": [],
   "source": [
    "from IPython.utils.generics import complete_object\n",
    "\n",
    "@complete_object.register(com.DispatchBaseClass)\n",
    "def complete_dispatch_base_class(obj, prev_completions):\n",
    "    try:\n",
    "        ole_props = set(obj._prop_map_get_).union(set(obj._prop_map_put_))\n",
    "        return list(ole_props) + prev_completions\n",
    "    except AttributeError:\n",
    "        pass"
   ]
  },
  {
   "cell_type": "markdown",
   "metadata": {},
   "source": [
    "Start Vissim and load constants"
   ]
  },
  {
   "cell_type": "code",
   "execution_count": 3,
   "metadata": {},
   "outputs": [],
   "source": [
    "Vissim = com.gencache.EnsureDispatch(\"Vissim.Vissim\")\n",
    "from win32com.client import constants as c"
   ]
  },
  {
   "cell_type": "markdown",
   "metadata": {},
   "source": [
    "Load the test network"
   ]
  },
  {
   "cell_type": "code",
   "execution_count": 4,
   "metadata": {
    "scrolled": false
   },
   "outputs": [],
   "source": [
    "FileName = abspath(r\"..\\SO sim files\\Vol100per.inpx\")\n",
    "Vissim.LoadNet(FileName)"
   ]
  },
  {
   "cell_type": "markdown",
   "metadata": {},
   "source": [
    "Read dynamic assignment network"
   ]
  },
  {
   "cell_type": "code",
   "execution_count": 5,
   "metadata": {},
   "outputs": [],
   "source": [
    "vis_net = Vissim.Net\n",
    "vis_net.Paths.ReadDynAssignPathFile()"
   ]
  },
  {
   "cell_type": "code",
   "execution_count": 6,
   "metadata": {},
   "outputs": [],
   "source": [
    "network_graph = VissimRoadNet(vis_net)"
   ]
  },
  {
   "cell_type": "code",
   "execution_count": 7,
   "metadata": {},
   "outputs": [],
   "source": [
    "ref_edge_list = pd.read_pickle(\"edges_attr.pkl.gz\")\n",
    "assert (network_graph.visedges['ToNode'] == ref_edge_list['ToNode']).all()"
   ]
  },
  {
   "cell_type": "code",
   "execution_count": 8,
   "metadata": {},
   "outputs": [],
   "source": [
    "Vissim.Graphics.CurrentNetworkWindow.SetAttValue(\"QuickMode\", 1)"
   ]
  },
  {
   "cell_type": "code",
   "execution_count": 9,
   "metadata": {},
   "outputs": [
    {
     "name": "stdout",
     "output_type": "stream",
     "text": [
      " "
     ]
    }
   ],
   "source": [
    "def time_paths():\n",
    "    paths = {}\n",
    "    while True:\n",
    "        Vissim.Simulation.RunSingleStep()\n",
    "        new_vehs = vis_net.Vehicles.GetDeparted()\n",
    "        vehs = new_vehs.GetMultipleAttributes(['No', 'OrigParkLot', 'DestParkLot', 'Path'])\n",
    "        for veh in vehs:\n",
    "            paths[int(veh[0])] = network_graph.parking_lot_route(int(veh[1]), int(veh[2]))\n",
    "        if Vissim.Simulation.SimulationSecond > 300:\n",
    "            break\n",
    "    return paths\n",
    "\n",
    "%prun paths = time_paths()"
   ]
  },
  {
   "cell_type": "code",
   "execution_count": 86,
   "metadata": {},
   "outputs": [],
   "source": [
    "Vissim.Exit()"
   ]
  }
 ],
 "metadata": {
  "kernelspec": {
   "display_name": "Python 3",
   "language": "python",
   "name": "python3"
  },
  "language_info": {
   "codemirror_mode": {
    "name": "ipython",
    "version": 3
   },
   "file_extension": ".py",
   "mimetype": "text/x-python",
   "name": "python",
   "nbconvert_exporter": "python",
   "pygments_lexer": "ipython3",
   "version": "3.7.3"
  },
  "varInspector": {
   "cols": {
    "lenName": 16,
    "lenType": 16,
    "lenVar": 40
   },
   "kernels_config": {
    "python": {
     "delete_cmd_postfix": "",
     "delete_cmd_prefix": "del ",
     "library": "var_list.py",
     "varRefreshCmd": "print(var_dic_list())"
    },
    "r": {
     "delete_cmd_postfix": ") ",
     "delete_cmd_prefix": "rm(",
     "library": "var_list.r",
     "varRefreshCmd": "cat(var_dic_list()) "
    }
   },
   "types_to_exclude": [
    "module",
    "function",
    "builtin_function_or_method",
    "instance",
    "_Feature"
   ],
   "window_display": false
  }
 },
 "nbformat": 4,
 "nbformat_minor": 2
}

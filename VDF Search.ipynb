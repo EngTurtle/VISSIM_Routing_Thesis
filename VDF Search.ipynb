{
 "cells": [
  {
   "cell_type": "markdown",
   "metadata": {},
   "source": [
    "# VDF Function Search For edges"
   ]
  },
  {
   "cell_type": "markdown",
   "metadata": {},
   "source": [
    "In order to apply any system optimal route assignment algorithms, volume delay functions for each edge in the graph has to be defined. This will be estimated from volume travel time pairs recorded from 4 simulations runs, each with 20 iterations. The travel volume was scaled from 10% to 100% at a step of 10% per iteration, so the the final 10 iterations of each run are all at 100% volume."
   ]
  },
  {
   "cell_type": "code",
   "execution_count": 1,
   "metadata": {
    "pycharm": {
     "is_executing": false
    }
   },
   "outputs": [
    {
     "data": {
      "text/html": [
       "        <script type=\"text/javascript\">\n",
       "        window.PlotlyConfig = {MathJaxConfig: 'local'};\n",
       "        if (window.MathJax) {MathJax.Hub.Config({SVG: {font: \"STIX-Web\"}});}\n",
       "        if (typeof require !== 'undefined') {\n",
       "        require.undef(\"plotly\");\n",
       "        requirejs.config({\n",
       "            paths: {\n",
       "                'plotly': ['https://cdn.plot.ly/plotly-latest.min']\n",
       "            }\n",
       "        });\n",
       "        require(['plotly'], function(Plotly) {\n",
       "            window._Plotly = Plotly;\n",
       "        });\n",
       "        }\n",
       "        </script>\n",
       "        "
      ]
     },
     "metadata": {},
     "output_type": "display_data"
    },
    {
     "data": {
      "text/html": [
       "        <script type=\"text/javascript\">\n",
       "        window.PlotlyConfig = {MathJaxConfig: 'local'};\n",
       "        if (window.MathJax) {MathJax.Hub.Config({SVG: {font: \"STIX-Web\"}});}\n",
       "        if (typeof require !== 'undefined') {\n",
       "        require.undef(\"plotly\");\n",
       "        requirejs.config({\n",
       "            paths: {\n",
       "                'plotly': ['https://cdn.plot.ly/plotly-latest.min']\n",
       "            }\n",
       "        });\n",
       "        require(['plotly'], function(Plotly) {\n",
       "            window._Plotly = Plotly;\n",
       "        });\n",
       "        }\n",
       "        </script>\n",
       "        "
      ]
     },
     "metadata": {},
     "output_type": "display_data"
    }
   ],
   "source": [
    "import qgrid\n",
    "import pandas as pd\n",
    "from ipywidgets import interact, interact_manual\n",
    "import ipywidgets as widgets\n",
    "\n",
    "# Standard plotly imports\n",
    "import plotly.plotly as py\n",
    "import plotly.graph_objs as go\n",
    "from plotly.offline import iplot, init_notebook_mode\n",
    "# Using plotly + cufflinks in offline mode\n",
    "import cufflinks\n",
    "cufflinks.go_offline(connected=True)\n",
    "init_notebook_mode(connected=True)"
   ]
  },
  {
   "cell_type": "code",
   "execution_count": 2,
   "metadata": {
    "pycharm": {
     "is_executing": false
    }
   },
   "outputs": [],
   "source": [
    "edge_volume_time = pd.read_pickle(r\"..\\Urban Freeway Dyn Assign Redmond.US\\edgeVolTime.pk1\")\n",
    "edge_attr = pd.read_pickle(r\"..\\Urban Freeway Dyn Assign Redmond.US\\edges_attr.pk1\")"
   ]
  },
  {
   "cell_type": "code",
   "execution_count": 3,
   "metadata": {
    "pycharm": {
     "is_executing": false
    },
    "scrolled": true
   },
   "outputs": [
    {
     "data": {
      "application/vnd.jupyter.widget-view+json": {
       "model_id": "d7b5bbdc1ed54f969e76fb2983f739a3",
       "version_major": 2,
       "version_minor": 0
      },
      "text/plain": [
       "QgridWidget(grid_options={'fullWidthRows': True, 'syncColumnCellResize': True, 'forceFitColumns': True, 'defau…"
      ]
     },
     "metadata": {},
     "output_type": "display_data"
    }
   ],
   "source": [
    "qgrid.show_grid(edge_volume_time, grid_options={'editable': False,})"
   ]
  },
  {
   "cell_type": "code",
   "execution_count": 4,
   "metadata": {},
   "outputs": [
    {
     "data": {
      "application/vnd.jupyter.widget-view+json": {
       "model_id": "4711e9baa19b4700b6a027fb4b5068da",
       "version_major": 2,
       "version_minor": 0
      },
      "text/plain": [
       "QgridWidget(grid_options={'fullWidthRows': True, 'syncColumnCellResize': True, 'forceFitColumns': True, 'defau…"
      ]
     },
     "metadata": {},
     "output_type": "display_data"
    }
   ],
   "source": [
    "qgrid.show_grid(edge_attr, grid_options={'editable': False,})"
   ]
  },
  {
   "cell_type": "markdown",
   "metadata": {},
   "source": [
    "## Create interactive travel time vs 15 min volume plot"
   ]
  },
  {
   "cell_type": "code",
   "execution_count": 7,
   "metadata": {
    "scrolled": true
   },
   "outputs": [],
   "source": [
    "def plot_VD(edge: int, veh_type: str, min_period: int):\n",
    "    \n",
    "    # Filter for plotting\n",
    "    plotting_frame = edge_volume_time.loc[(edge_volume_time['NO'] == edge) & \n",
    "                                          (edge_volume_time['VehType'] == veh_type) &\n",
    "                                          (edge_volume_time['Period'] >= min_period), :]\n",
    "    \n",
    "    # get different iteration series for plotly\n",
    "    data = [go.Scatter(\n",
    "        x = plotting_frame.VOLNEW,\n",
    "        y = plotting_frame.TRAVTMNEW,\n",
    "        mode = 'markers',\n",
    "        marker = dict(\n",
    "            color = plotting_frame.ITR,\n",
    "            colorbar = dict(title='Sim Iteration'),\n",
    "            colorscale='Bluered'\n",
    "        )\n",
    "    )]\n",
    "    \n",
    "    fig = {\n",
    "        'data': data,\n",
    "        'layout': {\n",
    "            'xaxis': {'title': '15 min Volume (count)', 'rangemode': 'tozero'},\n",
    "            'yaxis': {'title': \"Average Vehicle Travel Time (s)\", 'rangemode': 'tozero'},\n",
    "            'template': 'plotly_dark'\n",
    "        }\n",
    "    }\n",
    "    \n",
    "    iplot(fig) # print plot"
   ]
  },
  {
   "cell_type": "code",
   "execution_count": 8,
   "metadata": {},
   "outputs": [
    {
     "data": {
      "application/vnd.jupyter.widget-view+json": {
       "model_id": "20cc28129db242a1b077f6165cce7fe9",
       "version_major": 2,
       "version_minor": 0
      },
      "text/plain": [
       "interactive(children=(IntSlider(value=1, description='Network Edge:', layout=Layout(width='80%'), max=1327, mi…"
      ]
     },
     "metadata": {},
     "output_type": "display_data"
    }
   ],
   "source": [
    "# Create interactive plot\n",
    "# Build widgets\n",
    "style = {'description_width': 'initial'}\n",
    "layout=widgets.Layout(width='80%')\n",
    "edge_wig = widgets.IntSlider(min=edge_attr.index.min(),\n",
    "                             max=edge_attr.index.max(),\n",
    "                             step=1,\n",
    "                             description='Network Edge:',\n",
    "                             value=1,\n",
    "                             style=style,\n",
    "                             layout=layout)\n",
    "veh_type_wig = widgets.Dropdown(options=list(edge_volume_time['VehType'].unique()),\n",
    "                                description='Vehicle Type:',\n",
    "                                value='ALL',\n",
    "                                style=style)\n",
    "min_period_wig = widgets.IntSlider(min=edge_volume_time['Period'].min(),\n",
    "                                   max=edge_volume_time['Period'].max(),\n",
    "                                   step=1,\n",
    "                                   description='Minimum data period:',\n",
    "                                   style=style,\n",
    "                                   layout=layout)\n",
    "# Final plot\n",
    "interact(plot_VD, edge=edge_wig, veh_type=veh_type_wig, min_period=min_period_wig);"
   ]
  }
 ],
 "metadata": {
  "kernelspec": {
   "display_name": "Python 3",
   "language": "python",
   "name": "python3"
  },
  "language_info": {
   "codemirror_mode": {
    "name": "ipython",
    "version": 3
   },
   "file_extension": ".py",
   "mimetype": "text/x-python",
   "name": "python",
   "nbconvert_exporter": "python",
   "pygments_lexer": "ipython3",
   "version": "3.7.3"
  },
  "pycharm": {
   "stem_cell": {
    "cell_type": "raw",
    "metadata": {
     "collapsed": false
    },
    "source": []
   }
  },
  "toc": {
   "base_numbering": 1,
   "nav_menu": {},
   "number_sections": true,
   "sideBar": true,
   "skip_h1_title": false,
   "title_cell": "Table of Contents",
   "title_sidebar": "Contents",
   "toc_cell": false,
   "toc_position": {},
   "toc_section_display": true,
   "toc_window_display": false
  },
  "varInspector": {
   "cols": {
    "lenName": 16,
    "lenType": 16,
    "lenVar": 40
   },
   "kernels_config": {
    "python": {
     "delete_cmd_postfix": "",
     "delete_cmd_prefix": "del ",
     "library": "var_list.py",
     "varRefreshCmd": "print(var_dic_list())"
    },
    "r": {
     "delete_cmd_postfix": ") ",
     "delete_cmd_prefix": "rm(",
     "library": "var_list.r",
     "varRefreshCmd": "cat(var_dic_list()) "
    }
   },
   "types_to_exclude": [
    "module",
    "function",
    "builtin_function_or_method",
    "instance",
    "_Feature"
   ],
   "window_display": false
  }
 },
 "nbformat": 4,
 "nbformat_minor": 2
}
